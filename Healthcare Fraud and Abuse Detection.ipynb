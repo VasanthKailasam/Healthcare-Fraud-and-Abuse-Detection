{
 "cells": [
  {
   "cell_type": "markdown",
   "metadata": {
    "toc": true
   },
   "source": [
    "<h1>Table of Contents<span class=\"tocSkip\"></span></h1>\n",
    "<div class=\"toc\" style=\"margin-top: 1em;\"><ul class=\"toc-item\"><li><span><a href=\"#HEALTHCARE-FRAUD-AND-ABUSE-DETECTION-ANALYSIS\" data-toc-modified-id=\"HEALTHCARE-FRAUD-AND-ABUSE-DETECTION-ANALYSIS-1\"><span class=\"toc-item-num\">1&nbsp;&nbsp;</span>HEALTHCARE FRAUD AND ABUSE DETECTION ANALYSIS</a></span></li><li><span><a href=\"#Project-Objectives\" data-toc-modified-id=\"Project-Objectives-2\"><span class=\"toc-item-num\">2&nbsp;&nbsp;</span>Project Objectives</a></span></li><li><span><a href=\"#Introduction-to-the-Dataset\" data-toc-modified-id=\"Introduction-to-the-Dataset-3\"><span class=\"toc-item-num\">3&nbsp;&nbsp;</span>Introduction to the Dataset</a></span><ul class=\"toc-item\"><li><span><a href=\"#Importing-all-packages\" data-toc-modified-id=\"Importing-all-packages-3.1\"><span class=\"toc-item-num\">3.1&nbsp;&nbsp;</span>Importing all packages</a></span></li><li><span><a href=\"#Loading-the-dataset\" data-toc-modified-id=\"Loading-the-dataset-3.2\"><span class=\"toc-item-num\">3.2&nbsp;&nbsp;</span>Loading the dataset</a></span></li><li><span><a href=\"#Features-Explanation\" data-toc-modified-id=\"Features-Explanation-3.3\"><span class=\"toc-item-num\">3.3&nbsp;&nbsp;</span>Features Explanation</a></span></li></ul></li><li><span><a href=\"#Method-1---Basic-Explorations\" data-toc-modified-id=\"Method-1---Basic-Explorations-4\"><span class=\"toc-item-num\">4&nbsp;&nbsp;</span>Method 1 - Basic Explorations</a></span><ul class=\"toc-item\"><li><span><a href=\"#Individual-Providers-vs-Organizations\" data-toc-modified-id=\"Individual-Providers-vs-Organizations-4.1\"><span class=\"toc-item-num\">4.1&nbsp;&nbsp;</span>Individual Providers vs Organizations</a></span></li><li><span><a href=\"#Total-Amount-Paid-by-Medicare-in-2014\" data-toc-modified-id=\"Total-Amount-Paid-by-Medicare-in-2014-4.2\"><span class=\"toc-item-num\">4.2&nbsp;&nbsp;</span>Total Amount Paid by Medicare in 2014</a></span></li><li><span><a href=\"#Top-10-highest-Paid-Physicians-in-2014\" data-toc-modified-id=\"Top-10-highest-Paid-Physicians-in-2014-4.3\"><span class=\"toc-item-num\">4.3&nbsp;&nbsp;</span>Top 10 highest Paid Physicians in 2014</a></span></li><li><span><a href=\"#Cumulative-Sum-of-Physicians\" data-toc-modified-id=\"Cumulative-Sum-of-Physicians-4.4\"><span class=\"toc-item-num\">4.4&nbsp;&nbsp;</span>Cumulative Sum of Physicians</a></span></li><li><span><a href=\"#Top-10-States-by-Medicare-Expenditure\" data-toc-modified-id=\"Top-10-States-by-Medicare-Expenditure-4.5\"><span class=\"toc-item-num\">4.5&nbsp;&nbsp;</span>Top 10 States by Medicare Expenditure</a></span></li><li><span><a href=\"#Allowed-Amount-vs-Charged-Amount\" data-toc-modified-id=\"Allowed-Amount-vs-Charged-Amount-4.6\"><span class=\"toc-item-num\">4.6&nbsp;&nbsp;</span>Allowed Amount vs Charged Amount</a></span></li><li><span><a href=\"#Outliers---The-2-Most-Costliest-Procedures\" data-toc-modified-id=\"Outliers---The-2-Most-Costliest-Procedures-4.7\"><span class=\"toc-item-num\">4.7&nbsp;&nbsp;</span>Outliers - The 2 Most Costliest Procedures</a></span></li><li><span><a href=\"#Violin-Plot---Charged,-Allowed-&amp;-Paid-Amount\" data-toc-modified-id=\"Violin-Plot---Charged,-Allowed-&amp;-Paid-Amount-4.8\"><span class=\"toc-item-num\">4.8&nbsp;&nbsp;</span>Violin Plot - Charged, Allowed &amp; Paid Amount</a></span></li><li><span><a href=\"#Highly-Reimbursed-Procedures\" data-toc-modified-id=\"Highly-Reimbursed-Procedures-4.9\"><span class=\"toc-item-num\">4.9&nbsp;&nbsp;</span>Highly Reimbursed Procedures</a></span></li></ul></li><li><span><a href=\"#Method-2---Similarity-Grouping\" data-toc-modified-id=\"Method-2---Similarity-Grouping-5\"><span class=\"toc-item-num\">5&nbsp;&nbsp;</span>Method 2 - Similarity Grouping</a></span><ul class=\"toc-item\"><li><span><a href=\"#Example-1---Opthalmology-(HCPCS-92002---92499)\" data-toc-modified-id=\"Example-1---Opthalmology-(HCPCS-92002---92499)-5.1\"><span class=\"toc-item-num\">5.1&nbsp;&nbsp;</span>Example 1 - Opthalmology (HCPCS 92002 - 92499)</a></span></li><li><span><a href=\"#Example-2---Psychiatry-(HCPCS-90801---90899)\" data-toc-modified-id=\"Example-2---Psychiatry-(HCPCS-90801---90899)-5.2\"><span class=\"toc-item-num\">5.2&nbsp;&nbsp;</span>Example 2 - Psychiatry (HCPCS 90801 - 90899)</a></span></li></ul></li><li><span><a href=\"#Method-3---Complexity-of-Clinical-Visits\" data-toc-modified-id=\"Method-3---Complexity-of-Clinical-Visits-6\"><span class=\"toc-item-num\">6&nbsp;&nbsp;</span>Method 3 - Complexity of Clinical Visits</a></span><ul class=\"toc-item\"><li><span><a href=\"#Family-Practioners\" data-toc-modified-id=\"Family-Practioners-6.1\"><span class=\"toc-item-num\">6.1&nbsp;&nbsp;</span>Family Practioners</a></span><ul class=\"toc-item\"><li><span><a href=\"#Percentages-in-each-level-of-clinical-visit\" data-toc-modified-id=\"Percentages-in-each-level-of-clinical-visit-6.1.1\"><span class=\"toc-item-num\">6.1.1&nbsp;&nbsp;</span>Percentages in each level of clinical visit</a></span></li></ul></li></ul></li><li><span><a href=\"#Method-4---Clustering\" data-toc-modified-id=\"Method-4---Clustering-7\"><span class=\"toc-item-num\">7&nbsp;&nbsp;</span>Method 4 - Clustering</a></span><ul class=\"toc-item\"><li><span><a href=\"#Normalization\" data-toc-modified-id=\"Normalization-7.1\"><span class=\"toc-item-num\">7.1&nbsp;&nbsp;</span>Normalization</a></span></li><li><span><a href=\"#Dimensionality-Reduction---PCA\" data-toc-modified-id=\"Dimensionality-Reduction---PCA-7.2\"><span class=\"toc-item-num\">7.2&nbsp;&nbsp;</span>Dimensionality Reduction - PCA</a></span></li><li><span><a href=\"#Calculating-WSS-values-for-k=1-to-9\" data-toc-modified-id=\"Calculating-WSS-values-for-k=1-to-9-7.3\"><span class=\"toc-item-num\">7.3&nbsp;&nbsp;</span>Calculating WSS values for k=1 to 9</a></span></li><li><span><a href=\"#Elbow-Plot-to-determine-optimal-K\" data-toc-modified-id=\"Elbow-Plot-to-determine-optimal-K-7.4\"><span class=\"toc-item-num\">7.4&nbsp;&nbsp;</span>Elbow Plot to determine optimal K</a></span></li><li><span><a href=\"#K-Means-Clustering\" data-toc-modified-id=\"K-Means-Clustering-7.5\"><span class=\"toc-item-num\">7.5&nbsp;&nbsp;</span>K-Means Clustering</a></span></li><li><span><a href=\"#3-D-plot-of-centroids\" data-toc-modified-id=\"3-D-plot-of-centroids-7.6\"><span class=\"toc-item-num\">7.6&nbsp;&nbsp;</span>3-D plot of centroids</a></span><ul class=\"toc-item\"><li><span><a href=\"#Visualizing-all-three-clusters\" data-toc-modified-id=\"Visualizing-all-three-clusters-7.6.1\"><span class=\"toc-item-num\">7.6.1&nbsp;&nbsp;</span>Visualizing all three clusters</a></span></li></ul></li><li><span><a href=\"#Services-vs-Cost-vs-Clusters\" data-toc-modified-id=\"Services-vs-Cost-vs-Clusters-7.7\"><span class=\"toc-item-num\">7.7&nbsp;&nbsp;</span>Services vs Cost vs Clusters</a></span></li></ul></li><li><span><a href=\"#Conclusion\" data-toc-modified-id=\"Conclusion-8\"><span class=\"toc-item-num\">8&nbsp;&nbsp;</span>Conclusion</a></span></li></ul></div>"
   ]
  },
  {
   "cell_type": "markdown",
   "metadata": {},
   "source": [
    "# HEALTHCARE FRAUD AND ABUSE DETECTION ANALYSIS"
   ]
  },
  {
   "cell_type": "markdown",
   "metadata": {
    "code_folding": []
   },
   "source": [
    "# Project Objectives\n",
    "\n",
    "Provider Fraud and Abuse is one of the biggest problems facing Medicare. According to the government, the total Medicare spending for the year 2010 was 520 billion, of which the loss of money due to fraud was about 47 billion. [https://www.cbo.gov/publication/41880]. \n",
    "\n",
    "Rigorous analysis of Medicare data has yielded many physicians who indulge in fraud. In fact, in May of this year, 2017, Salomon Melgen, a Florida Opthalmologist, was convicted of 67 counts of Medicare fraud, after the 2014 CMS data showed that he was Number 1 recipient of Medicare dollars (20 million dollars) and further investigation revealed that he billed for procedures that were medically unnecessary or never performed.  \n",
    "\n",
    "Healthcare fraud and abuse takes many forms. Some of the most common types of frauds by providers are:\n",
    "\n",
    "a) Billing for services that were not provided.\n",
    "\n",
    "b) Duplicate submission of a claim for the same service.\n",
    "\n",
    "c) Misrepresenting the service provided.\n",
    "\n",
    "d) \"Upcoding\" - charging for a more complex or expensive service than was actually provided.\n",
    "\n",
    "e) Billing for a covered service when the service actually provided was not covered.\n",
    "   [Source: https://www.bcbsnc.com/content/corporate/fraud/index.htm#fraud ]\n",
    "   \n",
    "\n",
    "**The goal of this project is not to discover the actual fradulent billings themselves but to explore the many different ways in which we can identify fraud and abuse in Medicare Provider Billing.**\n"
   ]
  },
  {
   "cell_type": "markdown",
   "metadata": {},
   "source": [
    "# Introduction to the Dataset \n",
    "\n",
    "For the purpose of this project, we are considering the \"Medicare Provider Utilization and Payment Data: Physician and Other Supplier PUF CY2014\" from CMS. This data has around 9 million records and 26 features without any Target variable. We will be analyzing this data through some simple tests as well as through the application of Unsupervised Machine Learning Algorithms.\n"
   ]
  },
  {
   "cell_type": "markdown",
   "metadata": {},
   "source": [
    "## Importing all packages "
   ]
  },
  {
   "cell_type": "code",
   "execution_count": 1,
   "metadata": {
    "collapsed": true
   },
   "outputs": [],
   "source": [
    "import numpy as np\n",
    "import pandas as pd\n",
    "%matplotlib inline\n",
    "import matplotlib.pyplot as plt\n",
    "import seaborn as sns\n",
    "from sklearn.cluster import KMeans\n",
    "from scipy.spatial.distance import cdist, pdist \n",
    "from sklearn import preprocessing as prp\n",
    "from sklearn.decomposition import PCA\n",
    "from mpl_toolkits.mplot3d import Axes3D\n",
    "pd.options.mode.chained_assignment = None"
   ]
  },
  {
   "cell_type": "markdown",
   "metadata": {},
   "source": [
    "## Loading the dataset"
   ]
  },
  {
   "cell_type": "code",
   "execution_count": 2,
   "metadata": {},
   "outputs": [
    {
     "name": "stderr",
     "output_type": "stream",
     "text": [
      "/Users/vasanthkailasam/anaconda3/lib/python3.6/site-packages/IPython/core/interactiveshell.py:2698: DtypeWarning: Columns (10) have mixed types. Specify dtype option on import or set low_memory=False.\n",
      "  interactivity=interactivity, compiler=compiler, result=result)\n"
     ]
    }
   ],
   "source": [
    "cms2014data = pd.read_table(\"~/Documents/Data Mining Slides/R and associated/cms2014data.txt\",encoding='latin1')"
   ]
  },
  {
   "cell_type": "markdown",
   "metadata": {},
   "source": [
    "The features of this dataset can be classified into the following categories:\n",
    "\n",
    "a) Provider details such as Name, Unique Provider ID, address, and specialty. \n",
    "b) Type and Number of HCPCS services performed by the provider in that year. \n",
    "c) Amount charged by the provider for their services, Medicare Allowed and Paid amount for those services. "
   ]
  },
  {
   "cell_type": "markdown",
   "metadata": {},
   "source": [
    "Let us see the shape of the dataset and some of its features. "
   ]
  },
  {
   "cell_type": "code",
   "execution_count": 3,
   "metadata": {},
   "outputs": [
    {
     "data": {
      "text/plain": [
       "(9316308, 26)"
      ]
     },
     "execution_count": 3,
     "metadata": {},
     "output_type": "execute_result"
    }
   ],
   "source": [
    "cms2014data.shape  "
   ]
  },
  {
   "cell_type": "code",
   "execution_count": 4,
   "metadata": {},
   "outputs": [
    {
     "data": {
      "text/plain": [
       "npi                                   int64\n",
       "nppes_provider_last_org_name         object\n",
       "nppes_provider_first_name            object\n",
       "nppes_provider_mi                    object\n",
       "nppes_credentials                    object\n",
       "nppes_provider_gender                object\n",
       "nppes_entity_code                    object\n",
       "nppes_provider_street1               object\n",
       "nppes_provider_street2               object\n",
       "nppes_provider_city                  object\n",
       "nppes_provider_zip                   object\n",
       "nppes_provider_state                 object\n",
       "nppes_provider_country               object\n",
       "provider_type                        object\n",
       "medicare_participation_indicator     object\n",
       "place_of_service                     object\n",
       "hcpcs_code                           object\n",
       "hcpcs_description                    object\n",
       "hcpcs_drug_indicator                 object\n",
       "line_srvc_cnt                       float64\n",
       "bene_unique_cnt                     float64\n",
       "bene_day_srvc_cnt                   float64\n",
       "average_Medicare_allowed_amt        float64\n",
       "average_submitted_chrg_amt          float64\n",
       "average_Medicare_payment_amt        float64\n",
       "average_Medicare_standard_amt       float64\n",
       "dtype: object"
      ]
     },
     "execution_count": 4,
     "metadata": {},
     "output_type": "execute_result"
    }
   ],
   "source": [
    "cms2014data.dtypes  "
   ]
  },
  {
   "cell_type": "markdown",
   "metadata": {},
   "source": [
    "## Features Explanation\n",
    "\n",
    "1) **npi** - National Provider Identifier (NPI) for the performing provider on the claim.\n",
    "\n",
    "2) **nppes_provider_last_org_name** - When the provider is registered in NPPES as an individual (entity type code=’I’), this is the provider’s last name. When the provider is registered as an organization                       (entity type code = ‘O’), this is the organization name.\n",
    "\n",
    "3) **nppes_provider_first_name** - When the provider is registered in NPPES as an individual (entity type code=’I’), this is the provider’s first name. When the provider is registered as an organization (entity type code = ‘O’), this will be blank.\n",
    "\n",
    "4) **nppes_provider_mi** - When the provider is registered in NPPES as an individual (entity type code=’I’), this is the provider’s middle initial. When the provider is registered as an organization (entity type code = ‘O’), this will be blank.\n",
    "\n",
    "5) **nppes_credentials** - When the provider is registered in NPPES as an individual (entity type code=’I’), these are the provider’s credentials. When the provider is registered as an organization (entity type code = ‘O’), this will be blank. \n",
    "\n",
    "6) **nppes_provider_gender** - When the provider is registered in NPPES as an individual (entity type code=’I’), this is the provider’s gender. When the provider is registered as an organization (entity type code = ‘O’), this will be blank.\n",
    "\n",
    "7) **nppes_entity_code** -  Type of entity reported in NPPES. An entity code of ‘I’ identifies providers registered as individuals and an entity type code of ‘O’ identifies providers registered as organizations.\n",
    "\n",
    "8) **nppes_provider_street1** - The first line of the provider’s street address, as reported in NPPES.\n",
    "\n",
    "9) **nppes_provider_street2** - The second line of the provider’s street address, as reported in NPPES.\n",
    "\n",
    "10) **nppes_provider_city** - The city where the provider is located, as reported in NPPES.\n",
    "\n",
    "11) **nppes_provider_zip** - The provider’s zip code, as reported in NPPES.\n",
    "\n",
    "12) **nppes_provider_state** - The state where the provider is located, as reported in NPPES. \n",
    "\n",
    "13) **nppes_provider_country** - The country where the provider is located, as reported in NPPES.\n",
    "\n",
    "14) **provider_type** - Derived from the provider specialty code reported on the claim. For providers that reported more than one specialty code on their claims, this is the specialty code associated with the largest number of services.\n",
    "\n",
    "15) **medicare_participation_indicator** - Identifies whether the provider participates in Medicare and/or accepts assignment of Medicare allowed amounts. The value will be ‘Y’ for any provider that had at least one claim identifying the provider as participating in Medicare or accepting assignment of Medicare allowed amounts.\n",
    "\n",
    "16) **place_of_service** - Identifies whether the place of service submitted on the claims is a facility (value of ‘F’) or non-facility (value of ‘O’). Non-facility is generally an office setting; however other entities are included in non-facility. See “Appendix B – Place of Service Descriptions” for the types of entities included in facility and non-facility.\n",
    "\n",
    "17) **hcpcs_code** - Healthcare Common Procedure Coding System (HCPCS) code for the specific medical service furnished by the provider.\n",
    "\n",
    "18) **hcpcs_description** - Description of the HCPCS code for the specific medical service furnished by the provider. \n",
    "\n",
    "19) **hcpcs_drug_indicator** - Identifies whether the HCPCS code for the specific service furnished by the provider is a HCPCS listed on the Medicare Part B Drug Average Sales Price (ASP) File.\n",
    "\n",
    "20) **line_srvc_cnt** - Number of services provided; note that the metrics used to count the number provided can vary from service to service.\n",
    "\n",
    "21) **bene_unique_cnt** - Number of distinct Medicare beneficiaries receiving the service.\n",
    "\n",
    "22) **bene_day_srvc_cnt** - Number of distinct Medicare beneficiary/per day services. Since a given beneficiary may receive multiple services of the same type (e.g., single vs. multiple cardiac stents) on a single day, this metric removes double-counting from the line service count to identify whether a unique service occurred.\n",
    "\n",
    "23) **average_Medicare_allowed_amt** - Average of the Medicare allowed amount for the service; this figure is the sum of the amount Medicare pays, the deductible and coinsurance amounts that the beneficiary is responsible for paying, and any amounts that a third party is responsible for paying.\n",
    "\n",
    "24) **average_submitted_chrg_amt** - Average of the charges that the provider submitted for the service.\n",
    "\n",
    "25) **average_Medicare_payment_amt** - Average amount that Medicare paid after deductible and coinsurance amounts have been deducted for the line item service.\n",
    "\n",
    "26) **average_Medicare_standard_amt** - Average amount that Medicare paid after beneficiary deductible and coinsurance amounts have been deducted for the line item service and after standardization of the Medicare payment has been applied."
   ]
  },
  {
   "cell_type": "markdown",
   "metadata": {},
   "source": [
    "# Method 1 - Basic Explorations"
   ]
  },
  {
   "cell_type": "code",
   "execution_count": 5,
   "metadata": {},
   "outputs": [
    {
     "data": {
      "text/html": [
       "<div>\n",
       "<style>\n",
       "    .dataframe thead tr:only-child th {\n",
       "        text-align: right;\n",
       "    }\n",
       "\n",
       "    .dataframe thead th {\n",
       "        text-align: left;\n",
       "    }\n",
       "\n",
       "    .dataframe tbody tr th {\n",
       "        vertical-align: top;\n",
       "    }\n",
       "</style>\n",
       "<table border=\"1\" class=\"dataframe\">\n",
       "  <thead>\n",
       "    <tr style=\"text-align: right;\">\n",
       "      <th></th>\n",
       "      <th>npi</th>\n",
       "      <th>nppes_provider_last_org_name</th>\n",
       "      <th>nppes_provider_first_name</th>\n",
       "      <th>nppes_provider_mi</th>\n",
       "      <th>nppes_credentials</th>\n",
       "      <th>nppes_provider_gender</th>\n",
       "      <th>nppes_entity_code</th>\n",
       "      <th>nppes_provider_street1</th>\n",
       "      <th>nppes_provider_street2</th>\n",
       "      <th>nppes_provider_city</th>\n",
       "      <th>...</th>\n",
       "      <th>hcpcs_code</th>\n",
       "      <th>hcpcs_description</th>\n",
       "      <th>hcpcs_drug_indicator</th>\n",
       "      <th>line_srvc_cnt</th>\n",
       "      <th>bene_unique_cnt</th>\n",
       "      <th>bene_day_srvc_cnt</th>\n",
       "      <th>average_Medicare_allowed_amt</th>\n",
       "      <th>average_submitted_chrg_amt</th>\n",
       "      <th>average_Medicare_payment_amt</th>\n",
       "      <th>average_Medicare_standard_amt</th>\n",
       "    </tr>\n",
       "  </thead>\n",
       "  <tbody>\n",
       "    <tr>\n",
       "      <th>0</th>\n",
       "      <td>1</td>\n",
       "      <td>CPT copyright 2013 American Medical Associatio...</td>\n",
       "      <td>NaN</td>\n",
       "      <td>NaN</td>\n",
       "      <td>NaN</td>\n",
       "      <td>NaN</td>\n",
       "      <td>NaN</td>\n",
       "      <td>NaN</td>\n",
       "      <td>NaN</td>\n",
       "      <td>NaN</td>\n",
       "      <td>...</td>\n",
       "      <td>NaN</td>\n",
       "      <td>NaN</td>\n",
       "      <td>NaN</td>\n",
       "      <td>NaN</td>\n",
       "      <td>NaN</td>\n",
       "      <td>NaN</td>\n",
       "      <td>NaN</td>\n",
       "      <td>NaN</td>\n",
       "      <td>NaN</td>\n",
       "      <td>NaN</td>\n",
       "    </tr>\n",
       "    <tr>\n",
       "      <th>1</th>\n",
       "      <td>1003000126</td>\n",
       "      <td>ENKESHAFI</td>\n",
       "      <td>ARDALAN</td>\n",
       "      <td>NaN</td>\n",
       "      <td>M.D.</td>\n",
       "      <td>M</td>\n",
       "      <td>I</td>\n",
       "      <td>900 SETON DR</td>\n",
       "      <td>NaN</td>\n",
       "      <td>CUMBERLAND</td>\n",
       "      <td>...</td>\n",
       "      <td>99222</td>\n",
       "      <td>Initial hospital inpatient care, typically 50 ...</td>\n",
       "      <td>N</td>\n",
       "      <td>357.0</td>\n",
       "      <td>341.0</td>\n",
       "      <td>357.0</td>\n",
       "      <td>141.05</td>\n",
       "      <td>416.546218</td>\n",
       "      <td>107.517871</td>\n",
       "      <td>106.731232</td>\n",
       "    </tr>\n",
       "    <tr>\n",
       "      <th>2</th>\n",
       "      <td>1003000126</td>\n",
       "      <td>ENKESHAFI</td>\n",
       "      <td>ARDALAN</td>\n",
       "      <td>NaN</td>\n",
       "      <td>M.D.</td>\n",
       "      <td>M</td>\n",
       "      <td>I</td>\n",
       "      <td>900 SETON DR</td>\n",
       "      <td>NaN</td>\n",
       "      <td>CUMBERLAND</td>\n",
       "      <td>...</td>\n",
       "      <td>99223</td>\n",
       "      <td>Initial hospital inpatient care, typically 70 ...</td>\n",
       "      <td>N</td>\n",
       "      <td>98.0</td>\n",
       "      <td>98.0</td>\n",
       "      <td>98.0</td>\n",
       "      <td>207.79</td>\n",
       "      <td>611.000000</td>\n",
       "      <td>152.551224</td>\n",
       "      <td>153.306837</td>\n",
       "    </tr>\n",
       "    <tr>\n",
       "      <th>3</th>\n",
       "      <td>1003000126</td>\n",
       "      <td>ENKESHAFI</td>\n",
       "      <td>ARDALAN</td>\n",
       "      <td>NaN</td>\n",
       "      <td>M.D.</td>\n",
       "      <td>M</td>\n",
       "      <td>I</td>\n",
       "      <td>900 SETON DR</td>\n",
       "      <td>NaN</td>\n",
       "      <td>CUMBERLAND</td>\n",
       "      <td>...</td>\n",
       "      <td>99231</td>\n",
       "      <td>Subsequent hospital inpatient care, typically ...</td>\n",
       "      <td>N</td>\n",
       "      <td>104.0</td>\n",
       "      <td>65.0</td>\n",
       "      <td>104.0</td>\n",
       "      <td>40.10</td>\n",
       "      <td>119.000000</td>\n",
       "      <td>30.835385</td>\n",
       "      <td>30.708269</td>\n",
       "    </tr>\n",
       "    <tr>\n",
       "      <th>4</th>\n",
       "      <td>1003000126</td>\n",
       "      <td>ENKESHAFI</td>\n",
       "      <td>ARDALAN</td>\n",
       "      <td>NaN</td>\n",
       "      <td>M.D.</td>\n",
       "      <td>M</td>\n",
       "      <td>I</td>\n",
       "      <td>900 SETON DR</td>\n",
       "      <td>NaN</td>\n",
       "      <td>CUMBERLAND</td>\n",
       "      <td>...</td>\n",
       "      <td>99232</td>\n",
       "      <td>Subsequent hospital inpatient care, typically ...</td>\n",
       "      <td>N</td>\n",
       "      <td>1418.0</td>\n",
       "      <td>596.0</td>\n",
       "      <td>1418.0</td>\n",
       "      <td>73.66</td>\n",
       "      <td>217.000000</td>\n",
       "      <td>56.297757</td>\n",
       "      <td>56.098209</td>\n",
       "    </tr>\n",
       "  </tbody>\n",
       "</table>\n",
       "<p>5 rows × 26 columns</p>\n",
       "</div>"
      ],
      "text/plain": [
       "          npi                       nppes_provider_last_org_name  \\\n",
       "0           1  CPT copyright 2013 American Medical Associatio...   \n",
       "1  1003000126                                          ENKESHAFI   \n",
       "2  1003000126                                          ENKESHAFI   \n",
       "3  1003000126                                          ENKESHAFI   \n",
       "4  1003000126                                          ENKESHAFI   \n",
       "\n",
       "  nppes_provider_first_name nppes_provider_mi nppes_credentials  \\\n",
       "0                       NaN               NaN               NaN   \n",
       "1                   ARDALAN               NaN              M.D.   \n",
       "2                   ARDALAN               NaN              M.D.   \n",
       "3                   ARDALAN               NaN              M.D.   \n",
       "4                   ARDALAN               NaN              M.D.   \n",
       "\n",
       "  nppes_provider_gender nppes_entity_code nppes_provider_street1  \\\n",
       "0                   NaN               NaN                    NaN   \n",
       "1                     M                 I           900 SETON DR   \n",
       "2                     M                 I           900 SETON DR   \n",
       "3                     M                 I           900 SETON DR   \n",
       "4                     M                 I           900 SETON DR   \n",
       "\n",
       "  nppes_provider_street2 nppes_provider_city              ...                \\\n",
       "0                    NaN                 NaN              ...                 \n",
       "1                    NaN          CUMBERLAND              ...                 \n",
       "2                    NaN          CUMBERLAND              ...                 \n",
       "3                    NaN          CUMBERLAND              ...                 \n",
       "4                    NaN          CUMBERLAND              ...                 \n",
       "\n",
       "  hcpcs_code                                  hcpcs_description  \\\n",
       "0        NaN                                                NaN   \n",
       "1      99222  Initial hospital inpatient care, typically 50 ...   \n",
       "2      99223  Initial hospital inpatient care, typically 70 ...   \n",
       "3      99231  Subsequent hospital inpatient care, typically ...   \n",
       "4      99232  Subsequent hospital inpatient care, typically ...   \n",
       "\n",
       "  hcpcs_drug_indicator line_srvc_cnt bene_unique_cnt bene_day_srvc_cnt  \\\n",
       "0                  NaN           NaN             NaN               NaN   \n",
       "1                    N         357.0           341.0             357.0   \n",
       "2                    N          98.0            98.0              98.0   \n",
       "3                    N         104.0            65.0             104.0   \n",
       "4                    N        1418.0           596.0            1418.0   \n",
       "\n",
       "  average_Medicare_allowed_amt average_submitted_chrg_amt  \\\n",
       "0                          NaN                        NaN   \n",
       "1                       141.05                 416.546218   \n",
       "2                       207.79                 611.000000   \n",
       "3                        40.10                 119.000000   \n",
       "4                        73.66                 217.000000   \n",
       "\n",
       "  average_Medicare_payment_amt  average_Medicare_standard_amt  \n",
       "0                          NaN                            NaN  \n",
       "1                   107.517871                     106.731232  \n",
       "2                   152.551224                     153.306837  \n",
       "3                    30.835385                      30.708269  \n",
       "4                    56.297757                      56.098209  \n",
       "\n",
       "[5 rows x 26 columns]"
      ]
     },
     "execution_count": 5,
     "metadata": {},
     "output_type": "execute_result"
    }
   ],
   "source": [
    "cms2014data.head() "
   ]
  },
  {
   "cell_type": "code",
   "execution_count": 8,
   "metadata": {
    "collapsed": true
   },
   "outputs": [],
   "source": [
    "entitytab = cms2014data.iloc[:,6].value_counts()   "
   ]
  },
  {
   "cell_type": "markdown",
   "metadata": {},
   "source": [
    "## Individual Providers vs Organizations"
   ]
  },
  {
   "cell_type": "code",
   "execution_count": 11,
   "metadata": {},
   "outputs": [
    {
     "data": {
      "text/plain": [
       "<matplotlib.axes._subplots.AxesSubplot at 0x10e9e0128>"
      ]
     },
     "execution_count": 11,
     "metadata": {},
     "output_type": "execute_result"
    },
    {
     "data": {
      "image/png": "[encoded data removed]",
      "text/plain": [
       "<matplotlib.figure.Figure at 0x11062f358>"
      ]
     },
     "metadata": {},
     "output_type": "display_data"
    }
   ],
   "source": [
    "entitytab.plot(kind='bar',title='Number of Individual Providers vs Organizations')  "
   ]
  },
  {
   "cell_type": "markdown",
   "metadata": {},
   "source": [
    "Majority of them are Individuals providers in our dataset while very few are Organizations. Let us find the total amount that medicare has paid in 2014 to the providers. "
   ]
  },
  {
   "cell_type": "code",
   "execution_count": 4,
   "metadata": {
    "collapsed": true
   },
   "outputs": [],
   "source": [
    "individuals = cms2014data[cms2014data['nppes_entity_code']=='I']"
   ]
  },
  {
   "cell_type": "markdown",
   "metadata": {},
   "source": [
    "## Total Amount Paid by Medicare in 2014"
   ]
  },
  {
   "cell_type": "code",
   "execution_count": 6,
   "metadata": {},
   "outputs": [
    {
     "data": {
      "text/plain": [
       "705087961.326593"
      ]
     },
     "execution_count": 6,
     "metadata": {},
     "output_type": "execute_result"
    }
   ],
   "source": [
    "cms2014data.iloc[:,25].sum()"
   ]
  },
  {
   "cell_type": "markdown",
   "metadata": {},
   "source": [
    "A whopping 700 million dollars! Let us see some of the doctors who received the highest amount. For this, I am only selecting all the individual providers using the Entity code feature. "
   ]
  },
  {
   "cell_type": "code",
   "execution_count": 13,
   "metadata": {},
   "outputs": [
    {
     "data": {
      "text/plain": [
       "npi                                       0\n",
       "nppes_provider_last_org_name            155\n",
       "nppes_provider_first_name                52\n",
       "nppes_provider_mi                   2107280\n",
       "nppes_credentials                    188625\n",
       "nppes_provider_gender                     0\n",
       "nppes_entity_code                         0\n",
       "nppes_provider_street1                    2\n",
       "nppes_provider_street2              4863404\n",
       "nppes_provider_city                       2\n",
       "nppes_provider_zip                        0\n",
       "nppes_provider_state                      0\n",
       "nppes_provider_country                    0\n",
       "provider_type                             0\n",
       "medicare_participation_indicator          0\n",
       "place_of_service                          0\n",
       "hcpcs_code                                0\n",
       "hcpcs_description                         0\n",
       "hcpcs_drug_indicator                      0\n",
       "line_srvc_cnt                             0\n",
       "bene_unique_cnt                           0\n",
       "bene_day_srvc_cnt                         0\n",
       "average_Medicare_allowed_amt              0\n",
       "average_submitted_chrg_amt                0\n",
       "average_Medicare_payment_amt              0\n",
       "average_Medicare_standard_amt             0\n",
       "dtype: int64"
      ]
     },
     "execution_count": 13,
     "metadata": {},
     "output_type": "execute_result"
    }
   ],
   "source": [
    "individuals.isnull().sum()"
   ]
  },
  {
   "cell_type": "markdown",
   "metadata": {},
   "source": [
    "There are some records with missing values in the provider name fields. I am removing it through the dropna functions from pandas. "
   ]
  },
  {
   "cell_type": "code",
   "execution_count": 5,
   "metadata": {
    "collapsed": true
   },
   "outputs": [],
   "source": [
    "individuals1 = individuals.dropna(subset=[['nppes_provider_last_org_name','nppes_provider_first_name']])"
   ]
  },
  {
   "cell_type": "markdown",
   "metadata": {},
   "source": [
    "Let us create a new variable called 'Full Name' by combining the first and last name variables. "
   ]
  },
  {
   "cell_type": "code",
   "execution_count": 6,
   "metadata": {},
   "outputs": [
    {
     "data": {
      "text/plain": [
       "1     ARDALAN ENKESHAFI\n",
       "2     ARDALAN ENKESHAFI\n",
       "3     ARDALAN ENKESHAFI\n",
       "4     ARDALAN ENKESHAFI\n",
       "5     ARDALAN ENKESHAFI\n",
       "6     ARDALAN ENKESHAFI\n",
       "7     ARDALAN ENKESHAFI\n",
       "8     ARDALAN ENKESHAFI\n",
       "9         THOMAS CIBULL\n",
       "10        THOMAS CIBULL\n",
       "Name: Full Name, dtype: object"
      ]
     },
     "execution_count": 6,
     "metadata": {},
     "output_type": "execute_result"
    }
   ],
   "source": [
    "individuals1['Full Name'] = individuals1['nppes_provider_first_name'] + \" \" + individuals1['nppes_provider_last_org_name']\n",
    "individuals1['Full Name'][0:10]"
   ]
  },
  {
   "cell_type": "markdown",
   "metadata": {},
   "source": [
    "We can see that physician name repeat in our dataset. There is no single record for a physician with a total of all his charged amounts to Medicare. So let us group our dataset based on the physician's using their Name and Unique Provider ID. For additional information the other details of the physicians are also included in the grouping.\n"
   ]
  },
  {
   "cell_type": "markdown",
   "metadata": {},
   "source": [
    "## Top 10 highest Paid Physicians in 2014"
   ]
  },
  {
   "cell_type": "code",
   "execution_count": 19,
   "metadata": {},
   "outputs": [
    {
     "data": {
      "text/plain": [
       "<pandas.core.groupby.DataFrameGroupBy object at 0x1a7749df60>"
      ]
     },
     "execution_count": 19,
     "metadata": {},
     "output_type": "execute_result"
    }
   ],
   "source": [
    "individuals1.groupby(['Full Name', 'npi','nppes_provider_city','nppes_provider_state'])"
   ]
  },
  {
   "cell_type": "markdown",
   "metadata": {},
   "source": [
    "The groupby objects are iterable and has the feature of despatch methods. So let us calculate the total amount paid by medicare to each physician. "
   ]
  },
  {
   "cell_type": "code",
   "execution_count": 20,
   "metadata": {
    "collapsed": true
   },
   "outputs": [],
   "source": [
    "individuals2 = individuals1.groupby(['Full Name', 'npi','nppes_provider_city','nppes_provider_state'])['average_Medicare_standard_amt'].sum()"
   ]
  },
  {
   "cell_type": "markdown",
   "metadata": {},
   "source": [
    "The results are sorted in descending order and the top 10 physicians with highest received Medicare amount are shown. "
   ]
  },
  {
   "cell_type": "code",
   "execution_count": 32,
   "metadata": {},
   "outputs": [
    {
     "data": {
      "text/plain": [
       "Full Name          npi         nppes_provider_city  nppes_provider_state\n",
       "STEPHEN LIU        1306889860  MODESTO              CA                      78267.817893\n",
       "ASAD QAMAR         1033145487  OCALA                FL                      76163.852180\n",
       "VASSO GODIALI      1861572000  BAY CITY             MI                      69394.084439\n",
       "LARRY SPROUSE      1730173634  CHATTANOOGA          TN                      66147.137957\n",
       "MUHAMMAD PARACHA   1619966249  FAYETTEVILLE         NC                      56207.504875\n",
       "CHRISTOPHER LESAR  1285628917  CHATTANOOGA          TN                      56031.860981\n",
       "SHRIKANTH UPADYA   1750492195  THE VILLAGES         FL                      54949.693726\n",
       "DAVID LEW          1861485757  LEESBURG             FL                      52979.187368\n",
       "PARAG DOSHI        1578544334  SCHAUMBURG           IL                      52705.230237\n",
       "YAZAN KHATIB       1588653257  JACKSONVILLE         FL                      52136.478969\n",
       "Name: average_Medicare_standard_amt, dtype: float64"
      ]
     },
     "execution_count": 32,
     "metadata": {},
     "output_type": "execute_result"
    }
   ],
   "source": [
    "individuals3 = individuals2.sort_values(ascending=False)[0:10]\n",
    "individuals3"
   ]
  },
  {
   "cell_type": "markdown",
   "metadata": {},
   "source": [
    "It should be noted here that the second highest paid physician, Asad Qamar, is currently under Federal investigation for alleged fraud. From the data we can see that he has received over 1 billion in payments in the year 2014. \n",
    "\n",
    "It should also be noted that a physician receiving high payments does not necessarily mean he or she is committing fraud. There may be many reasons for high bills - their line of work involves costliest procedures or they have more patients, or because their amounts is not only for their services but also for residents and nurses and junior physicians working under them (which is often the case). So we have to be take precautions before judging something as fraud.  "
   ]
  },
  {
   "cell_type": "code",
   "execution_count": 23,
   "metadata": {
    "collapsed": true
   },
   "outputs": [],
   "source": [
    "ind = individuals3.index\n",
    "index = np.arange(10)"
   ]
  },
  {
   "cell_type": "markdown",
   "metadata": {},
   "source": [
    "An horizontal bar chart of the top 10 highest paid physicians in displayed below. "
   ]
  },
  {
   "cell_type": "code",
   "execution_count": 20,
   "metadata": {},
   "outputs": [
    {
     "data": {
      "image/png": "[encoded data removed]",
      "text/plain": [
       "<matplotlib.figure.Figure at 0x10c30cfd0>"
      ]
     },
     "metadata": {},
     "output_type": "display_data"
    }
   ],
   "source": [
    "f, ax = plt.subplots(figsize=(15,8))\n",
    "ax.barh(index,individuals3.values)\n",
    "ax.set_yticks(index)\n",
    "ax.set_yticklabels(ind.get_level_values(0))\n",
    "ax.invert_yaxis()"
   ]
  },
  {
   "cell_type": "markdown",
   "metadata": {},
   "source": [
    "The top 10 doctors together have received around half a million dollars in medicare payment."
   ]
  },
  {
   "cell_type": "code",
   "execution_count": 26,
   "metadata": {
    "collapsed": true
   },
   "outputs": [],
   "source": [
    "individuals3 = individuals2.sort_values(ascending=False)\n",
    "individuals4 = individuals3.to_frame().reset_index()"
   ]
  },
  {
   "cell_type": "markdown",
   "metadata": {},
   "source": [
    "## Cumulative Sum of Physicians"
   ]
  },
  {
   "cell_type": "code",
   "execution_count": 30,
   "metadata": {},
   "outputs": [
    {
     "data": {
      "text/html": [
       "<div>\n",
       "<style>\n",
       "    .dataframe thead tr:only-child th {\n",
       "        text-align: right;\n",
       "    }\n",
       "\n",
       "    .dataframe thead th {\n",
       "        text-align: left;\n",
       "    }\n",
       "\n",
       "    .dataframe tbody tr th {\n",
       "        vertical-align: top;\n",
       "    }\n",
       "</style>\n",
       "<table border=\"1\" class=\"dataframe\">\n",
       "  <thead>\n",
       "    <tr style=\"text-align: right;\">\n",
       "      <th></th>\n",
       "      <th>Full Name</th>\n",
       "      <th>npi</th>\n",
       "      <th>nppes_provider_city</th>\n",
       "      <th>nppes_provider_state</th>\n",
       "      <th>average_Medicare_standard_amt</th>\n",
       "      <th>cumsum</th>\n",
       "    </tr>\n",
       "  </thead>\n",
       "  <tbody>\n",
       "    <tr>\n",
       "      <th>123681</th>\n",
       "      <td>TAMELA TRIPP</td>\n",
       "      <td>1407842826</td>\n",
       "      <td>PHOENIX</td>\n",
       "      <td>AZ</td>\n",
       "      <td>1390.619054</td>\n",
       "      <td>3.500013e+08</td>\n",
       "    </tr>\n",
       "    <tr>\n",
       "      <th>123682</th>\n",
       "      <td>THOMAS CONNOLLY</td>\n",
       "      <td>1023031036</td>\n",
       "      <td>BOYS TOWN</td>\n",
       "      <td>NE</td>\n",
       "      <td>1390.574743</td>\n",
       "      <td>3.500027e+08</td>\n",
       "    </tr>\n",
       "    <tr>\n",
       "      <th>123683</th>\n",
       "      <td>ROBERT FREDERICKSON</td>\n",
       "      <td>1730146226</td>\n",
       "      <td>SEDALIA</td>\n",
       "      <td>MO</td>\n",
       "      <td>1390.566715</td>\n",
       "      <td>3.500041e+08</td>\n",
       "    </tr>\n",
       "    <tr>\n",
       "      <th>123684</th>\n",
       "      <td>AMIT BHOJRAJ</td>\n",
       "      <td>1942440276</td>\n",
       "      <td>GRANVILLE</td>\n",
       "      <td>OH</td>\n",
       "      <td>1390.566657</td>\n",
       "      <td>3.500054e+08</td>\n",
       "    </tr>\n",
       "    <tr>\n",
       "      <th>123685</th>\n",
       "      <td>ANDREW SORENSON</td>\n",
       "      <td>1326139981</td>\n",
       "      <td>BERKELEY</td>\n",
       "      <td>CA</td>\n",
       "      <td>1390.562066</td>\n",
       "      <td>3.500068e+08</td>\n",
       "    </tr>\n",
       "  </tbody>\n",
       "</table>\n",
       "</div>"
      ],
      "text/plain": [
       "                  Full Name         npi nppes_provider_city  \\\n",
       "123681         TAMELA TRIPP  1407842826             PHOENIX   \n",
       "123682      THOMAS CONNOLLY  1023031036           BOYS TOWN   \n",
       "123683  ROBERT FREDERICKSON  1730146226             SEDALIA   \n",
       "123684         AMIT BHOJRAJ  1942440276           GRANVILLE   \n",
       "123685      ANDREW SORENSON  1326139981            BERKELEY   \n",
       "\n",
       "       nppes_provider_state  average_Medicare_standard_amt        cumsum  \n",
       "123681                   AZ                    1390.619054  3.500013e+08  \n",
       "123682                   NE                    1390.574743  3.500027e+08  \n",
       "123683                   MO                    1390.566715  3.500041e+08  \n",
       "123684                   OH                    1390.566657  3.500054e+08  \n",
       "123685                   CA                    1390.562066  3.500068e+08  "
      ]
     },
     "execution_count": 30,
     "metadata": {},
     "output_type": "execute_result"
    }
   ],
   "source": [
    "individuals4['cumsum'] = individuals4.iloc[:,4].cumsum()\n",
    "individuals4[individuals4['cumsum'] > 350000000].head()"
   ]
  },
  {
   "cell_type": "markdown",
   "metadata": {},
   "source": [
    "Of the nearly 1 million doctors in the providers dataset, just around 120,000 doctors receive more than half of the total 700 million paid by medicare. This kind of information will be useful when paired up with other data. For example once we identify the common haracteristics of these high income doctors, such as age, years of experience, the kind of medical services they provide, and so, we can then look for doctors who don't satisfy these criteria but are still on the top earners' list. "
   ]
  },
  {
   "cell_type": "markdown",
   "metadata": {},
   "source": [
    "## Top 10 States by Medicare Expenditure"
   ]
  },
  {
   "cell_type": "code",
   "execution_count": 26,
   "metadata": {
    "collapsed": true
   },
   "outputs": [],
   "source": [
    "states = individuals1.groupby('nppes_provider_state')['average_Medicare_standard_amt']\n",
    "states1 = states.sum().sort_values(ascending=False)[0:10]\n",
    "individuals2 = individuals1[individuals1['nppes_provider_state'].isin(states1.index.get_values())]"
   ]
  },
  {
   "cell_type": "code",
   "execution_count": 31,
   "metadata": {},
   "outputs": [
    {
     "data": {
      "text/plain": [
       "<seaborn.axisgrid.FacetGrid at 0x10c30c7f0>"
      ]
     },
     "execution_count": 31,
     "metadata": {},
     "output_type": "execute_result"
    },
    {
     "data": {
      "image/png": "[encoded data removed]",
      "text/plain": [
       "<matplotlib.figure.Figure at 0x10c6bef60>"
      ]
     },
     "metadata": {},
     "output_type": "display_data"
    }
   ],
   "source": [
    "sns.set(style=\"whitegrid\")\n",
    "g = sns.factorplot(x=\"nppes_provider_state\", y=\"average_Medicare_standard_amt\", hue=\"place_of_service\", data=individuals2,\n",
    "                   size=6, aspect = 2, kind=\"bar\", palette=\"muted\")\n",
    "g.despine(left=True)\n",
    "g.set_ylabels(\"Medicare Spending for the Year 2014\")\n",
    "g.set_xlabels(\"Top 10 States by Medicare Expenditure\")"
   ]
  },
  {
   "cell_type": "markdown",
   "metadata": {},
   "source": [
    "## Allowed Amount vs Charged Amount"
   ]
  },
  {
   "cell_type": "code",
   "execution_count": 33,
   "metadata": {
    "collapsed": true
   },
   "outputs": [],
   "source": [
    "individuals1['difference'] = individuals1['average_submitted_chrg_amt'] - individuals1['average_Medicare_allowed_amt']"
   ]
  },
  {
   "cell_type": "code",
   "execution_count": 43,
   "metadata": {},
   "outputs": [
    {
     "data": {
      "text/plain": [
       "<seaborn.axisgrid.FacetGrid at 0x10b213390>"
      ]
     },
     "execution_count": 43,
     "metadata": {},
     "output_type": "execute_result"
    },
    {
     "data": {
      "image/png": "[encoded data removed]",
      "text/plain": [
       "<matplotlib.figure.Figure at 0x10b953160>"
      ]
     },
     "metadata": {},
     "output_type": "display_data"
    }
   ],
   "source": [
    "h = sns.lmplot('average_Medicare_allowed_amt', \n",
    "           'difference', \n",
    "           data=individuals1, \n",
    "           fit_reg=False, aspect=2, \n",
    "           scatter_kws={\"marker\": \"D\",\n",
    "                        \"s\": 100})\n",
    "h.set_ylabels(\"Difference between Allowed Amount and Charged Amount\")\n",
    "h.set_xlabels(\"Average Medicare Allowed Amount\")"
   ]
  },
  {
   "cell_type": "markdown",
   "metadata": {},
   "source": [
    "While most services cost below 15,000, few services cost 35,000 to 40,000 dollars!! In addition, for some services that cost 35,000, the difference between medicare allowed amount and provider billed amount is nearly double - 65,000! \n",
    "\n",
    "This kind of exploration can be highly useful for identifying fraud. Too much difference between charged and paid amount or the clear presence of outliers can warrant further invesitgations for indications of abuse or fraud. "
   ]
  },
  {
   "cell_type": "markdown",
   "metadata": {},
   "source": [
    "## Outliers - The 2 Most Costliest Procedures"
   ]
  },
  {
   "cell_type": "code",
   "execution_count": 8,
   "metadata": {},
   "outputs": [
    {
     "data": {
      "text/plain": [
       "array([ 'Factor viii (antihemophilic factor, recombinant) per i.u., not otherwise specified',\n",
       "       'Sipuleucel-t, minimum of 50 million autologous cd54+ cells activated with pap-gm-csf, including leukapheresis and all other preparatory procedures, per infusion'], dtype=object)"
      ]
     },
     "execution_count": 8,
     "metadata": {},
     "output_type": "execute_result"
    }
   ],
   "source": [
    "costliestproc = individuals1[individuals1['average_Medicare_allowed_amt'] > 30000]['hcpcs_description']\n",
    "costliestproc.unique()"
   ]
  },
  {
   "cell_type": "markdown",
   "metadata": {},
   "source": [
    "The two costliest medical services are \n",
    "\n",
    "        a) Treatment for Prostate Cancer \n",
    "\n",
    "        b) Antihemophilic drug. "
   ]
  },
  {
   "cell_type": "markdown",
   "metadata": {},
   "source": [
    "## Violin Plot - Charged, Allowed & Paid Amount"
   ]
  },
  {
   "cell_type": "code",
   "execution_count": 240,
   "metadata": {},
   "outputs": [],
   "source": [
    "mm1 = pd.Series()\n",
    "for colname, colvalues in individuals1.iloc[:,22:26].iteritems():\n",
    "        mm1 = mm1.append(pd.Series([i for i in colvalues.get_values() if i < 270],index=[colname]*len([i for i in colvalues.get_values() if i < 270])))"
   ]
  },
  {
   "cell_type": "code",
   "execution_count": 243,
   "metadata": {},
   "outputs": [],
   "source": [
    "mm2 = mm1.to_frame().reset_index()"
   ]
  },
  {
   "cell_type": "code",
   "execution_count": 252,
   "metadata": {},
   "outputs": [],
   "source": [
    "mm3 = mm2.rename(columns={'index': 'Amount Types', 0: 'Amounts'})\n",
    "mm3['Amount Types']"
   ]
  },
  {
   "cell_type": "code",
   "execution_count": 254,
   "metadata": {},
   "outputs": [
    {
     "data": {
      "image/png": "[encoded data removed]",
      "text/plain": [
       "<matplotlib.figure.Figure at 0x1a2be52748>"
      ]
     },
     "metadata": {},
     "output_type": "display_data"
    }
   ],
   "source": [
    "sns.set(style=\"whitegrid\", palette=\"pastel\", color_codes=True)\n",
    "\n",
    "sns.violinplot(y=\"Amounts\", x=\"Amount Types\", data=mm3,\n",
    "               inner=\"quart\")\n",
    "sns.despine(left=True)"
   ]
  },
  {
   "cell_type": "markdown",
   "metadata": {},
   "source": [
    "The purpose of the above plot is to compare the distributions between charged amount and allowed/paid amounts for the majority of the services. Since most amounts are in few hundreds, I have used 270 as the maximum limit so as to enable meaningful plot comparison. Medicare's distribution of high frequency low cost services does not correspond well with what actually gets charged by physicians who appear to be charging high cost services more frequently. "
   ]
  },
  {
   "cell_type": "markdown",
   "metadata": {},
   "source": [
    "## Highly Reimbursed Procedures"
   ]
  },
  {
   "cell_type": "code",
   "execution_count": 85,
   "metadata": {
    "collapsed": true
   },
   "outputs": [],
   "source": [
    "procedures = individuals1.groupby(['hcpcs_code','hcpcs_description'])['average_Medicare_standard_amt'].sum()\n",
    "procedures1 = procedures.sort_values(ascending=False)[11:21]\n",
    "proc2 = procedures1.index.get_level_values(1).tolist()"
   ]
  },
  {
   "cell_type": "code",
   "execution_count": 86,
   "metadata": {},
   "outputs": [
    {
     "data": {
      "text/plain": [
       "['Repair of knee joint',\n",
       " 'Injection, pegfilgrastim, 6 mg',\n",
       " 'Emergency department visit, problem with significant threat to life or function',\n",
       " 'Annual wellness visit, includes a personalized prevention plan of service (pps), subsequent visit',\n",
       " 'Removal of cataract with insertion of lens',\n",
       " 'Emergency department visit, problem of high severity',\n",
       " 'Established patient office or other outpatient visit, typically 10 minutes',\n",
       " 'Replacement of thigh bone and hip joint prosthesis',\n",
       " 'Hospital discharge day management, more than 30 minutes',\n",
       " 'Annual wellness visit; includes a personalized prevention plan of service (pps), initial visit']"
      ]
     },
     "execution_count": 86,
     "metadata": {},
     "output_type": "execute_result"
    }
   ],
   "source": [
    "proc2 "
   ]
  },
  {
   "cell_type": "code",
   "execution_count": 106,
   "metadata": {
    "collapsed": true
   },
   "outputs": [],
   "source": [
    "proc3 = ['Knee Joint Repair','WBC drug','Emergency (Threat to Life)', 'Annual Wellness (Subsequent visit)',\n",
    "        'Remove Cataract', 'Emergency (High Severity)', 'Outpatient(<10 mins)', '      Prosthetics Replace', 'Discharge', 'Annual Wellness (First Visit)']"
   ]
  },
  {
   "cell_type": "markdown",
   "metadata": {},
   "source": [
    "Knee joint repair alone has costed 7 million dollars per year, while cataract removal has costed 5 million dollars. "
   ]
  },
  {
   "cell_type": "code",
   "execution_count": 107,
   "metadata": {},
   "outputs": [
    {
     "data": {
      "image/png": "[encoded data removed]",
      "text/plain": [
       "<matplotlib.figure.Figure at 0x1a2be75780>"
      ]
     },
     "metadata": {},
     "output_type": "display_data"
    }
   ],
   "source": [
    "fig = plt.figure(figsize=(18,6))\n",
    "plt.style.use('classic')\n",
    "plt.plot(np.arange(10),procedures1.get_values(),'r-D')\n",
    "plt.xlabel('Some of the most common procedures')\n",
    "plt.ylabel('Amount of money spent for each procedure')\n",
    "i = 0\n",
    "for xy in zip(np.arange(10),procedures1.get_values()):                                      \n",
    "    plt.annotate(proc3[i], xy=xy, textcoords='data')\n",
    "    i = i +1\n",
    "plt.grid()\n"
   ]
  },
  {
   "cell_type": "markdown",
   "metadata": {},
   "source": []
  },
  {
   "cell_type": "markdown",
   "metadata": {},
   "source": [
    "Outpatient and Inpatient visits are the most common type of services. The different types of outpatient and inpatient visits occupy the top 10 positions in the most common services. So I have visualized the next 10 common services. "
   ]
  },
  {
   "cell_type": "markdown",
   "metadata": {},
   "source": [
    "# Method 2 - Similarity Grouping"
   ]
  },
  {
   "cell_type": "markdown",
   "metadata": {},
   "source": [
    "Other than basic explorations and visualizations, we can use certain methods to identify clues of fraud and abuse. One such simple method is 'Similarity Grouping'. In this method, we basically group all the records by the service type, such as opthalmology services, psychiatry services, cardiology services, etc based on HCPCS code. \n",
    "\n",
    "For example, if we have a dataset with HCPCS codes only for opthalmology, we will then group it based on physician ID and analyse the list of Physician Specialty. As we would expect we will see most physisician specialty as Opthalmology since our HCPCS filtering is for the same. But there will also be physicians of other specialty providing opthalmology services. This does not mean these are fradulent services since there will obviously be some overlap. For example, a Internal Medicine Specialist might do some opthalmology services while diagnosing his patient. But we would not expect physicians of other specialty to be as frequent as the opthalmology in the dataset. So a physicians whose specialty is not the same as the filtered HCPCS specialty and who also has high frequency in the dataset, has higher chances of fraudelent behavior warranting further investigation. "
   ]
  },
  {
   "cell_type": "code",
   "execution_count": 20,
   "metadata": {
    "collapsed": true
   },
   "outputs": [],
   "source": [
    "cptone =  individuals1[~individuals1.hcpcs_code.str.contains('\\D')]"
   ]
  },
  {
   "cell_type": "code",
   "execution_count": 21,
   "metadata": {},
   "outputs": [
    {
     "data": {
      "text/plain": [
       "False    8065622\n",
       "Name: hcpcs_code, dtype: int64"
      ]
     },
     "execution_count": 21,
     "metadata": {},
     "output_type": "execute_result"
    }
   ],
   "source": [
    "cptone.hcpcs_code.str.contains('\\D').value_counts()"
   ]
  },
  {
   "cell_type": "code",
   "execution_count": 22,
   "metadata": {},
   "outputs": [
    {
     "name": "stderr",
     "output_type": "stream",
     "text": [
      "/Users/vasanthkailasam/anaconda3/lib/python3.6/site-packages/pandas/core/generic.py:3110: SettingWithCopyWarning: \n",
      "A value is trying to be set on a copy of a slice from a DataFrame.\n",
      "Try using .loc[row_indexer,col_indexer] = value instead\n",
      "\n",
      "See the caveats in the documentation: http://pandas.pydata.org/pandas-docs/stable/indexing.html#indexing-view-versus-copy\n",
      "  self[name] = value\n"
     ]
    }
   ],
   "source": [
    "cptone.hcpcs_code = cptone.hcpcs_code.astype('int')"
   ]
  },
  {
   "cell_type": "markdown",
   "metadata": {},
   "source": [
    "The list of different physician specialty in the dataset can be seen below."
   ]
  },
  {
   "cell_type": "code",
   "execution_count": 13,
   "metadata": {},
   "outputs": [
    {
     "data": {
      "text/plain": [
       "array(['Internal Medicine', 'Pathology', 'Anesthesiology',\n",
       "       'Family Practice', 'Obstetrics/Gynecology', 'General Surgery',\n",
       "       'Nurse Practitioner', 'Physician Assistant',\n",
       "       'Clinical Psychologist', 'Dermatology', 'CRNA',\n",
       "       'Physical Therapist', 'Physical Medicine and Rehabilitation',\n",
       "       'Radiation Oncology', 'Infectious Disease', 'Orthopedic Surgery',\n",
       "       'Endocrinology', 'Urology', 'Chiropractic', 'General Practice',\n",
       "       'Diagnostic Radiology', 'Neurology', 'Emergency Medicine',\n",
       "       'Nephrology', 'Hand Surgery', 'Psychiatry', 'Pulmonary Disease',\n",
       "       'Otolaryngology', 'Plastic and Reconstructive Surgery',\n",
       "       'Cardiology', 'Osteopathic Manipulative Medicine', 'Ophthalmology',\n",
       "       'Audiologist (billing independently)',\n",
       "       'Licensed Clinical Social Worker', 'Geriatric Medicine',\n",
       "       'Neurosurgery', 'Gastroenterology', 'Thoracic Surgery',\n",
       "       'Critical Care (Intensivists)', 'Pain Management', 'Podiatry',\n",
       "       'Occupational therapist', 'Hematology/Oncology', 'Optometry',\n",
       "       'Preventive Medicine', 'Medical Oncology', 'Nuclear Medicine',\n",
       "       'Surgical Oncology', 'Allergy/Immunology',\n",
       "       'Certified Nurse Midwife', 'Speech Language Pathologist',\n",
       "       'Certified Clinical Nurse Specialist',\n",
       "       'Hospice and Palliative Care',\n",
       "       'Registered Dietician/Nutrition Professional',\n",
       "       'Anesthesiologist Assistants', 'Rheumatology', 'Vascular Surgery',\n",
       "       'Psychologist (billing independently)', 'Sports Medicine',\n",
       "       'Hematology', 'Cardiac Electrophysiology', 'Pediatric Medicine',\n",
       "       'Interventional Radiology', 'Clinical Laboratory',\n",
       "       'Cardiac Surgery', 'Colorectal Surgery (formerly proctology)',\n",
       "       'Interventional Pain Management', 'Oral Surgery (dentists only)',\n",
       "       'Sleep Medicine', 'Geriatric Psychiatry', 'Addiction Medicine',\n",
       "       'Gynecological/Oncology', 'Neuropsychiatry',\n",
       "       'Peripheral Vascular Disease', 'Maxillofacial Surgery',\n",
       "       'Mass Immunization Roster Biller',\n",
       "       'Multispecialty Clinic/Group Practice',\n",
       "       'Unknown Physician Specialty Code',\n",
       "       'Independent Diagnostic Testing Facility',\n",
       "       'Unknown Supplier/Provider', 'Slide Preparation Facility',\n",
       "       'Portable X-ray', 'All Other Suppliers', 'Interventional Cardiology'], dtype=object)"
      ]
     },
     "execution_count": 13,
     "metadata": {},
     "output_type": "execute_result"
    }
   ],
   "source": [
    "cptone.provider_type.unique()"
   ]
  },
  {
   "cell_type": "markdown",
   "metadata": {},
   "source": [
    "## Example 1 - Opthalmology (HCPCS 92002 - 92499)"
   ]
  },
  {
   "cell_type": "markdown",
   "metadata": {},
   "source": [
    "As a first step, we filter the dataset for HCPCS codes betwen 92002 and 92499 corresponding to the opthalmology services. "
   ]
  },
  {
   "cell_type": "code",
   "execution_count": 23,
   "metadata": {
    "collapsed": true
   },
   "outputs": [],
   "source": [
    "eyeservices = cptone[(cptone.hcpcs_code >= 92002) & (cptone.hcpcs_code <= 92499)]"
   ]
  },
  {
   "cell_type": "markdown",
   "metadata": {},
   "source": [
    "We then group the physicians based on their Name, ID and their specialty."
   ]
  },
  {
   "cell_type": "code",
   "execution_count": 26,
   "metadata": {
    "collapsed": true
   },
   "outputs": [],
   "source": [
    "eyeservices2 = eyeservices.groupby(['Full Name','npi', 'provider_type']) "
   ]
  },
  {
   "cell_type": "markdown",
   "metadata": {},
   "source": [
    "We then find the shape of the each sub-dataset and sort them in descending order. "
   ]
  },
  {
   "cell_type": "code",
   "execution_count": 27,
   "metadata": {
    "collapsed": true
   },
   "outputs": [],
   "source": [
    "eyeservices3 = eyeservices2.apply(lambda x: x.shape)"
   ]
  },
  {
   "cell_type": "code",
   "execution_count": 29,
   "metadata": {
    "collapsed": true
   },
   "outputs": [],
   "source": [
    "eyeservices4 = eyeservices3.sort_values(ascending=False)"
   ]
  },
  {
   "cell_type": "markdown",
   "metadata": {},
   "source": [
    "Since most of the physicians will be of opthalmology specialty while our interest is in examining physicians from other services providing opthalmology services, we eliminate the physicians with opthalmology as with the negation logic below. "
   ]
  },
  {
   "cell_type": "code",
   "execution_count": 30,
   "metadata": {},
   "outputs": [
    {
     "data": {
      "text/plain": [
       "Full Name            npi         provider_type                       \n",
       "ROBERT GOETZINGER    1275529380  Multispecialty Clinic/Group Practice    (14, 27)\n",
       "DAVID KIM            1558568634  Internal Medicine                       (13, 27)\n",
       "MARC DINKIN          1215953740  Neurology                                (8, 27)\n",
       "TODD MAUS            1437134038  Family Practice                          (8, 27)\n",
       "DOMINICK GOLIO       1225093149  Plastic and Reconstructive Surgery       (8, 27)\n",
       "MICHAEL WANG         1861424178  Neurology                                (8, 27)\n",
       "SCOTT LAMPERT        1760485916  Gastroenterology                         (8, 27)\n",
       "MARC ODRICH          1174675631  General Practice                         (7, 27)\n",
       "MUHAMMAD AZRAK       1134330079  Internal Medicine                        (7, 27)\n",
       "JOSEPH SASSANI       1518921451  Pathology                                (7, 27)\n",
       "CHRISTOPHER GLISSON  1932254745  Neurology                                (7, 27)\n",
       "PAUL PETELIN         1245328871  General Surgery                          (7, 27)\n",
       "ROBERT HELWIG        1154321313  Internal Medicine                        (7, 27)\n",
       "GERARD HERSHEWE      1598785065  Neurology                                (7, 27)\n",
       "LYNDA KEARNEY        1164447926  Physician Assistant                      (6, 27)\n",
       "JOHN CARTER          1548377526  Neurology                                (6, 27)\n",
       "DANIEL GOLD          1487889820  Neurology                                (6, 27)\n",
       "DAVID FORSTER        1629054945  Hospice and Palliative Care              (6, 27)\n",
       "NANCY SAND           1871675876  Preventive Medicine                      (6, 27)\n",
       "WILLIAM AUSMUS       1770580490  Physician Assistant                      (6, 27)\n",
       "STEVEN CLARK         1861498859  Physician Assistant                      (6, 27)\n",
       "MICHELLE ADAMS       1790957165  Physician Assistant                      (6, 27)\n",
       "RAMESH GOPALASWAMY   1437167129  Neurology                                (6, 27)\n",
       "MARK MOSTER          1376511980  Neurology                                (6, 27)\n",
       "JUDITH WARNER        1659461242  Neurology                                (5, 27)\n",
       "ELENA CHETVER        1518997212  Internal Medicine                        (5, 27)\n",
       "MING HE              1497911531  Neurology                                (5, 27)\n",
       "JOHN MCCANN          1326006917  Plastic and Reconstructive Surgery       (5, 27)\n",
       "GABRIELLA SZATMARY   1972786150  Neurology                                (5, 27)\n",
       "ROBERT WELCH         1730409764  Nurse Practitioner                       (5, 27)\n",
       "                                                                           ...   \n",
       "CATHLYN ANDERSON     1023030269  Endocrinology                            (1, 27)\n",
       "RANDALL HRABKO       1841256989  General Practice                         (1, 27)\n",
       "RANDALL HULING       1316936917  Family Practice                          (1, 27)\n",
       "JAMES BEACH          1053304808  Family Practice                          (1, 27)\n",
       "RANDALL OLIVER       1356393219  Interventional Pain Management           (1, 27)\n",
       "JAMAL SIDDIQUI       1598795361  Internal Medicine                        (1, 27)\n",
       "JAIRO RESTREPO       1689614901  General Practice                         (1, 27)\n",
       "RAMIN RAHIMI         1639146624  Physical Medicine and Rehabilitation     (1, 27)\n",
       "RAMON SANCHEZ        1487678116  Neurology                                (1, 27)\n",
       "RAMON SUEIRO         1790854560  Family Practice                          (1, 27)\n",
       "JAMES BURDETTE       1235366162  Physician Assistant                      (1, 27)\n",
       "POURRAT MONAHEMI     1174617674  Internal Medicine                        (1, 27)\n",
       "QAISER ABBAS         1053371955  Internal Medicine                        (1, 27)\n",
       "JAMES LIEBER         1083690283  Internal Medicine                        (1, 27)\n",
       "QUYNH MAI            1982668190  Family Practice                          (1, 27)\n",
       "CARRIE JUDY          1932195559  Family Practice                          (1, 27)\n",
       "PRATIP PATEL         1891801692  Internal Medicine                        (1, 27)\n",
       "PRAVEEN KAMARAJU     1083687842  Internal Medicine                        (1, 27)\n",
       "JAMES MCDONALD       1699733428  Internal Medicine                        (1, 27)\n",
       "PRIYATHAMA VELLANKI  1134382153  Endocrinology                            (1, 27)\n",
       "PRITI PATEL          1730179748  Internal Medicine                        (1, 27)\n",
       "CAROLYN HALLEY       1699803502  Family Practice                          (1, 27)\n",
       "TERRENCE HACK        1760431274  Internal Medicine                        (1, 27)\n",
       "RAFAEL HUEZO         1891006375  Family Practice                          (1, 27)\n",
       "RAFAEL NUNEZ         1043208895  Internal Medicine                        (1, 27)\n",
       "JAMES HARVEY         1881660942  Internal Medicine                        (1, 27)\n",
       "RAISA TOUMANOVA      1538216320  Family Practice                          (1, 27)\n",
       "JAMES JOHNSON        1851357578  Family Practice                          (1, 27)\n",
       "CASEY PAGE           1215933577  Internal Medicine                        (1, 27)\n",
       "CASIMIR OKORO        1508948563  Internal Medicine                        (1, 27)\n",
       "Length: 985, dtype: object"
      ]
     },
     "execution_count": 30,
     "metadata": {},
     "output_type": "execute_result"
    }
   ],
   "source": [
    "eyeservices4[~eyeservices4.index.get_level_values(2).str.startswith('O')]"
   ]
  },
  {
   "cell_type": "markdown",
   "metadata": {},
   "source": [
    "As expected we can see that physicians in Internal Medicine, Family Practice, Nurses and Physician Assistants doing eye-related services. This is legitimate. But then we are also seeing physicians of other specialty such as Neurology and endocrinology with \"high\" number of eye-related services. These kind of records have higher chances of fraud and abuse warranting further investigation. "
   ]
  },
  {
   "cell_type": "markdown",
   "metadata": {},
   "source": [
    "## Example 2 - Psychiatry (HCPCS 90801 - 90899)"
   ]
  },
  {
   "cell_type": "markdown",
   "metadata": {},
   "source": [
    "This same methodology is repeated for the Psychiatry services below. "
   ]
  },
  {
   "cell_type": "code",
   "execution_count": 54,
   "metadata": {
    "collapsed": true
   },
   "outputs": [],
   "source": [
    "psychiatry = cptone[(cptone.hcpcs_code >= 90801) &(cptone.hcpcs_code <= 90899)] "
   ]
  },
  {
   "cell_type": "code",
   "execution_count": 58,
   "metadata": {
    "collapsed": true
   },
   "outputs": [],
   "source": [
    "psychiatry1 = psychiatry.groupby(['Full Name','npi', 'provider_type']).apply(lambda x: x.shape).sort_values(ascending=False)"
   ]
  },
  {
   "cell_type": "code",
   "execution_count": 61,
   "metadata": {},
   "outputs": [
    {
     "data": {
      "text/plain": [
       "Index(['Psychiatry', 'Clinical Psychologist',\n",
       "       'Licensed Clinical Social Worker', 'Geriatric Psychiatry',\n",
       "       'Nurse Practitioner', 'Certified Clinical Nurse Specialist',\n",
       "       'Psychologist (billing independently)', 'Family Practice',\n",
       "       'General Practice', 'Neuropsychiatry', 'Neurology', 'Internal Medicine',\n",
       "       'Addiction Medicine', 'Obstetrics/Gynecology', 'Physician Assistant',\n",
       "       'Multispecialty Clinic/Group Practice', 'General Surgery',\n",
       "       'Unknown Physician Specialty Code',\n",
       "       'Physical Medicine and Rehabilitation',\n",
       "       'Interventional Pain Management', 'Pediatric Medicine',\n",
       "       'Preventive Medicine', 'Pain Management', 'Endocrinology',\n",
       "       'Thoracic Surgery', 'Orthopedic Surgery',\n",
       "       'Osteopathic Manipulative Medicine', 'Pulmonary Disease',\n",
       "       'Anesthesiology', 'Geriatric Medicine', 'Unknown Supplier/Provider',\n",
       "       'Infectious Disease', 'Sleep Medicine', 'Nuclear Medicine',\n",
       "       'Emergency Medicine', 'Hematology/Oncology', 'Certified Nurse Midwife',\n",
       "       'Nephrology', 'Gastroenterology', 'Dermatology', 'Urology',\n",
       "       'Vascular Surgery', 'Maxillofacial Surgery'],\n",
       "      dtype='object', name='provider_type')"
      ]
     },
     "execution_count": 61,
     "metadata": {},
     "output_type": "execute_result"
    }
   ],
   "source": [
    "psychiatry1.index.get_level_values(2).unique()"
   ]
  },
  {
   "cell_type": "code",
   "execution_count": 66,
   "metadata": {
    "collapsed": true
   },
   "outputs": [],
   "source": [
    "psychiatry2 = psychiatry1[psychiatry1.index.get_level_values(2).isin(['Obstetrics/Gynecology','Pediatric Medicine',\n",
    "                                                         'Endocrinology','Pulmonary Disease','Infectious Disease','Hematology/Oncology',\n",
    "                                                        'Nephrology','Gastroenterology','Dermatology','Urology'])]"
   ]
  },
  {
   "cell_type": "code",
   "execution_count": 67,
   "metadata": {},
   "outputs": [
    {
     "data": {
      "text/plain": [
       "Full Name          npi         provider_type        \n",
       "GREGORY JOHNSON    1285669481  Obstetrics/Gynecology    (4, 27)\n",
       "ROOSEVELT TAYLOR   1659449288  Obstetrics/Gynecology    (3, 27)\n",
       "THEODORE KASTNER   1942226154  Pediatric Medicine       (3, 27)\n",
       "ZINAIDA LYUBOFF    1003822628  Obstetrics/Gynecology    (3, 27)\n",
       "MAX CHOROWSKI      1215132402  Obstetrics/Gynecology    (2, 27)\n",
       "MORTON FIELD       1972511806  Endocrinology            (2, 27)\n",
       "JESUS RAMIREZ      1871522201  Pulmonary Disease        (2, 27)\n",
       "RICHARD PETRAK     1891708608  Pulmonary Disease        (2, 27)\n",
       "STEVEN SCHEIBEL    1649410069  Infectious Disease       (1, 27)\n",
       "TOMAS MACATANGAY   1275622813  Pediatric Medicine       (1, 27)\n",
       "WILLIAM GARDNER    1588722730  Infectious Disease       (1, 27)\n",
       "RAVI PATEL         1386631901  Hematology/Oncology      (1, 27)\n",
       "MAHIN AMIRGHOLAMI  1598943748  Obstetrics/Gynecology    (1, 27)\n",
       "JENNIFER LIN       1336342708  Infectious Disease       (1, 27)\n",
       "SEAN HARVEY        1477548758  Nephrology               (1, 27)\n",
       "JAY BENSON         1720017056  Gastroenterology         (1, 27)\n",
       "JAMES SIZEMORE     1124021340  Infectious Disease       (1, 27)\n",
       "LADAN MOSTAGHIMI   1720057920  Dermatology              (1, 27)\n",
       "KOFI SHAW-TAYLOR   1609849306  Urology                  (1, 27)\n",
       "JOSEPHINE KAMPER   1407805146  Obstetrics/Gynecology    (1, 27)\n",
       "dtype: object"
      ]
     },
     "execution_count": 67,
     "metadata": {},
     "output_type": "execute_result"
    }
   ],
   "source": [
    "psychiatry2"
   ]
  },
  {
   "cell_type": "code",
   "execution_count": 69,
   "metadata": {},
   "outputs": [
    {
     "data": {
      "text/html": [
       "<div>\n",
       "<style>\n",
       "    .dataframe thead tr:only-child th {\n",
       "        text-align: right;\n",
       "    }\n",
       "\n",
       "    .dataframe thead th {\n",
       "        text-align: left;\n",
       "    }\n",
       "\n",
       "    .dataframe tbody tr th {\n",
       "        vertical-align: top;\n",
       "    }\n",
       "</style>\n",
       "<table border=\"1\" class=\"dataframe\">\n",
       "  <thead>\n",
       "    <tr style=\"text-align: right;\">\n",
       "      <th></th>\n",
       "      <th>Full Name</th>\n",
       "      <th>hcpcs_description</th>\n",
       "    </tr>\n",
       "  </thead>\n",
       "  <tbody>\n",
       "    <tr>\n",
       "      <th>36774</th>\n",
       "      <td>ZINAIDA LYUBOFF</td>\n",
       "      <td>Psychotherapy, 30 minutes with patient and/or ...</td>\n",
       "    </tr>\n",
       "    <tr>\n",
       "      <th>36775</th>\n",
       "      <td>ZINAIDA LYUBOFF</td>\n",
       "      <td>Psychotherapy, 45 minutes with patient and/or ...</td>\n",
       "    </tr>\n",
       "    <tr>\n",
       "      <th>36776</th>\n",
       "      <td>ZINAIDA LYUBOFF</td>\n",
       "      <td>Family psychotherapy including patient</td>\n",
       "    </tr>\n",
       "    <tr>\n",
       "      <th>1128169</th>\n",
       "      <td>JAMES SIZEMORE</td>\n",
       "      <td>Psychotherapy, 60 minutes with patient and/or ...</td>\n",
       "    </tr>\n",
       "    <tr>\n",
       "      <th>1976155</th>\n",
       "      <td>MAX CHOROWSKI</td>\n",
       "      <td>Psychotherapy, 30 minutes with patient and/or ...</td>\n",
       "    </tr>\n",
       "    <tr>\n",
       "      <th>1976156</th>\n",
       "      <td>MAX CHOROWSKI</td>\n",
       "      <td>Psychotherapy, 45 minutes with patient and/or ...</td>\n",
       "    </tr>\n",
       "    <tr>\n",
       "      <th>2581259</th>\n",
       "      <td>TOMAS MACATANGAY</td>\n",
       "      <td>Psychotherapy, 60 minutes with patient and/or ...</td>\n",
       "    </tr>\n",
       "    <tr>\n",
       "      <th>2655402</th>\n",
       "      <td>GREGORY JOHNSON</td>\n",
       "      <td>Psychotherapy, 30 minutes with patient and/or ...</td>\n",
       "    </tr>\n",
       "    <tr>\n",
       "      <th>2655403</th>\n",
       "      <td>GREGORY JOHNSON</td>\n",
       "      <td>Psychotherapy, 45 minutes with patient and/or ...</td>\n",
       "    </tr>\n",
       "    <tr>\n",
       "      <th>2655404</th>\n",
       "      <td>GREGORY JOHNSON</td>\n",
       "      <td>Psychotherapy, 60 minutes with patient and/or ...</td>\n",
       "    </tr>\n",
       "    <tr>\n",
       "      <th>2655405</th>\n",
       "      <td>GREGORY JOHNSON</td>\n",
       "      <td>Group psychotherapy</td>\n",
       "    </tr>\n",
       "    <tr>\n",
       "      <th>3162577</th>\n",
       "      <td>JENNIFER LIN</td>\n",
       "      <td>Psychotherapy, 60 minutes with patient and/or ...</td>\n",
       "    </tr>\n",
       "    <tr>\n",
       "      <th>3568727</th>\n",
       "      <td>RAVI PATEL</td>\n",
       "      <td>Psychotherapy, 60 minutes with patient and/or ...</td>\n",
       "    </tr>\n",
       "    <tr>\n",
       "      <th>3754173</th>\n",
       "      <td>JOSEPHINE KAMPER</td>\n",
       "      <td>Group psychotherapy</td>\n",
       "    </tr>\n",
       "    <tr>\n",
       "      <th>4412541</th>\n",
       "      <td>SEAN HARVEY</td>\n",
       "      <td>Psychotherapy, 45 minutes with patient and/or ...</td>\n",
       "    </tr>\n",
       "    <tr>\n",
       "      <th>5473224</th>\n",
       "      <td>WILLIAM GARDNER</td>\n",
       "      <td>Psychotherapy, 45 minutes with patient and/or ...</td>\n",
       "    </tr>\n",
       "    <tr>\n",
       "      <th>5590312</th>\n",
       "      <td>MAHIN AMIRGHOLAMI</td>\n",
       "      <td>Hypnotherapy</td>\n",
       "    </tr>\n",
       "    <tr>\n",
       "      <th>5645324</th>\n",
       "      <td>KOFI SHAW-TAYLOR</td>\n",
       "      <td>Group psychotherapy</td>\n",
       "    </tr>\n",
       "    <tr>\n",
       "      <th>6042967</th>\n",
       "      <td>STEVEN SCHEIBEL</td>\n",
       "      <td>Psychotherapy, 30 minutes with patient and/or ...</td>\n",
       "    </tr>\n",
       "    <tr>\n",
       "      <th>6125521</th>\n",
       "      <td>ROOSEVELT TAYLOR</td>\n",
       "      <td>Psychotherapy, 45 minutes with patient and/or ...</td>\n",
       "    </tr>\n",
       "    <tr>\n",
       "      <th>6125522</th>\n",
       "      <td>ROOSEVELT TAYLOR</td>\n",
       "      <td>Psychotherapy, 60 minutes with patient and/or ...</td>\n",
       "    </tr>\n",
       "    <tr>\n",
       "      <th>6125523</th>\n",
       "      <td>ROOSEVELT TAYLOR</td>\n",
       "      <td>Group psychotherapy</td>\n",
       "    </tr>\n",
       "    <tr>\n",
       "      <th>6719870</th>\n",
       "      <td>JAY BENSON</td>\n",
       "      <td>Group psychotherapy</td>\n",
       "    </tr>\n",
       "    <tr>\n",
       "      <th>6741785</th>\n",
       "      <td>LADAN MOSTAGHIMI</td>\n",
       "      <td>Psychotherapy, 30 minutes with patient and/or ...</td>\n",
       "    </tr>\n",
       "    <tr>\n",
       "      <th>8115946</th>\n",
       "      <td>JESUS RAMIREZ</td>\n",
       "      <td>Psychotherapy, 60 minutes with patient and/or ...</td>\n",
       "    </tr>\n",
       "    <tr>\n",
       "      <th>8115947</th>\n",
       "      <td>JESUS RAMIREZ</td>\n",
       "      <td>Group psychotherapy</td>\n",
       "    </tr>\n",
       "    <tr>\n",
       "      <th>8298390</th>\n",
       "      <td>RICHARD PETRAK</td>\n",
       "      <td>Psychotherapy, 30 minutes with patient and/or ...</td>\n",
       "    </tr>\n",
       "    <tr>\n",
       "      <th>8298391</th>\n",
       "      <td>RICHARD PETRAK</td>\n",
       "      <td>Psychotherapy, 45 minutes with patient and/or ...</td>\n",
       "    </tr>\n",
       "    <tr>\n",
       "      <th>8771965</th>\n",
       "      <td>THEODORE KASTNER</td>\n",
       "      <td>Psychotherapy, 30 minutes with patient and/or ...</td>\n",
       "    </tr>\n",
       "    <tr>\n",
       "      <th>8771966</th>\n",
       "      <td>THEODORE KASTNER</td>\n",
       "      <td>Psychotherapy, 60 minutes with patient and/or ...</td>\n",
       "    </tr>\n",
       "    <tr>\n",
       "      <th>8771967</th>\n",
       "      <td>THEODORE KASTNER</td>\n",
       "      <td>Psychotherapy, 60 minutes with patient and/or ...</td>\n",
       "    </tr>\n",
       "    <tr>\n",
       "      <th>9044056</th>\n",
       "      <td>MORTON FIELD</td>\n",
       "      <td>Family psychotherapy</td>\n",
       "    </tr>\n",
       "    <tr>\n",
       "      <th>9044057</th>\n",
       "      <td>MORTON FIELD</td>\n",
       "      <td>Family psychotherapy including patient</td>\n",
       "    </tr>\n",
       "  </tbody>\n",
       "</table>\n",
       "</div>"
      ],
      "text/plain": [
       "                 Full Name                                  hcpcs_description\n",
       "36774      ZINAIDA LYUBOFF  Psychotherapy, 30 minutes with patient and/or ...\n",
       "36775      ZINAIDA LYUBOFF  Psychotherapy, 45 minutes with patient and/or ...\n",
       "36776      ZINAIDA LYUBOFF             Family psychotherapy including patient\n",
       "1128169     JAMES SIZEMORE  Psychotherapy, 60 minutes with patient and/or ...\n",
       "1976155      MAX CHOROWSKI  Psychotherapy, 30 minutes with patient and/or ...\n",
       "1976156      MAX CHOROWSKI  Psychotherapy, 45 minutes with patient and/or ...\n",
       "2581259   TOMAS MACATANGAY  Psychotherapy, 60 minutes with patient and/or ...\n",
       "2655402    GREGORY JOHNSON  Psychotherapy, 30 minutes with patient and/or ...\n",
       "2655403    GREGORY JOHNSON  Psychotherapy, 45 minutes with patient and/or ...\n",
       "2655404    GREGORY JOHNSON  Psychotherapy, 60 minutes with patient and/or ...\n",
       "2655405    GREGORY JOHNSON                                Group psychotherapy\n",
       "3162577       JENNIFER LIN  Psychotherapy, 60 minutes with patient and/or ...\n",
       "3568727         RAVI PATEL  Psychotherapy, 60 minutes with patient and/or ...\n",
       "3754173   JOSEPHINE KAMPER                                Group psychotherapy\n",
       "4412541        SEAN HARVEY  Psychotherapy, 45 minutes with patient and/or ...\n",
       "5473224    WILLIAM GARDNER  Psychotherapy, 45 minutes with patient and/or ...\n",
       "5590312  MAHIN AMIRGHOLAMI                                       Hypnotherapy\n",
       "5645324   KOFI SHAW-TAYLOR                                Group psychotherapy\n",
       "6042967    STEVEN SCHEIBEL  Psychotherapy, 30 minutes with patient and/or ...\n",
       "6125521   ROOSEVELT TAYLOR  Psychotherapy, 45 minutes with patient and/or ...\n",
       "6125522   ROOSEVELT TAYLOR  Psychotherapy, 60 minutes with patient and/or ...\n",
       "6125523   ROOSEVELT TAYLOR                                Group psychotherapy\n",
       "6719870         JAY BENSON                                Group psychotherapy\n",
       "6741785   LADAN MOSTAGHIMI  Psychotherapy, 30 minutes with patient and/or ...\n",
       "8115946      JESUS RAMIREZ  Psychotherapy, 60 minutes with patient and/or ...\n",
       "8115947      JESUS RAMIREZ                                Group psychotherapy\n",
       "8298390     RICHARD PETRAK  Psychotherapy, 30 minutes with patient and/or ...\n",
       "8298391     RICHARD PETRAK  Psychotherapy, 45 minutes with patient and/or ...\n",
       "8771965   THEODORE KASTNER  Psychotherapy, 30 minutes with patient and/or ...\n",
       "8771966   THEODORE KASTNER  Psychotherapy, 60 minutes with patient and/or ...\n",
       "8771967   THEODORE KASTNER  Psychotherapy, 60 minutes with patient and/or ...\n",
       "9044056       MORTON FIELD                               Family psychotherapy\n",
       "9044057       MORTON FIELD             Family psychotherapy including patient"
      ]
     },
     "execution_count": 69,
     "metadata": {},
     "output_type": "execute_result"
    }
   ],
   "source": [
    "psychiatry[psychiatry['npi'].isin(psychiatry2.index.get_level_values(1))][['Full Name', 'hcpcs_description']]"
   ]
  },
  {
   "cell_type": "markdown",
   "metadata": {},
   "source": [
    "# Method 3 - Complexity of Clinical Visits "
   ]
  },
  {
   "cell_type": "markdown",
   "metadata": {},
   "source": [
    "## Family Practioners"
   ]
  },
  {
   "attachments": {
    "99211.jpg": {
     "image/jpeg": "[encoded data removed]"
    }
   },
   "cell_type": "markdown",
   "metadata": {},
   "source": [
    "In this method, we analyse fraud and abuse specifically for outpatient visits. There are five different levels of established patient clinical visits, ranging from mild, moderate to complex visits, ordered numerically from HCPCS 99211, 99212 to 99215. \n",
    "\n",
    "![99211.jpg](attachment:99211.jpg)\n"
   ]
  },
  {
   "cell_type": "markdown",
   "metadata": {},
   "source": [
    "We consider physicians who perform Family Practice and analyse how frequently they perform these 5 levels of established patient clinical visits. "
   ]
  },
  {
   "cell_type": "code",
   "execution_count": 108,
   "metadata": {
    "collapsed": true
   },
   "outputs": [],
   "source": [
    "fpo = individuals1[(individuals1.provider_type == 'Family Practice') & \n",
    "                     (individuals1.hcpcs_code.isin(['99211','99212','99213', '99214', '99215']))]"
   ]
  },
  {
   "cell_type": "code",
   "execution_count": 109,
   "metadata": {
    "collapsed": true
   },
   "outputs": [],
   "source": [
    "fpo1 = fpo.groupby(['Full Name', 'npi', 'hcpcs_code'])"
   ]
  },
  {
   "cell_type": "code",
   "execution_count": 110,
   "metadata": {
    "collapsed": true
   },
   "outputs": [],
   "source": [
    "fpo2 = fpo1[['line_srvc_cnt']].aggregate('sum').unstack().reset_index(col_level=1).fillna(0)"
   ]
  },
  {
   "cell_type": "code",
   "execution_count": 111,
   "metadata": {
    "collapsed": true
   },
   "outputs": [],
   "source": [
    "fpo2.columns = fpo2.columns.droplevel(0)"
   ]
  },
  {
   "cell_type": "code",
   "execution_count": 112,
   "metadata": {
    "collapsed": true
   },
   "outputs": [],
   "source": [
    "fpo3 = pd.DataFrame({'NPI': fpo2.npi, 'Full Name' : fpo2['Full Name'], '99211': fpo2['99211'], \n",
    "                    '99212': fpo2['99212'], '99213': fpo2['99213'], '99214': fpo2['99214'], '99215': fpo2['99215']})"
   ]
  },
  {
   "cell_type": "code",
   "execution_count": 113,
   "metadata": {
    "collapsed": true
   },
   "outputs": [],
   "source": [
    "col_list= list(fpo3)"
   ]
  },
  {
   "cell_type": "code",
   "execution_count": 114,
   "metadata": {
    "collapsed": true
   },
   "outputs": [],
   "source": [
    "col_list.remove('NPI')"
   ]
  },
  {
   "cell_type": "code",
   "execution_count": 115,
   "metadata": {},
   "outputs": [
    {
     "data": {
      "text/plain": [
       "['99211', '99212', '99213', '99214', '99215', 'Full Name']"
      ]
     },
     "execution_count": 115,
     "metadata": {},
     "output_type": "execute_result"
    }
   ],
   "source": [
    "col_list"
   ]
  },
  {
   "cell_type": "code",
   "execution_count": 116,
   "metadata": {
    "collapsed": true
   },
   "outputs": [],
   "source": [
    "fpo3['total'] = fpo3[col_list].sum(axis=1)"
   ]
  },
  {
   "cell_type": "markdown",
   "metadata": {},
   "source": [
    "In the below table we can see each physician provided how many services in each level. "
   ]
  },
  {
   "cell_type": "code",
   "execution_count": 59,
   "metadata": {},
   "outputs": [
    {
     "data": {
      "text/html": [
       "<div>\n",
       "<style>\n",
       "    .dataframe thead tr:only-child th {\n",
       "        text-align: right;\n",
       "    }\n",
       "\n",
       "    .dataframe thead th {\n",
       "        text-align: left;\n",
       "    }\n",
       "\n",
       "    .dataframe tbody tr th {\n",
       "        vertical-align: top;\n",
       "    }\n",
       "</style>\n",
       "<table border=\"1\" class=\"dataframe\">\n",
       "  <thead>\n",
       "    <tr style=\"text-align: right;\">\n",
       "      <th></th>\n",
       "      <th>99211</th>\n",
       "      <th>99212</th>\n",
       "      <th>99213</th>\n",
       "      <th>99214</th>\n",
       "      <th>99215</th>\n",
       "      <th>Full Name</th>\n",
       "      <th>NPI</th>\n",
       "      <th>total</th>\n",
       "    </tr>\n",
       "  </thead>\n",
       "  <tbody>\n",
       "    <tr>\n",
       "      <th>0</th>\n",
       "      <td>0.0</td>\n",
       "      <td>31.0</td>\n",
       "      <td>410.0</td>\n",
       "      <td>49.0</td>\n",
       "      <td>0.0</td>\n",
       "      <td>-RAFIK GIRGIS</td>\n",
       "      <td>1225058597</td>\n",
       "      <td>490.0</td>\n",
       "    </tr>\n",
       "    <tr>\n",
       "      <th>1</th>\n",
       "      <td>0.0</td>\n",
       "      <td>0.0</td>\n",
       "      <td>73.0</td>\n",
       "      <td>62.0</td>\n",
       "      <td>0.0</td>\n",
       "      <td>:CYNTHIA MCGOWAN</td>\n",
       "      <td>1952545741</td>\n",
       "      <td>135.0</td>\n",
       "    </tr>\n",
       "    <tr>\n",
       "      <th>2</th>\n",
       "      <td>0.0</td>\n",
       "      <td>60.0</td>\n",
       "      <td>564.0</td>\n",
       "      <td>389.0</td>\n",
       "      <td>13.0</td>\n",
       "      <td>A ALICEA</td>\n",
       "      <td>1023031986</td>\n",
       "      <td>1026.0</td>\n",
       "    </tr>\n",
       "    <tr>\n",
       "      <th>3</th>\n",
       "      <td>0.0</td>\n",
       "      <td>0.0</td>\n",
       "      <td>42.0</td>\n",
       "      <td>14.0</td>\n",
       "      <td>0.0</td>\n",
       "      <td>A B M MASUDUR RAHMAN</td>\n",
       "      <td>1295027514</td>\n",
       "      <td>56.0</td>\n",
       "    </tr>\n",
       "    <tr>\n",
       "      <th>4</th>\n",
       "      <td>0.0</td>\n",
       "      <td>0.0</td>\n",
       "      <td>58.0</td>\n",
       "      <td>451.0</td>\n",
       "      <td>12.0</td>\n",
       "      <td>A CALUSIC</td>\n",
       "      <td>1790713436</td>\n",
       "      <td>521.0</td>\n",
       "    </tr>\n",
       "  </tbody>\n",
       "</table>\n",
       "</div>"
      ],
      "text/plain": [
       "   99211  99212  99213  99214  99215             Full Name         NPI   total\n",
       "0    0.0   31.0  410.0   49.0    0.0         -RAFIK GIRGIS  1225058597   490.0\n",
       "1    0.0    0.0   73.0   62.0    0.0      :CYNTHIA MCGOWAN  1952545741   135.0\n",
       "2    0.0   60.0  564.0  389.0   13.0              A ALICEA  1023031986  1026.0\n",
       "3    0.0    0.0   42.0   14.0    0.0  A B M MASUDUR RAHMAN  1295027514    56.0\n",
       "4    0.0    0.0   58.0  451.0   12.0             A CALUSIC  1790713436   521.0"
      ]
     },
     "execution_count": 59,
     "metadata": {},
     "output_type": "execute_result"
    }
   ],
   "source": [
    "fpo3.head()"
   ]
  },
  {
   "cell_type": "markdown",
   "metadata": {},
   "source": [
    "To enable better comparison, we calculate the overall percentage of each of these level for all physicians. We can then see each physicians service numbers as a proportion of the overall number of services (for each level). "
   ]
  },
  {
   "cell_type": "code",
   "execution_count": 60,
   "metadata": {
    "collapsed": true
   },
   "outputs": [],
   "source": [
    "overall = np.array([fpo3['99211'].sum(), fpo3['99212'].sum(), fpo3['99213'].sum(), fpo3['99214'].sum(), \n",
    "                    fpo3['99215'].sum()])"
   ]
  },
  {
   "cell_type": "code",
   "execution_count": 61,
   "metadata": {},
   "outputs": [
    {
     "data": {
      "text/plain": [
       "array([   887488. ,   1076419.1,  17292853.8,  18248517.3,   1033145.2])"
      ]
     },
     "execution_count": 61,
     "metadata": {},
     "output_type": "execute_result"
    }
   ],
   "source": [
    "overall"
   ]
  },
  {
   "cell_type": "code",
   "execution_count": 82,
   "metadata": {},
   "outputs": [
    {
     "data": {
      "text/plain": [
       "array([ 0.02302865,  0.02793106,  0.44871721,  0.47351489,  0.02680819])"
      ]
     },
     "execution_count": 82,
     "metadata": {},
     "output_type": "execute_result"
    }
   ],
   "source": [
    "overall = overall/overall.sum()\n",
    "overall"
   ]
  },
  {
   "cell_type": "markdown",
   "metadata": {},
   "source": [
    "We can observe from above that of all the established patient clinical services performed by all the physicians, 45% of the services are of Level 3, 47% of the services are of Level 4, while the remaining Levels constitute 2% each. "
   ]
  },
  {
   "cell_type": "code",
   "execution_count": 63,
   "metadata": {},
   "outputs": [
    {
     "data": {
      "text/html": [
       "<div>\n",
       "<style>\n",
       "    .dataframe thead tr:only-child th {\n",
       "        text-align: right;\n",
       "    }\n",
       "\n",
       "    .dataframe thead th {\n",
       "        text-align: left;\n",
       "    }\n",
       "\n",
       "    .dataframe tbody tr th {\n",
       "        vertical-align: top;\n",
       "    }\n",
       "</style>\n",
       "<table border=\"1\" class=\"dataframe\">\n",
       "  <thead>\n",
       "    <tr style=\"text-align: right;\">\n",
       "      <th></th>\n",
       "      <th>99211</th>\n",
       "      <th>99212</th>\n",
       "      <th>99213</th>\n",
       "      <th>99214</th>\n",
       "      <th>99215</th>\n",
       "      <th>Full Name</th>\n",
       "      <th>NPI</th>\n",
       "      <th>total</th>\n",
       "    </tr>\n",
       "  </thead>\n",
       "  <tbody>\n",
       "    <tr>\n",
       "      <th>0</th>\n",
       "      <td>0.0</td>\n",
       "      <td>31.0</td>\n",
       "      <td>410.0</td>\n",
       "      <td>49.0</td>\n",
       "      <td>0.0</td>\n",
       "      <td>-RAFIK GIRGIS</td>\n",
       "      <td>1225058597</td>\n",
       "      <td>490.0</td>\n",
       "    </tr>\n",
       "    <tr>\n",
       "      <th>1</th>\n",
       "      <td>0.0</td>\n",
       "      <td>0.0</td>\n",
       "      <td>73.0</td>\n",
       "      <td>62.0</td>\n",
       "      <td>0.0</td>\n",
       "      <td>:CYNTHIA MCGOWAN</td>\n",
       "      <td>1952545741</td>\n",
       "      <td>135.0</td>\n",
       "    </tr>\n",
       "    <tr>\n",
       "      <th>2</th>\n",
       "      <td>0.0</td>\n",
       "      <td>60.0</td>\n",
       "      <td>564.0</td>\n",
       "      <td>389.0</td>\n",
       "      <td>13.0</td>\n",
       "      <td>A ALICEA</td>\n",
       "      <td>1023031986</td>\n",
       "      <td>1026.0</td>\n",
       "    </tr>\n",
       "    <tr>\n",
       "      <th>3</th>\n",
       "      <td>0.0</td>\n",
       "      <td>0.0</td>\n",
       "      <td>42.0</td>\n",
       "      <td>14.0</td>\n",
       "      <td>0.0</td>\n",
       "      <td>A B M MASUDUR RAHMAN</td>\n",
       "      <td>1295027514</td>\n",
       "      <td>56.0</td>\n",
       "    </tr>\n",
       "    <tr>\n",
       "      <th>4</th>\n",
       "      <td>0.0</td>\n",
       "      <td>0.0</td>\n",
       "      <td>58.0</td>\n",
       "      <td>451.0</td>\n",
       "      <td>12.0</td>\n",
       "      <td>A CALUSIC</td>\n",
       "      <td>1790713436</td>\n",
       "      <td>521.0</td>\n",
       "    </tr>\n",
       "  </tbody>\n",
       "</table>\n",
       "</div>"
      ],
      "text/plain": [
       "   99211  99212  99213  99214  99215             Full Name         NPI   total\n",
       "0    0.0   31.0  410.0   49.0    0.0         -RAFIK GIRGIS  1225058597   490.0\n",
       "1    0.0    0.0   73.0   62.0    0.0      :CYNTHIA MCGOWAN  1952545741   135.0\n",
       "2    0.0   60.0  564.0  389.0   13.0              A ALICEA  1023031986  1026.0\n",
       "3    0.0    0.0   42.0   14.0    0.0  A B M MASUDUR RAHMAN  1295027514    56.0\n",
       "4    0.0    0.0   58.0  451.0   12.0             A CALUSIC  1790713436   521.0"
      ]
     },
     "execution_count": 63,
     "metadata": {},
     "output_type": "execute_result"
    }
   ],
   "source": [
    "fpo3.head()"
   ]
  },
  {
   "cell_type": "markdown",
   "metadata": {},
   "source": [
    "Now we convert the numbers for each physician into percentages so as to compare it with the overall percentage. "
   ]
  },
  {
   "cell_type": "code",
   "execution_count": 67,
   "metadata": {
    "collapsed": true
   },
   "outputs": [],
   "source": [
    "fpo3[['99211', '99212', '99213', '99214', '99215']] = fpo3[['99211', '99212', '99213', \n",
    "                                                            '99214', '99215']].div(fpo3.total, axis=0)"
   ]
  },
  {
   "cell_type": "code",
   "execution_count": 80,
   "metadata": {
    "collapsed": true
   },
   "outputs": [],
   "source": [
    "fpo4 = fpo3.round(2)"
   ]
  },
  {
   "cell_type": "markdown",
   "metadata": {},
   "source": [
    "### Percentages in each level of clinical visit"
   ]
  },
  {
   "cell_type": "code",
   "execution_count": 79,
   "metadata": {},
   "outputs": [
    {
     "data": {
      "text/html": [
       "<div>\n",
       "<style>\n",
       "    .dataframe thead tr:only-child th {\n",
       "        text-align: right;\n",
       "    }\n",
       "\n",
       "    .dataframe thead th {\n",
       "        text-align: left;\n",
       "    }\n",
       "\n",
       "    .dataframe tbody tr th {\n",
       "        vertical-align: top;\n",
       "    }\n",
       "</style>\n",
       "<table border=\"1\" class=\"dataframe\">\n",
       "  <thead>\n",
       "    <tr style=\"text-align: right;\">\n",
       "      <th></th>\n",
       "      <th>99211</th>\n",
       "      <th>99212</th>\n",
       "      <th>99213</th>\n",
       "      <th>99214</th>\n",
       "      <th>99215</th>\n",
       "      <th>Full Name</th>\n",
       "      <th>NPI</th>\n",
       "      <th>total</th>\n",
       "    </tr>\n",
       "  </thead>\n",
       "  <tbody>\n",
       "    <tr>\n",
       "      <th>0</th>\n",
       "      <td>0.0</td>\n",
       "      <td>0.06</td>\n",
       "      <td>0.84</td>\n",
       "      <td>0.10</td>\n",
       "      <td>0.00</td>\n",
       "      <td>-RAFIK GIRGIS</td>\n",
       "      <td>1225058597</td>\n",
       "      <td>490.0</td>\n",
       "    </tr>\n",
       "    <tr>\n",
       "      <th>1</th>\n",
       "      <td>0.0</td>\n",
       "      <td>0.00</td>\n",
       "      <td>0.54</td>\n",
       "      <td>0.46</td>\n",
       "      <td>0.00</td>\n",
       "      <td>:CYNTHIA MCGOWAN</td>\n",
       "      <td>1952545741</td>\n",
       "      <td>135.0</td>\n",
       "    </tr>\n",
       "    <tr>\n",
       "      <th>2</th>\n",
       "      <td>0.0</td>\n",
       "      <td>0.06</td>\n",
       "      <td>0.55</td>\n",
       "      <td>0.38</td>\n",
       "      <td>0.01</td>\n",
       "      <td>A ALICEA</td>\n",
       "      <td>1023031986</td>\n",
       "      <td>1026.0</td>\n",
       "    </tr>\n",
       "    <tr>\n",
       "      <th>3</th>\n",
       "      <td>0.0</td>\n",
       "      <td>0.00</td>\n",
       "      <td>0.75</td>\n",
       "      <td>0.25</td>\n",
       "      <td>0.00</td>\n",
       "      <td>A B M MASUDUR RAHMAN</td>\n",
       "      <td>1295027514</td>\n",
       "      <td>56.0</td>\n",
       "    </tr>\n",
       "    <tr>\n",
       "      <th>4</th>\n",
       "      <td>0.0</td>\n",
       "      <td>0.00</td>\n",
       "      <td>0.11</td>\n",
       "      <td>0.87</td>\n",
       "      <td>0.02</td>\n",
       "      <td>A CALUSIC</td>\n",
       "      <td>1790713436</td>\n",
       "      <td>521.0</td>\n",
       "    </tr>\n",
       "  </tbody>\n",
       "</table>\n",
       "</div>"
      ],
      "text/plain": [
       "   99211  99212  99213  99214  99215             Full Name         NPI   total\n",
       "0    0.0   0.06   0.84   0.10   0.00         -RAFIK GIRGIS  1225058597   490.0\n",
       "1    0.0   0.00   0.54   0.46   0.00      :CYNTHIA MCGOWAN  1952545741   135.0\n",
       "2    0.0   0.06   0.55   0.38   0.01              A ALICEA  1023031986  1026.0\n",
       "3    0.0   0.00   0.75   0.25   0.00  A B M MASUDUR RAHMAN  1295027514    56.0\n",
       "4    0.0   0.00   0.11   0.87   0.02             A CALUSIC  1790713436   521.0"
      ]
     },
     "execution_count": 79,
     "metadata": {},
     "output_type": "execute_result"
    }
   ],
   "source": [
    "fpo4"
   ]
  },
  {
   "cell_type": "markdown",
   "metadata": {},
   "source": [
    "For physician Rafik, 84% of his established patient clinical vists are of Level 3 while for the physician A CALUSIC, 87% of his established patient clinical visits are of Level 4. \n",
    "\n",
    "We now filter for those physicians for whom all the established patient cinical visits are of Level 5, as shown below. "
   ]
  },
  {
   "cell_type": "code",
   "execution_count": 86,
   "metadata": {},
   "outputs": [
    {
     "data": {
      "text/html": [
       "<div>\n",
       "<style>\n",
       "    .dataframe thead tr:only-child th {\n",
       "        text-align: right;\n",
       "    }\n",
       "\n",
       "    .dataframe thead th {\n",
       "        text-align: left;\n",
       "    }\n",
       "\n",
       "    .dataframe tbody tr th {\n",
       "        vertical-align: top;\n",
       "    }\n",
       "</style>\n",
       "<table border=\"1\" class=\"dataframe\">\n",
       "  <thead>\n",
       "    <tr style=\"text-align: right;\">\n",
       "      <th></th>\n",
       "      <th>99211</th>\n",
       "      <th>99212</th>\n",
       "      <th>99213</th>\n",
       "      <th>99214</th>\n",
       "      <th>99215</th>\n",
       "      <th>Full Name</th>\n",
       "      <th>NPI</th>\n",
       "      <th>total</th>\n",
       "    </tr>\n",
       "  </thead>\n",
       "  <tbody>\n",
       "    <tr>\n",
       "      <th>120</th>\n",
       "      <td>0.00</td>\n",
       "      <td>0.0</td>\n",
       "      <td>0.0</td>\n",
       "      <td>0.00</td>\n",
       "      <td>1.00</td>\n",
       "      <td>AARON TUCKLER</td>\n",
       "      <td>1760771000</td>\n",
       "      <td>137.0</td>\n",
       "    </tr>\n",
       "    <tr>\n",
       "      <th>215</th>\n",
       "      <td>0.00</td>\n",
       "      <td>0.0</td>\n",
       "      <td>0.0</td>\n",
       "      <td>0.00</td>\n",
       "      <td>1.00</td>\n",
       "      <td>ABOO MANNAN</td>\n",
       "      <td>1326327990</td>\n",
       "      <td>157.0</td>\n",
       "    </tr>\n",
       "    <tr>\n",
       "      <th>566</th>\n",
       "      <td>0.00</td>\n",
       "      <td>0.0</td>\n",
       "      <td>0.0</td>\n",
       "      <td>0.00</td>\n",
       "      <td>1.00</td>\n",
       "      <td>AHMAD MARAIKAYER</td>\n",
       "      <td>1376628586</td>\n",
       "      <td>39.0</td>\n",
       "    </tr>\n",
       "    <tr>\n",
       "      <th>667</th>\n",
       "      <td>0.00</td>\n",
       "      <td>0.0</td>\n",
       "      <td>0.0</td>\n",
       "      <td>0.00</td>\n",
       "      <td>1.00</td>\n",
       "      <td>AKILESH PALANISAMY</td>\n",
       "      <td>1114009230</td>\n",
       "      <td>170.0</td>\n",
       "    </tr>\n",
       "    <tr>\n",
       "      <th>1019</th>\n",
       "      <td>0.00</td>\n",
       "      <td>0.0</td>\n",
       "      <td>0.0</td>\n",
       "      <td>0.00</td>\n",
       "      <td>1.00</td>\n",
       "      <td>ALEJANDRO ZAMBRA</td>\n",
       "      <td>1194730465</td>\n",
       "      <td>38.0</td>\n",
       "    </tr>\n",
       "    <tr>\n",
       "      <th>1082</th>\n",
       "      <td>0.00</td>\n",
       "      <td>0.0</td>\n",
       "      <td>0.0</td>\n",
       "      <td>0.00</td>\n",
       "      <td>1.00</td>\n",
       "      <td>ALEXANDER AKHAVAN</td>\n",
       "      <td>1801898374</td>\n",
       "      <td>19.0</td>\n",
       "    </tr>\n",
       "    <tr>\n",
       "      <th>1116</th>\n",
       "      <td>0.00</td>\n",
       "      <td>0.0</td>\n",
       "      <td>0.0</td>\n",
       "      <td>0.06</td>\n",
       "      <td>0.94</td>\n",
       "      <td>ALEXANDER KIOTIS</td>\n",
       "      <td>1093732752</td>\n",
       "      <td>287.0</td>\n",
       "    </tr>\n",
       "    <tr>\n",
       "      <th>1146</th>\n",
       "      <td>0.00</td>\n",
       "      <td>0.0</td>\n",
       "      <td>0.0</td>\n",
       "      <td>0.00</td>\n",
       "      <td>1.00</td>\n",
       "      <td>ALEXANDER SHERRIFFS</td>\n",
       "      <td>1154353050</td>\n",
       "      <td>65.0</td>\n",
       "    </tr>\n",
       "    <tr>\n",
       "      <th>1236</th>\n",
       "      <td>0.00</td>\n",
       "      <td>0.0</td>\n",
       "      <td>0.0</td>\n",
       "      <td>0.00</td>\n",
       "      <td>1.00</td>\n",
       "      <td>ALFRED SANTANGELO</td>\n",
       "      <td>1336222033</td>\n",
       "      <td>83.0</td>\n",
       "    </tr>\n",
       "    <tr>\n",
       "      <th>1659</th>\n",
       "      <td>0.00</td>\n",
       "      <td>0.0</td>\n",
       "      <td>0.0</td>\n",
       "      <td>0.00</td>\n",
       "      <td>1.00</td>\n",
       "      <td>ALMA GEORGE</td>\n",
       "      <td>1902838485</td>\n",
       "      <td>15.0</td>\n",
       "    </tr>\n",
       "    <tr>\n",
       "      <th>3114</th>\n",
       "      <td>0.00</td>\n",
       "      <td>0.0</td>\n",
       "      <td>0.0</td>\n",
       "      <td>0.00</td>\n",
       "      <td>1.00</td>\n",
       "      <td>ANIA FERNANDEZ-MAITIN</td>\n",
       "      <td>1093774184</td>\n",
       "      <td>22.0</td>\n",
       "    </tr>\n",
       "    <tr>\n",
       "      <th>4650</th>\n",
       "      <td>0.00</td>\n",
       "      <td>0.0</td>\n",
       "      <td>0.0</td>\n",
       "      <td>0.00</td>\n",
       "      <td>1.00</td>\n",
       "      <td>ATTOULLAH SYED</td>\n",
       "      <td>1447344403</td>\n",
       "      <td>78.0</td>\n",
       "    </tr>\n",
       "    <tr>\n",
       "      <th>4657</th>\n",
       "      <td>0.00</td>\n",
       "      <td>0.0</td>\n",
       "      <td>0.0</td>\n",
       "      <td>0.00</td>\n",
       "      <td>1.00</td>\n",
       "      <td>AUBREY KNIGHT</td>\n",
       "      <td>1255494332</td>\n",
       "      <td>44.0</td>\n",
       "    </tr>\n",
       "    <tr>\n",
       "      <th>4747</th>\n",
       "      <td>0.00</td>\n",
       "      <td>0.0</td>\n",
       "      <td>0.0</td>\n",
       "      <td>0.00</td>\n",
       "      <td>1.00</td>\n",
       "      <td>AVANI GUPTA</td>\n",
       "      <td>1396904249</td>\n",
       "      <td>24.0</td>\n",
       "    </tr>\n",
       "    <tr>\n",
       "      <th>5107</th>\n",
       "      <td>0.00</td>\n",
       "      <td>0.0</td>\n",
       "      <td>0.0</td>\n",
       "      <td>0.00</td>\n",
       "      <td>1.00</td>\n",
       "      <td>BARRY SHEFA</td>\n",
       "      <td>1710194220</td>\n",
       "      <td>15.0</td>\n",
       "    </tr>\n",
       "    <tr>\n",
       "      <th>5550</th>\n",
       "      <td>0.00</td>\n",
       "      <td>0.0</td>\n",
       "      <td>0.0</td>\n",
       "      <td>0.00</td>\n",
       "      <td>1.00</td>\n",
       "      <td>BERNARDA ZENKER</td>\n",
       "      <td>1700878972</td>\n",
       "      <td>93.0</td>\n",
       "    </tr>\n",
       "    <tr>\n",
       "      <th>5770</th>\n",
       "      <td>0.00</td>\n",
       "      <td>0.0</td>\n",
       "      <td>0.0</td>\n",
       "      <td>0.00</td>\n",
       "      <td>1.00</td>\n",
       "      <td>BHOOMIKA SHAH</td>\n",
       "      <td>1477728962</td>\n",
       "      <td>16.0</td>\n",
       "    </tr>\n",
       "    <tr>\n",
       "      <th>5939</th>\n",
       "      <td>0.00</td>\n",
       "      <td>0.0</td>\n",
       "      <td>0.0</td>\n",
       "      <td>0.00</td>\n",
       "      <td>1.00</td>\n",
       "      <td>BOBBI LANCASTER</td>\n",
       "      <td>1295729853</td>\n",
       "      <td>29.0</td>\n",
       "    </tr>\n",
       "    <tr>\n",
       "      <th>6084</th>\n",
       "      <td>0.00</td>\n",
       "      <td>0.0</td>\n",
       "      <td>0.0</td>\n",
       "      <td>0.00</td>\n",
       "      <td>1.00</td>\n",
       "      <td>BRAD PADDOCK</td>\n",
       "      <td>1891764155</td>\n",
       "      <td>80.0</td>\n",
       "    </tr>\n",
       "    <tr>\n",
       "      <th>6786</th>\n",
       "      <td>0.00</td>\n",
       "      <td>0.0</td>\n",
       "      <td>0.0</td>\n",
       "      <td>0.04</td>\n",
       "      <td>0.96</td>\n",
       "      <td>BRIAN MINKUS</td>\n",
       "      <td>1235165507</td>\n",
       "      <td>480.0</td>\n",
       "    </tr>\n",
       "    <tr>\n",
       "      <th>8269</th>\n",
       "      <td>0.00</td>\n",
       "      <td>0.0</td>\n",
       "      <td>0.0</td>\n",
       "      <td>0.00</td>\n",
       "      <td>1.00</td>\n",
       "      <td>CASSANDRA SCHAMBER</td>\n",
       "      <td>1851311039</td>\n",
       "      <td>103.0</td>\n",
       "    </tr>\n",
       "    <tr>\n",
       "      <th>8671</th>\n",
       "      <td>0.00</td>\n",
       "      <td>0.0</td>\n",
       "      <td>0.0</td>\n",
       "      <td>0.00</td>\n",
       "      <td>1.00</td>\n",
       "      <td>CHANDRA SHEKAR</td>\n",
       "      <td>1659466944</td>\n",
       "      <td>17.0</td>\n",
       "    </tr>\n",
       "    <tr>\n",
       "      <th>8738</th>\n",
       "      <td>0.00</td>\n",
       "      <td>0.0</td>\n",
       "      <td>0.0</td>\n",
       "      <td>0.00</td>\n",
       "      <td>1.00</td>\n",
       "      <td>CHARLES ADAMS</td>\n",
       "      <td>1992732168</td>\n",
       "      <td>51.0</td>\n",
       "    </tr>\n",
       "    <tr>\n",
       "      <th>8861</th>\n",
       "      <td>0.00</td>\n",
       "      <td>0.0</td>\n",
       "      <td>0.0</td>\n",
       "      <td>0.00</td>\n",
       "      <td>1.00</td>\n",
       "      <td>CHARLES EGBERT</td>\n",
       "      <td>1669578902</td>\n",
       "      <td>16.0</td>\n",
       "    </tr>\n",
       "    <tr>\n",
       "      <th>9005</th>\n",
       "      <td>0.00</td>\n",
       "      <td>0.0</td>\n",
       "      <td>0.0</td>\n",
       "      <td>0.00</td>\n",
       "      <td>1.00</td>\n",
       "      <td>CHARLES LUCAS</td>\n",
       "      <td>1740347046</td>\n",
       "      <td>222.0</td>\n",
       "    </tr>\n",
       "    <tr>\n",
       "      <th>9170</th>\n",
       "      <td>0.00</td>\n",
       "      <td>0.0</td>\n",
       "      <td>0.0</td>\n",
       "      <td>0.00</td>\n",
       "      <td>1.00</td>\n",
       "      <td>CHARLES TALTON</td>\n",
       "      <td>1164503785</td>\n",
       "      <td>21.0</td>\n",
       "    </tr>\n",
       "    <tr>\n",
       "      <th>9387</th>\n",
       "      <td>0.00</td>\n",
       "      <td>0.0</td>\n",
       "      <td>0.0</td>\n",
       "      <td>0.00</td>\n",
       "      <td>1.00</td>\n",
       "      <td>CHERYL NEWMAN</td>\n",
       "      <td>1902987837</td>\n",
       "      <td>50.0</td>\n",
       "    </tr>\n",
       "    <tr>\n",
       "      <th>11772</th>\n",
       "      <td>0.00</td>\n",
       "      <td>0.0</td>\n",
       "      <td>0.0</td>\n",
       "      <td>0.00</td>\n",
       "      <td>1.00</td>\n",
       "      <td>DANA GOOD</td>\n",
       "      <td>1669494902</td>\n",
       "      <td>49.0</td>\n",
       "    </tr>\n",
       "    <tr>\n",
       "      <th>12036</th>\n",
       "      <td>0.00</td>\n",
       "      <td>0.0</td>\n",
       "      <td>0.0</td>\n",
       "      <td>0.00</td>\n",
       "      <td>1.00</td>\n",
       "      <td>DANIEL HAY</td>\n",
       "      <td>1578514683</td>\n",
       "      <td>80.0</td>\n",
       "    </tr>\n",
       "    <tr>\n",
       "      <th>12324</th>\n",
       "      <td>0.00</td>\n",
       "      <td>0.0</td>\n",
       "      <td>0.0</td>\n",
       "      <td>0.00</td>\n",
       "      <td>1.00</td>\n",
       "      <td>DANIEL SPURGEON</td>\n",
       "      <td>1396936282</td>\n",
       "      <td>20.0</td>\n",
       "    </tr>\n",
       "    <tr>\n",
       "      <th>...</th>\n",
       "      <td>...</td>\n",
       "      <td>...</td>\n",
       "      <td>...</td>\n",
       "      <td>...</td>\n",
       "      <td>...</td>\n",
       "      <td>...</td>\n",
       "      <td>...</td>\n",
       "      <td>...</td>\n",
       "    </tr>\n",
       "    <tr>\n",
       "      <th>53935</th>\n",
       "      <td>0.00</td>\n",
       "      <td>0.0</td>\n",
       "      <td>0.0</td>\n",
       "      <td>0.07</td>\n",
       "      <td>0.93</td>\n",
       "      <td>ROBERT LYCKSELL</td>\n",
       "      <td>1922085901</td>\n",
       "      <td>2312.0</td>\n",
       "    </tr>\n",
       "    <tr>\n",
       "      <th>54771</th>\n",
       "      <td>0.00</td>\n",
       "      <td>0.0</td>\n",
       "      <td>0.0</td>\n",
       "      <td>0.00</td>\n",
       "      <td>1.00</td>\n",
       "      <td>RODELL CRUISE</td>\n",
       "      <td>1881687762</td>\n",
       "      <td>613.0</td>\n",
       "    </tr>\n",
       "    <tr>\n",
       "      <th>54941</th>\n",
       "      <td>0.00</td>\n",
       "      <td>0.0</td>\n",
       "      <td>0.0</td>\n",
       "      <td>0.00</td>\n",
       "      <td>1.00</td>\n",
       "      <td>ROGER MURRAY</td>\n",
       "      <td>1942288816</td>\n",
       "      <td>60.0</td>\n",
       "    </tr>\n",
       "    <tr>\n",
       "      <th>55269</th>\n",
       "      <td>0.00</td>\n",
       "      <td>0.0</td>\n",
       "      <td>0.0</td>\n",
       "      <td>0.00</td>\n",
       "      <td>1.00</td>\n",
       "      <td>RONALD LESKO</td>\n",
       "      <td>1013947969</td>\n",
       "      <td>52.0</td>\n",
       "    </tr>\n",
       "    <tr>\n",
       "      <th>55411</th>\n",
       "      <td>0.00</td>\n",
       "      <td>0.0</td>\n",
       "      <td>0.0</td>\n",
       "      <td>0.00</td>\n",
       "      <td>1.00</td>\n",
       "      <td>RONALDO PARAS</td>\n",
       "      <td>1881713568</td>\n",
       "      <td>30.0</td>\n",
       "    </tr>\n",
       "    <tr>\n",
       "      <th>55682</th>\n",
       "      <td>0.00</td>\n",
       "      <td>0.0</td>\n",
       "      <td>0.0</td>\n",
       "      <td>0.09</td>\n",
       "      <td>0.91</td>\n",
       "      <td>ROY TURNER</td>\n",
       "      <td>1093743403</td>\n",
       "      <td>243.0</td>\n",
       "    </tr>\n",
       "    <tr>\n",
       "      <th>56261</th>\n",
       "      <td>0.00</td>\n",
       "      <td>0.0</td>\n",
       "      <td>0.0</td>\n",
       "      <td>0.00</td>\n",
       "      <td>1.00</td>\n",
       "      <td>SALLY TAYLOR</td>\n",
       "      <td>1467448001</td>\n",
       "      <td>275.0</td>\n",
       "    </tr>\n",
       "    <tr>\n",
       "      <th>56264</th>\n",
       "      <td>0.00</td>\n",
       "      <td>0.0</td>\n",
       "      <td>0.0</td>\n",
       "      <td>0.00</td>\n",
       "      <td>1.00</td>\n",
       "      <td>SALLY WILLIAMS</td>\n",
       "      <td>1598755001</td>\n",
       "      <td>39.0</td>\n",
       "    </tr>\n",
       "    <tr>\n",
       "      <th>56378</th>\n",
       "      <td>0.00</td>\n",
       "      <td>0.0</td>\n",
       "      <td>0.0</td>\n",
       "      <td>0.00</td>\n",
       "      <td>1.00</td>\n",
       "      <td>SAMIR PATEL</td>\n",
       "      <td>1699090860</td>\n",
       "      <td>23.0</td>\n",
       "    </tr>\n",
       "    <tr>\n",
       "      <th>57433</th>\n",
       "      <td>0.00</td>\n",
       "      <td>0.0</td>\n",
       "      <td>0.0</td>\n",
       "      <td>0.00</td>\n",
       "      <td>1.00</td>\n",
       "      <td>SCOTT MCMAHON</td>\n",
       "      <td>1528078938</td>\n",
       "      <td>46.0</td>\n",
       "    </tr>\n",
       "    <tr>\n",
       "      <th>57713</th>\n",
       "      <td>0.00</td>\n",
       "      <td>0.0</td>\n",
       "      <td>0.0</td>\n",
       "      <td>0.02</td>\n",
       "      <td>0.98</td>\n",
       "      <td>SEEMA MODI</td>\n",
       "      <td>1043204423</td>\n",
       "      <td>1091.0</td>\n",
       "    </tr>\n",
       "    <tr>\n",
       "      <th>57735</th>\n",
       "      <td>0.00</td>\n",
       "      <td>0.0</td>\n",
       "      <td>0.0</td>\n",
       "      <td>0.00</td>\n",
       "      <td>1.00</td>\n",
       "      <td>SEMIRA DARIUSHNIA</td>\n",
       "      <td>1184725053</td>\n",
       "      <td>28.0</td>\n",
       "    </tr>\n",
       "    <tr>\n",
       "      <th>58896</th>\n",
       "      <td>0.00</td>\n",
       "      <td>0.0</td>\n",
       "      <td>0.0</td>\n",
       "      <td>0.00</td>\n",
       "      <td>1.00</td>\n",
       "      <td>SIRRI NOMO-ONGOLO</td>\n",
       "      <td>1306895271</td>\n",
       "      <td>17.0</td>\n",
       "    </tr>\n",
       "    <tr>\n",
       "      <th>59136</th>\n",
       "      <td>0.05</td>\n",
       "      <td>0.0</td>\n",
       "      <td>0.0</td>\n",
       "      <td>0.03</td>\n",
       "      <td>0.92</td>\n",
       "      <td>SPASOJE NESKOVIC</td>\n",
       "      <td>1780792739</td>\n",
       "      <td>545.0</td>\n",
       "    </tr>\n",
       "    <tr>\n",
       "      <th>59419</th>\n",
       "      <td>0.00</td>\n",
       "      <td>0.0</td>\n",
       "      <td>0.0</td>\n",
       "      <td>0.00</td>\n",
       "      <td>1.00</td>\n",
       "      <td>STEFANIE STEVENSON</td>\n",
       "      <td>1841237625</td>\n",
       "      <td>16.0</td>\n",
       "    </tr>\n",
       "    <tr>\n",
       "      <th>60206</th>\n",
       "      <td>0.00</td>\n",
       "      <td>0.0</td>\n",
       "      <td>0.0</td>\n",
       "      <td>0.05</td>\n",
       "      <td>0.95</td>\n",
       "      <td>STEVEN COHEN</td>\n",
       "      <td>1083780407</td>\n",
       "      <td>474.0</td>\n",
       "    </tr>\n",
       "    <tr>\n",
       "      <th>60434</th>\n",
       "      <td>0.00</td>\n",
       "      <td>0.0</td>\n",
       "      <td>0.0</td>\n",
       "      <td>0.00</td>\n",
       "      <td>1.00</td>\n",
       "      <td>STEVEN LUCKS</td>\n",
       "      <td>1588783039</td>\n",
       "      <td>69.0</td>\n",
       "    </tr>\n",
       "    <tr>\n",
       "      <th>60759</th>\n",
       "      <td>0.00</td>\n",
       "      <td>0.0</td>\n",
       "      <td>0.0</td>\n",
       "      <td>0.00</td>\n",
       "      <td>1.00</td>\n",
       "      <td>STUART SEALE</td>\n",
       "      <td>1376584136</td>\n",
       "      <td>48.0</td>\n",
       "    </tr>\n",
       "    <tr>\n",
       "      <th>61027</th>\n",
       "      <td>0.00</td>\n",
       "      <td>0.0</td>\n",
       "      <td>0.0</td>\n",
       "      <td>0.00</td>\n",
       "      <td>1.00</td>\n",
       "      <td>SUSAN BEAVEN</td>\n",
       "      <td>1780908376</td>\n",
       "      <td>83.0</td>\n",
       "    </tr>\n",
       "    <tr>\n",
       "      <th>61299</th>\n",
       "      <td>0.00</td>\n",
       "      <td>0.0</td>\n",
       "      <td>0.0</td>\n",
       "      <td>0.10</td>\n",
       "      <td>0.90</td>\n",
       "      <td>SUSAN SHLIFER</td>\n",
       "      <td>1871647313</td>\n",
       "      <td>333.0</td>\n",
       "    </tr>\n",
       "    <tr>\n",
       "      <th>61980</th>\n",
       "      <td>0.00</td>\n",
       "      <td>0.0</td>\n",
       "      <td>0.0</td>\n",
       "      <td>0.00</td>\n",
       "      <td>1.00</td>\n",
       "      <td>TATIANA NEUMANN</td>\n",
       "      <td>1427386911</td>\n",
       "      <td>49.0</td>\n",
       "    </tr>\n",
       "    <tr>\n",
       "      <th>62713</th>\n",
       "      <td>0.00</td>\n",
       "      <td>0.0</td>\n",
       "      <td>0.0</td>\n",
       "      <td>0.00</td>\n",
       "      <td>1.00</td>\n",
       "      <td>THOMAS CHRISTENSEN</td>\n",
       "      <td>1013923994</td>\n",
       "      <td>23.0</td>\n",
       "    </tr>\n",
       "    <tr>\n",
       "      <th>64565</th>\n",
       "      <td>0.00</td>\n",
       "      <td>0.0</td>\n",
       "      <td>0.0</td>\n",
       "      <td>0.08</td>\n",
       "      <td>0.92</td>\n",
       "      <td>TRUNG NGUYEN</td>\n",
       "      <td>1831401132</td>\n",
       "      <td>191.0</td>\n",
       "    </tr>\n",
       "    <tr>\n",
       "      <th>65289</th>\n",
       "      <td>0.00</td>\n",
       "      <td>0.0</td>\n",
       "      <td>0.0</td>\n",
       "      <td>0.05</td>\n",
       "      <td>0.95</td>\n",
       "      <td>VIJAY DIWADKAR</td>\n",
       "      <td>1861581720</td>\n",
       "      <td>366.0</td>\n",
       "    </tr>\n",
       "    <tr>\n",
       "      <th>65503</th>\n",
       "      <td>0.00</td>\n",
       "      <td>0.0</td>\n",
       "      <td>0.0</td>\n",
       "      <td>0.00</td>\n",
       "      <td>1.00</td>\n",
       "      <td>VIRGINIA TEMPLETON</td>\n",
       "      <td>1407811136</td>\n",
       "      <td>146.0</td>\n",
       "    </tr>\n",
       "    <tr>\n",
       "      <th>66652</th>\n",
       "      <td>0.00</td>\n",
       "      <td>0.0</td>\n",
       "      <td>0.0</td>\n",
       "      <td>0.10</td>\n",
       "      <td>0.90</td>\n",
       "      <td>WILLIAM HUTCHINGS</td>\n",
       "      <td>1558319210</td>\n",
       "      <td>396.0</td>\n",
       "    </tr>\n",
       "    <tr>\n",
       "      <th>67040</th>\n",
       "      <td>0.07</td>\n",
       "      <td>0.0</td>\n",
       "      <td>0.0</td>\n",
       "      <td>0.02</td>\n",
       "      <td>0.92</td>\n",
       "      <td>WILLIAM SAWYER</td>\n",
       "      <td>1912047994</td>\n",
       "      <td>773.0</td>\n",
       "    </tr>\n",
       "    <tr>\n",
       "      <th>67144</th>\n",
       "      <td>0.00</td>\n",
       "      <td>0.0</td>\n",
       "      <td>0.0</td>\n",
       "      <td>0.10</td>\n",
       "      <td>0.90</td>\n",
       "      <td>WILLIAM THOMPSON</td>\n",
       "      <td>1013985035</td>\n",
       "      <td>1401.0</td>\n",
       "    </tr>\n",
       "    <tr>\n",
       "      <th>67498</th>\n",
       "      <td>0.00</td>\n",
       "      <td>0.0</td>\n",
       "      <td>0.0</td>\n",
       "      <td>0.00</td>\n",
       "      <td>1.00</td>\n",
       "      <td>YOGESH SHAH</td>\n",
       "      <td>1265510465</td>\n",
       "      <td>53.0</td>\n",
       "    </tr>\n",
       "    <tr>\n",
       "      <th>67674</th>\n",
       "      <td>0.00</td>\n",
       "      <td>0.0</td>\n",
       "      <td>0.0</td>\n",
       "      <td>0.00</td>\n",
       "      <td>1.00</td>\n",
       "      <td>ZAHID SHEIKH</td>\n",
       "      <td>1720045586</td>\n",
       "      <td>12.0</td>\n",
       "    </tr>\n",
       "  </tbody>\n",
       "</table>\n",
       "<p>135 rows × 8 columns</p>\n",
       "</div>"
      ],
      "text/plain": [
       "       99211  99212  99213  99214  99215              Full Name         NPI  \\\n",
       "120     0.00    0.0    0.0   0.00   1.00          AARON TUCKLER  1760771000   \n",
       "215     0.00    0.0    0.0   0.00   1.00            ABOO MANNAN  1326327990   \n",
       "566     0.00    0.0    0.0   0.00   1.00       AHMAD MARAIKAYER  1376628586   \n",
       "667     0.00    0.0    0.0   0.00   1.00     AKILESH PALANISAMY  1114009230   \n",
       "1019    0.00    0.0    0.0   0.00   1.00       ALEJANDRO ZAMBRA  1194730465   \n",
       "1082    0.00    0.0    0.0   0.00   1.00      ALEXANDER AKHAVAN  1801898374   \n",
       "1116    0.00    0.0    0.0   0.06   0.94       ALEXANDER KIOTIS  1093732752   \n",
       "1146    0.00    0.0    0.0   0.00   1.00    ALEXANDER SHERRIFFS  1154353050   \n",
       "1236    0.00    0.0    0.0   0.00   1.00      ALFRED SANTANGELO  1336222033   \n",
       "1659    0.00    0.0    0.0   0.00   1.00            ALMA GEORGE  1902838485   \n",
       "3114    0.00    0.0    0.0   0.00   1.00  ANIA FERNANDEZ-MAITIN  1093774184   \n",
       "4650    0.00    0.0    0.0   0.00   1.00         ATTOULLAH SYED  1447344403   \n",
       "4657    0.00    0.0    0.0   0.00   1.00          AUBREY KNIGHT  1255494332   \n",
       "4747    0.00    0.0    0.0   0.00   1.00            AVANI GUPTA  1396904249   \n",
       "5107    0.00    0.0    0.0   0.00   1.00            BARRY SHEFA  1710194220   \n",
       "5550    0.00    0.0    0.0   0.00   1.00        BERNARDA ZENKER  1700878972   \n",
       "5770    0.00    0.0    0.0   0.00   1.00          BHOOMIKA SHAH  1477728962   \n",
       "5939    0.00    0.0    0.0   0.00   1.00        BOBBI LANCASTER  1295729853   \n",
       "6084    0.00    0.0    0.0   0.00   1.00           BRAD PADDOCK  1891764155   \n",
       "6786    0.00    0.0    0.0   0.04   0.96           BRIAN MINKUS  1235165507   \n",
       "8269    0.00    0.0    0.0   0.00   1.00     CASSANDRA SCHAMBER  1851311039   \n",
       "8671    0.00    0.0    0.0   0.00   1.00         CHANDRA SHEKAR  1659466944   \n",
       "8738    0.00    0.0    0.0   0.00   1.00          CHARLES ADAMS  1992732168   \n",
       "8861    0.00    0.0    0.0   0.00   1.00         CHARLES EGBERT  1669578902   \n",
       "9005    0.00    0.0    0.0   0.00   1.00          CHARLES LUCAS  1740347046   \n",
       "9170    0.00    0.0    0.0   0.00   1.00         CHARLES TALTON  1164503785   \n",
       "9387    0.00    0.0    0.0   0.00   1.00          CHERYL NEWMAN  1902987837   \n",
       "11772   0.00    0.0    0.0   0.00   1.00              DANA GOOD  1669494902   \n",
       "12036   0.00    0.0    0.0   0.00   1.00             DANIEL HAY  1578514683   \n",
       "12324   0.00    0.0    0.0   0.00   1.00        DANIEL SPURGEON  1396936282   \n",
       "...      ...    ...    ...    ...    ...                    ...         ...   \n",
       "53935   0.00    0.0    0.0   0.07   0.93        ROBERT LYCKSELL  1922085901   \n",
       "54771   0.00    0.0    0.0   0.00   1.00          RODELL CRUISE  1881687762   \n",
       "54941   0.00    0.0    0.0   0.00   1.00           ROGER MURRAY  1942288816   \n",
       "55269   0.00    0.0    0.0   0.00   1.00           RONALD LESKO  1013947969   \n",
       "55411   0.00    0.0    0.0   0.00   1.00          RONALDO PARAS  1881713568   \n",
       "55682   0.00    0.0    0.0   0.09   0.91             ROY TURNER  1093743403   \n",
       "56261   0.00    0.0    0.0   0.00   1.00           SALLY TAYLOR  1467448001   \n",
       "56264   0.00    0.0    0.0   0.00   1.00         SALLY WILLIAMS  1598755001   \n",
       "56378   0.00    0.0    0.0   0.00   1.00            SAMIR PATEL  1699090860   \n",
       "57433   0.00    0.0    0.0   0.00   1.00          SCOTT MCMAHON  1528078938   \n",
       "57713   0.00    0.0    0.0   0.02   0.98             SEEMA MODI  1043204423   \n",
       "57735   0.00    0.0    0.0   0.00   1.00      SEMIRA DARIUSHNIA  1184725053   \n",
       "58896   0.00    0.0    0.0   0.00   1.00      SIRRI NOMO-ONGOLO  1306895271   \n",
       "59136   0.05    0.0    0.0   0.03   0.92       SPASOJE NESKOVIC  1780792739   \n",
       "59419   0.00    0.0    0.0   0.00   1.00     STEFANIE STEVENSON  1841237625   \n",
       "60206   0.00    0.0    0.0   0.05   0.95           STEVEN COHEN  1083780407   \n",
       "60434   0.00    0.0    0.0   0.00   1.00           STEVEN LUCKS  1588783039   \n",
       "60759   0.00    0.0    0.0   0.00   1.00           STUART SEALE  1376584136   \n",
       "61027   0.00    0.0    0.0   0.00   1.00           SUSAN BEAVEN  1780908376   \n",
       "61299   0.00    0.0    0.0   0.10   0.90          SUSAN SHLIFER  1871647313   \n",
       "61980   0.00    0.0    0.0   0.00   1.00        TATIANA NEUMANN  1427386911   \n",
       "62713   0.00    0.0    0.0   0.00   1.00     THOMAS CHRISTENSEN  1013923994   \n",
       "64565   0.00    0.0    0.0   0.08   0.92           TRUNG NGUYEN  1831401132   \n",
       "65289   0.00    0.0    0.0   0.05   0.95         VIJAY DIWADKAR  1861581720   \n",
       "65503   0.00    0.0    0.0   0.00   1.00     VIRGINIA TEMPLETON  1407811136   \n",
       "66652   0.00    0.0    0.0   0.10   0.90      WILLIAM HUTCHINGS  1558319210   \n",
       "67040   0.07    0.0    0.0   0.02   0.92         WILLIAM SAWYER  1912047994   \n",
       "67144   0.00    0.0    0.0   0.10   0.90       WILLIAM THOMPSON  1013985035   \n",
       "67498   0.00    0.0    0.0   0.00   1.00            YOGESH SHAH  1265510465   \n",
       "67674   0.00    0.0    0.0   0.00   1.00           ZAHID SHEIKH  1720045586   \n",
       "\n",
       "        total  \n",
       "120     137.0  \n",
       "215     157.0  \n",
       "566      39.0  \n",
       "667     170.0  \n",
       "1019     38.0  \n",
       "1082     19.0  \n",
       "1116    287.0  \n",
       "1146     65.0  \n",
       "1236     83.0  \n",
       "1659     15.0  \n",
       "3114     22.0  \n",
       "4650     78.0  \n",
       "4657     44.0  \n",
       "4747     24.0  \n",
       "5107     15.0  \n",
       "5550     93.0  \n",
       "5770     16.0  \n",
       "5939     29.0  \n",
       "6084     80.0  \n",
       "6786    480.0  \n",
       "8269    103.0  \n",
       "8671     17.0  \n",
       "8738     51.0  \n",
       "8861     16.0  \n",
       "9005    222.0  \n",
       "9170     21.0  \n",
       "9387     50.0  \n",
       "11772    49.0  \n",
       "12036    80.0  \n",
       "12324    20.0  \n",
       "...       ...  \n",
       "53935  2312.0  \n",
       "54771   613.0  \n",
       "54941    60.0  \n",
       "55269    52.0  \n",
       "55411    30.0  \n",
       "55682   243.0  \n",
       "56261   275.0  \n",
       "56264    39.0  \n",
       "56378    23.0  \n",
       "57433    46.0  \n",
       "57713  1091.0  \n",
       "57735    28.0  \n",
       "58896    17.0  \n",
       "59136   545.0  \n",
       "59419    16.0  \n",
       "60206   474.0  \n",
       "60434    69.0  \n",
       "60759    48.0  \n",
       "61027    83.0  \n",
       "61299   333.0  \n",
       "61980    49.0  \n",
       "62713    23.0  \n",
       "64565   191.0  \n",
       "65289   366.0  \n",
       "65503   146.0  \n",
       "66652   396.0  \n",
       "67040   773.0  \n",
       "67144  1401.0  \n",
       "67498    53.0  \n",
       "67674    12.0  \n",
       "\n",
       "[135 rows x 8 columns]"
      ]
     },
     "execution_count": 86,
     "metadata": {},
     "output_type": "execute_result"
    }
   ],
   "source": [
    "fpo4[fpo4['99215'] >= 0.9]"
   ]
  },
  {
   "cell_type": "markdown",
   "metadata": {},
   "source": [
    "This is a cause for concern. How can so many physicians not have any Level 3 or 4 services. This data has more chances of fradulent behavior and should be investigated for potential fraud and abuse. "
   ]
  },
  {
   "cell_type": "markdown",
   "metadata": {
    "collapsed": true
   },
   "source": [
    "# Method 4 - Clustering"
   ]
  },
  {
   "cell_type": "markdown",
   "metadata": {},
   "source": [
    "Our next method for analysis is the application of Clustering algorithms, specficially the K-means clustering. The features used for clustering are the service counts and paid amounts. Since the dataset is large, let us take a sample for our clustering analysis. "
   ]
  },
  {
   "cell_type": "code",
   "execution_count": 7,
   "metadata": {
    "collapsed": true
   },
   "outputs": [],
   "source": [
    "fm = individuals1.sample(100000)"
   ]
  },
  {
   "cell_type": "code",
   "execution_count": 8,
   "metadata": {
    "collapsed": true
   },
   "outputs": [],
   "source": [
    "fm1 = fm[['line_srvc_cnt', 'bene_unique_cnt', 'bene_day_srvc_cnt', 'average_Medicare_allowed_amt',\n",
    "                              'average_submitted_chrg_amt', 'average_Medicare_payment_amt', 'average_Medicare_standard_amt']]"
   ]
  },
  {
   "cell_type": "markdown",
   "metadata": {},
   "source": [
    "I have calculated the difference between charged amount and allowed amount and used it as a feature for the Euclidean distance calculation. "
   ]
  },
  {
   "cell_type": "code",
   "execution_count": 9,
   "metadata": {},
   "outputs": [],
   "source": [
    "fm1['diff'] = fm1['average_Medicare_allowed_amt'] - fm1['average_submitted_chrg_amt']"
   ]
  },
  {
   "cell_type": "code",
   "execution_count": 10,
   "metadata": {
    "collapsed": true
   },
   "outputs": [],
   "source": [
    "fm2 = fm1.drop(['average_Medicare_allowed_amt','average_submitted_chrg_amt', 'average_Medicare_payment_amt'], axis=1)"
   ]
  },
  {
   "cell_type": "code",
   "execution_count": 11,
   "metadata": {},
   "outputs": [
    {
     "data": {
      "text/plain": [
       "line_srvc_cnt                    float64\n",
       "bene_unique_cnt                  float64\n",
       "bene_day_srvc_cnt                float64\n",
       "average_Medicare_standard_amt    float64\n",
       "diff                             float64\n",
       "dtype: object"
      ]
     },
     "execution_count": 11,
     "metadata": {},
     "output_type": "execute_result"
    }
   ],
   "source": [
    "fm2.dtypes"
   ]
  },
  {
   "cell_type": "markdown",
   "metadata": {},
   "source": [
    "## Normalization"
   ]
  },
  {
   "cell_type": "markdown",
   "metadata": {},
   "source": [
    "The clustering algorithms perform better with normalized features, as variables with large scale might have different effects compared with variables of smaller scale. The preprocessing package from scikit-learn is utilized for this purpose."
   ]
  },
  {
   "cell_type": "code",
   "execution_count": 12,
   "metadata": {
    "collapsed": true
   },
   "outputs": [],
   "source": [
    "fm3 = prp.normalize(fm2)"
   ]
  },
  {
   "cell_type": "markdown",
   "metadata": {},
   "source": [
    "## Dimensionality Reduction - PCA"
   ]
  },
  {
   "cell_type": "markdown",
   "metadata": {},
   "source": [
    "We only have 4 variable but some of those variables are correlated, such as a the line_srvc_cnt and the bene_day_srvc_cnt. If service variables dominate the clustering compared to the amount variables, the results might not be accurate. So Principal Component Analysis Technique is used to perform a linear method of dimensionality reduction. "
   ]
  },
  {
   "cell_type": "code",
   "execution_count": 13,
   "metadata": {
    "collapsed": true
   },
   "outputs": [],
   "source": [
    "model = PCA(n_components=3)"
   ]
  },
  {
   "cell_type": "code",
   "execution_count": 14,
   "metadata": {},
   "outputs": [
    {
     "data": {
      "text/plain": [
       "PCA(copy=True, iterated_power='auto', n_components=3, random_state=None,\n",
       "  svd_solver='auto', tol=0.0, whiten=False)"
      ]
     },
     "execution_count": 14,
     "metadata": {},
     "output_type": "execute_result"
    }
   ],
   "source": [
    "model.fit(fm3)"
   ]
  },
  {
   "cell_type": "code",
   "execution_count": 15,
   "metadata": {
    "collapsed": true
   },
   "outputs": [],
   "source": [
    "fm4 = model.transform(fm3)"
   ]
  },
  {
   "cell_type": "code",
   "execution_count": 16,
   "metadata": {
    "collapsed": true
   },
   "outputs": [],
   "source": [
    "fm5 = pd.DataFrame({'comp1': fm4[:,0], 'comp2': fm4[:,1], 'comp3': fm4[:,2]})"
   ]
  },
  {
   "cell_type": "code",
   "execution_count": 17,
   "metadata": {},
   "outputs": [
    {
     "data": {
      "text/html": [
       "<div>\n",
       "<style>\n",
       "    .dataframe thead tr:only-child th {\n",
       "        text-align: right;\n",
       "    }\n",
       "\n",
       "    .dataframe thead th {\n",
       "        text-align: left;\n",
       "    }\n",
       "\n",
       "    .dataframe tbody tr th {\n",
       "        vertical-align: top;\n",
       "    }\n",
       "</style>\n",
       "<table border=\"1\" class=\"dataframe\">\n",
       "  <thead>\n",
       "    <tr style=\"text-align: right;\">\n",
       "      <th></th>\n",
       "      <th>comp1</th>\n",
       "      <th>comp2</th>\n",
       "      <th>comp3</th>\n",
       "    </tr>\n",
       "  </thead>\n",
       "  <tbody>\n",
       "    <tr>\n",
       "      <th>0</th>\n",
       "      <td>0.100342</td>\n",
       "      <td>-0.056869</td>\n",
       "      <td>-0.156609</td>\n",
       "    </tr>\n",
       "    <tr>\n",
       "      <th>1</th>\n",
       "      <td>0.057186</td>\n",
       "      <td>0.102627</td>\n",
       "      <td>-0.165185</td>\n",
       "    </tr>\n",
       "    <tr>\n",
       "      <th>2</th>\n",
       "      <td>-0.400749</td>\n",
       "      <td>-0.050473</td>\n",
       "      <td>0.058012</td>\n",
       "    </tr>\n",
       "    <tr>\n",
       "      <th>3</th>\n",
       "      <td>-0.441146</td>\n",
       "      <td>-0.085249</td>\n",
       "      <td>-0.110299</td>\n",
       "    </tr>\n",
       "    <tr>\n",
       "      <th>4</th>\n",
       "      <td>-0.262788</td>\n",
       "      <td>-0.188623</td>\n",
       "      <td>-0.165898</td>\n",
       "    </tr>\n",
       "  </tbody>\n",
       "</table>\n",
       "</div>"
      ],
      "text/plain": [
       "      comp1     comp2     comp3\n",
       "0  0.100342 -0.056869 -0.156609\n",
       "1  0.057186  0.102627 -0.165185\n",
       "2 -0.400749 -0.050473  0.058012\n",
       "3 -0.441146 -0.085249 -0.110299\n",
       "4 -0.262788 -0.188623 -0.165898"
      ]
     },
     "execution_count": 17,
     "metadata": {},
     "output_type": "execute_result"
    }
   ],
   "source": [
    "fm5.head() "
   ]
  },
  {
   "cell_type": "code",
   "execution_count": 18,
   "metadata": {
    "collapsed": true
   },
   "outputs": [],
   "source": [
    "fm6 = fm5.round(2)"
   ]
  },
  {
   "cell_type": "markdown",
   "metadata": {},
   "source": [
    "After rounding off, we now have 3 components as shown below. "
   ]
  },
  {
   "cell_type": "code",
   "execution_count": 19,
   "metadata": {},
   "outputs": [
    {
     "data": {
      "text/html": [
       "<div>\n",
       "<style>\n",
       "    .dataframe thead tr:only-child th {\n",
       "        text-align: right;\n",
       "    }\n",
       "\n",
       "    .dataframe thead th {\n",
       "        text-align: left;\n",
       "    }\n",
       "\n",
       "    .dataframe tbody tr th {\n",
       "        vertical-align: top;\n",
       "    }\n",
       "</style>\n",
       "<table border=\"1\" class=\"dataframe\">\n",
       "  <thead>\n",
       "    <tr style=\"text-align: right;\">\n",
       "      <th></th>\n",
       "      <th>comp1</th>\n",
       "      <th>comp2</th>\n",
       "      <th>comp3</th>\n",
       "    </tr>\n",
       "  </thead>\n",
       "  <tbody>\n",
       "    <tr>\n",
       "      <th>0</th>\n",
       "      <td>0.10</td>\n",
       "      <td>-0.06</td>\n",
       "      <td>-0.16</td>\n",
       "    </tr>\n",
       "    <tr>\n",
       "      <th>1</th>\n",
       "      <td>0.06</td>\n",
       "      <td>0.10</td>\n",
       "      <td>-0.17</td>\n",
       "    </tr>\n",
       "    <tr>\n",
       "      <th>2</th>\n",
       "      <td>-0.40</td>\n",
       "      <td>-0.05</td>\n",
       "      <td>0.06</td>\n",
       "    </tr>\n",
       "    <tr>\n",
       "      <th>3</th>\n",
       "      <td>-0.44</td>\n",
       "      <td>-0.09</td>\n",
       "      <td>-0.11</td>\n",
       "    </tr>\n",
       "    <tr>\n",
       "      <th>4</th>\n",
       "      <td>-0.26</td>\n",
       "      <td>-0.19</td>\n",
       "      <td>-0.17</td>\n",
       "    </tr>\n",
       "  </tbody>\n",
       "</table>\n",
       "</div>"
      ],
      "text/plain": [
       "   comp1  comp2  comp3\n",
       "0   0.10  -0.06  -0.16\n",
       "1   0.06   0.10  -0.17\n",
       "2  -0.40  -0.05   0.06\n",
       "3  -0.44  -0.09  -0.11\n",
       "4  -0.26  -0.19  -0.17"
      ]
     },
     "execution_count": 19,
     "metadata": {},
     "output_type": "execute_result"
    }
   ],
   "source": [
    "fm6.head()"
   ]
  },
  {
   "cell_type": "code",
   "execution_count": 21,
   "metadata": {
    "collapsed": true
   },
   "outputs": [],
   "source": [
    "fm8 = fm6.as_matrix()"
   ]
  },
  {
   "cell_type": "markdown",
   "metadata": {},
   "source": [
    "## Calculating WSS values for k=1 to 9"
   ]
  },
  {
   "cell_type": "markdown",
   "metadata": {},
   "source": [
    "To find the optimal number of clusters, we use the Within Sum of Squares (WSS) measure. If an increase in cluster does not yield a significant reduction in the magnitude of WSS, then the previous number is the most optimal K value for clustering. \n",
    "\n",
    "WSS is defined as the sum of squares of distance of each point from its nearest centroid. \n",
    "\n",
    "In the below code, the clusters are fitted for each value of K (totclust variable) and the cluster centers are stored in a list. "
   ]
  },
  {
   "cell_type": "code",
   "execution_count": 22,
   "metadata": {
    "collapsed": true
   },
   "outputs": [],
   "source": [
    "totclust = range(1,9)\n",
    "clusters = [KMeans(n_clusters=c).fit(fm6) for c in totclust]\n",
    "centr_lst = [cc.cluster_centers_ for cc in clusters]"
   ]
  },
  {
   "cell_type": "markdown",
   "metadata": {},
   "source": [
    "For each point in our dataset of 100,000 records, we calculate the Euclidean distance from all 3 centroids. "
   ]
  },
  {
   "cell_type": "code",
   "execution_count": 23,
   "metadata": {
    "collapsed": true
   },
   "outputs": [],
   "source": [
    "k_distance = [cdist(fm8, cent, 'euclidean') for cent in centr_lst]  "
   ]
  },
  {
   "cell_type": "markdown",
   "metadata": {},
   "source": [
    "Now each record has 3 distances for 3 centroids. We have to calculate the lowest distance since that is what is squared and summed to find WSS. The min function from NumPy calculates the least value along rows or columns. "
   ]
  },
  {
   "cell_type": "code",
   "execution_count": 24,
   "metadata": {},
   "outputs": [
    {
     "data": {
      "text/plain": [
       "[array([ 0.19799428,  0.20616225,  0.40753982, ...,  0.2996527 ,\n",
       "         0.27367001,  0.60372417]),\n",
       " array([ 0.37305654,  0.41538565,  0.07510648, ...,  0.25935869,\n",
       "         0.41964669,  0.20890892]),\n",
       " array([ 0.42359658,  0.36042646,  0.08027466, ...,  0.26463898,\n",
       "         0.43186587,  0.16370876]),\n",
       " array([ 0.12229877,  0.18767967,  0.13110691, ...,  0.22887916,\n",
       "         0.14531024,  0.1381826 ]),\n",
       " array([ 0.04921885,  0.17941519,  0.1555196 , ...,  0.25809432,\n",
       "         0.20307514,  0.15569607]),\n",
       " array([ 0.09217115,  0.19549658,  0.1567887 , ...,  0.25700534,\n",
       "         0.15134716,  0.12586935]),\n",
       " array([ 0.08846587,  0.21926902,  0.16387888, ...,  0.2718822 ,\n",
       "         0.15184044,  0.09051289]),\n",
       " array([ 0.1354387 ,  0.26715817,  0.18198658, ...,  0.0633413 ,\n",
       "         0.15010007,  0.06350669])]"
      ]
     },
     "execution_count": 24,
     "metadata": {},
     "output_type": "execute_result"
    }
   ],
   "source": [
    "distances = [np.min(kd,axis=1) for kd in k_distance] \n",
    "distances"
   ]
  },
  {
   "cell_type": "markdown",
   "metadata": {},
   "source": [
    "We now have the distance of each point from its centroid for values of K from 1 to 9, corresponding to the nine arrays in the above list. The average distance is calcualted below. "
   ]
  },
  {
   "cell_type": "code",
   "execution_count": 25,
   "metadata": {},
   "outputs": [
    {
     "data": {
      "text/plain": [
       "[0.52150685651567363,\n",
       " 0.31560394221907967,\n",
       " 0.26192995836739907,\n",
       " 0.22304635633142861,\n",
       " 0.20351363027848668,\n",
       " 0.1845436636813661,\n",
       " 0.17269575930592401,\n",
       " 0.15977088930478062]"
      ]
     },
     "execution_count": 25,
     "metadata": {},
     "output_type": "execute_result"
    }
   ],
   "source": [
    "avg_within = [np.sum(dist)/fm8.shape[0] for dist in distances] \n",
    "avg_within"
   ]
  },
  {
   "cell_type": "markdown",
   "metadata": {},
   "source": [
    "The WSS measure is calculated by summing the squares of the distance."
   ]
  },
  {
   "cell_type": "code",
   "execution_count": 26,
   "metadata": {},
   "outputs": [
    {
     "data": {
      "text/plain": [
       "[30192.859477541006,\n",
       " 12375.261423620881,\n",
       " 8145.2768700629113,\n",
       " 6000.4684955637704,\n",
       " 5011.6820526566353,\n",
       " 4101.4629048941415,\n",
       " 3536.5241829303486,\n",
       " 3040.5510254734859]"
      ]
     },
     "execution_count": 26,
     "metadata": {},
     "output_type": "execute_result"
    }
   ],
   "source": [
    "with_in_sum_square = [np.sum(dist ** 2) for dist in distances]\n",
    "with_in_sum_square"
   ]
  },
  {
   "cell_type": "markdown",
   "metadata": {},
   "source": [
    "We can see that there is a significant reduction in WSS from K = 1 to 2, and also for K = 2 to 3. In order to determine the best number of clusters, we have to plot the WSS values and find the 'elbow' in it. "
   ]
  },
  {
   "cell_type": "markdown",
   "metadata": {},
   "source": [
    "## Elbow Plot to determine optimal K "
   ]
  },
  {
   "cell_type": "code",
   "execution_count": 29,
   "metadata": {},
   "outputs": [
    {
     "data": {
      "text/plain": [
       "<matplotlib.text.Text at 0x1a0d080438>"
      ]
     },
     "execution_count": 29,
     "metadata": {},
     "output_type": "execute_result"
    },
    {
     "data": {
      "image/png": "[encoded data removed]",
      "text/plain": [
       "<matplotlib.figure.Figure at 0x1a0c8f3ac8>"
      ]
     },
     "metadata": {},
     "output_type": "display_data"
    }
   ],
   "source": [
    "fig, ax = plt.subplots(figsize=(12,8))\n",
    "plt.style.use('ggplot')\n",
    "ax.plot(totclust, with_in_sum_square, 'g*-')\n",
    "ax.plot(totclust[2], with_in_sum_square[2], marker='o', markersize=12, \n",
    "                markeredgewidth=2, markeredgecolor='r', markerfacecolor='None')\n",
    "plt.xlabel('Number of clusters')\n",
    "plt.ylabel('Within Sum of squares')\n",
    "plt.title('Elbow for KMeans clustering (Medicare Provider Data)')"
   ]
  },
  {
   "cell_type": "markdown",
   "metadata": {},
   "source": [
    "We can see that K = 3 is the optimal clustering number. "
   ]
  },
  {
   "cell_type": "markdown",
   "metadata": {},
   "source": [
    "## K-Means Clustering"
   ]
  },
  {
   "cell_type": "markdown",
   "metadata": {},
   "source": [
    "The K-means clustering algorithm is applied on our dataset for K = 3 and the predicted clusters are stored in y. "
   ]
  },
  {
   "cell_type": "code",
   "execution_count": 32,
   "metadata": {
    "collapsed": true
   },
   "outputs": [],
   "source": [
    "km2 = KMeans(n_clusters=3)"
   ]
  },
  {
   "cell_type": "code",
   "execution_count": 33,
   "metadata": {},
   "outputs": [
    {
     "data": {
      "text/plain": [
       "KMeans(algorithm='auto', copy_x=True, init='k-means++', max_iter=300,\n",
       "    n_clusters=3, n_init=10, n_jobs=1, precompute_distances='auto',\n",
       "    random_state=None, tol=0.0001, verbose=0)"
      ]
     },
     "execution_count": 33,
     "metadata": {},
     "output_type": "execute_result"
    }
   ],
   "source": [
    "km2.fit(fm6)"
   ]
  },
  {
   "cell_type": "code",
   "execution_count": 35,
   "metadata": {},
   "outputs": [],
   "source": [
    "y = km2.predict(fm6)"
   ]
  },
  {
   "cell_type": "code",
   "execution_count": 36,
   "metadata": {
    "collapsed": true
   },
   "outputs": [],
   "source": [
    "fm9 = fm"
   ]
  },
  {
   "cell_type": "code",
   "execution_count": 37,
   "metadata": {
    "collapsed": true
   },
   "outputs": [],
   "source": [
    "fm9['cluster'] = y"
   ]
  },
  {
   "cell_type": "code",
   "execution_count": 38,
   "metadata": {},
   "outputs": [
    {
     "data": {
      "text/html": [
       "<div>\n",
       "<style>\n",
       "    .dataframe thead tr:only-child th {\n",
       "        text-align: right;\n",
       "    }\n",
       "\n",
       "    .dataframe thead th {\n",
       "        text-align: left;\n",
       "    }\n",
       "\n",
       "    .dataframe tbody tr th {\n",
       "        vertical-align: top;\n",
       "    }\n",
       "</style>\n",
       "<table border=\"1\" class=\"dataframe\">\n",
       "  <thead>\n",
       "    <tr style=\"text-align: right;\">\n",
       "      <th></th>\n",
       "      <th>npi</th>\n",
       "      <th>nppes_provider_last_org_name</th>\n",
       "      <th>nppes_provider_first_name</th>\n",
       "      <th>nppes_provider_mi</th>\n",
       "      <th>nppes_credentials</th>\n",
       "      <th>nppes_provider_gender</th>\n",
       "      <th>nppes_entity_code</th>\n",
       "      <th>nppes_provider_street1</th>\n",
       "      <th>nppes_provider_street2</th>\n",
       "      <th>nppes_provider_city</th>\n",
       "      <th>...</th>\n",
       "      <th>hcpcs_drug_indicator</th>\n",
       "      <th>line_srvc_cnt</th>\n",
       "      <th>bene_unique_cnt</th>\n",
       "      <th>bene_day_srvc_cnt</th>\n",
       "      <th>average_Medicare_allowed_amt</th>\n",
       "      <th>average_submitted_chrg_amt</th>\n",
       "      <th>average_Medicare_payment_amt</th>\n",
       "      <th>average_Medicare_standard_amt</th>\n",
       "      <th>Full Name</th>\n",
       "      <th>cluster</th>\n",
       "    </tr>\n",
       "  </thead>\n",
       "  <tbody>\n",
       "    <tr>\n",
       "      <th>5787308</th>\n",
       "      <td>1629007331</td>\n",
       "      <td>GABLIANI</td>\n",
       "      <td>GREGORY</td>\n",
       "      <td>I</td>\n",
       "      <td>M.D.</td>\n",
       "      <td>M</td>\n",
       "      <td>I</td>\n",
       "      <td>11133 DUNN RD</td>\n",
       "      <td>SUITE 2346</td>\n",
       "      <td>ST LOUIS</td>\n",
       "      <td>...</td>\n",
       "      <td>N</td>\n",
       "      <td>14.0</td>\n",
       "      <td>13.0</td>\n",
       "      <td>14.0</td>\n",
       "      <td>15.320000</td>\n",
       "      <td>40.0</td>\n",
       "      <td>10.294286</td>\n",
       "      <td>11.535714</td>\n",
       "      <td>GREGORY GABLIANI</td>\n",
       "      <td>1</td>\n",
       "    </tr>\n",
       "    <tr>\n",
       "      <th>2901692</th>\n",
       "      <td>1316029382</td>\n",
       "      <td>WELCH</td>\n",
       "      <td>DAMON</td>\n",
       "      <td>E</td>\n",
       "      <td>M.D.</td>\n",
       "      <td>M</td>\n",
       "      <td>I</td>\n",
       "      <td>407 AVENUE K SE</td>\n",
       "      <td>NaN</td>\n",
       "      <td>WINTER HAVEN</td>\n",
       "      <td>...</td>\n",
       "      <td>N</td>\n",
       "      <td>66.0</td>\n",
       "      <td>66.0</td>\n",
       "      <td>66.0</td>\n",
       "      <td>107.560000</td>\n",
       "      <td>209.0</td>\n",
       "      <td>77.875455</td>\n",
       "      <td>78.088939</td>\n",
       "      <td>DAMON WELCH</td>\n",
       "      <td>2</td>\n",
       "    </tr>\n",
       "    <tr>\n",
       "      <th>4154148</th>\n",
       "      <td>1447287404</td>\n",
       "      <td>FOTEH</td>\n",
       "      <td>ABEER</td>\n",
       "      <td>M</td>\n",
       "      <td>D.P.M.</td>\n",
       "      <td>F</td>\n",
       "      <td>I</td>\n",
       "      <td>1666 W BAKER RD STE C</td>\n",
       "      <td>NaN</td>\n",
       "      <td>BAYTOWN</td>\n",
       "      <td>...</td>\n",
       "      <td>N</td>\n",
       "      <td>168.0</td>\n",
       "      <td>61.0</td>\n",
       "      <td>168.0</td>\n",
       "      <td>77.390000</td>\n",
       "      <td>150.0</td>\n",
       "      <td>56.450952</td>\n",
       "      <td>56.543393</td>\n",
       "      <td>ABEER FOTEH</td>\n",
       "      <td>0</td>\n",
       "    </tr>\n",
       "    <tr>\n",
       "      <th>4107722</th>\n",
       "      <td>1447210117</td>\n",
       "      <td>GREEN</td>\n",
       "      <td>JONATHAN</td>\n",
       "      <td>M</td>\n",
       "      <td>PAC</td>\n",
       "      <td>M</td>\n",
       "      <td>I</td>\n",
       "      <td>1 GUTHRIE SQ</td>\n",
       "      <td>NaN</td>\n",
       "      <td>SAYRE</td>\n",
       "      <td>...</td>\n",
       "      <td>N</td>\n",
       "      <td>280.0</td>\n",
       "      <td>228.0</td>\n",
       "      <td>280.0</td>\n",
       "      <td>88.338929</td>\n",
       "      <td>209.0</td>\n",
       "      <td>56.111107</td>\n",
       "      <td>72.051500</td>\n",
       "      <td>JONATHAN GREEN</td>\n",
       "      <td>0</td>\n",
       "    </tr>\n",
       "    <tr>\n",
       "      <th>4997670</th>\n",
       "      <td>1538193487</td>\n",
       "      <td>SUNSHINE</td>\n",
       "      <td>JEFFREY</td>\n",
       "      <td>L</td>\n",
       "      <td>MD</td>\n",
       "      <td>M</td>\n",
       "      <td>I</td>\n",
       "      <td>11100 EUCLID AVE</td>\n",
       "      <td>NaN</td>\n",
       "      <td>CLEVELAND</td>\n",
       "      <td>...</td>\n",
       "      <td>N</td>\n",
       "      <td>153.0</td>\n",
       "      <td>141.0</td>\n",
       "      <td>150.0</td>\n",
       "      <td>39.467516</td>\n",
       "      <td>168.0</td>\n",
       "      <td>28.986471</td>\n",
       "      <td>30.366144</td>\n",
       "      <td>JEFFREY SUNSHINE</td>\n",
       "      <td>0</td>\n",
       "    </tr>\n",
       "  </tbody>\n",
       "</table>\n",
       "<p>5 rows × 28 columns</p>\n",
       "</div>"
      ],
      "text/plain": [
       "                npi nppes_provider_last_org_name nppes_provider_first_name  \\\n",
       "5787308  1629007331                     GABLIANI                   GREGORY   \n",
       "2901692  1316029382                        WELCH                     DAMON   \n",
       "4154148  1447287404                        FOTEH                     ABEER   \n",
       "4107722  1447210117                        GREEN                  JONATHAN   \n",
       "4997670  1538193487                     SUNSHINE                   JEFFREY   \n",
       "\n",
       "        nppes_provider_mi nppes_credentials nppes_provider_gender  \\\n",
       "5787308                 I              M.D.                     M   \n",
       "2901692                 E              M.D.                     M   \n",
       "4154148                 M            D.P.M.                     F   \n",
       "4107722                 M               PAC                     M   \n",
       "4997670                 L                MD                     M   \n",
       "\n",
       "        nppes_entity_code nppes_provider_street1 nppes_provider_street2  \\\n",
       "5787308                 I          11133 DUNN RD             SUITE 2346   \n",
       "2901692                 I        407 AVENUE K SE                    NaN   \n",
       "4154148                 I  1666 W BAKER RD STE C                    NaN   \n",
       "4107722                 I           1 GUTHRIE SQ                    NaN   \n",
       "4997670                 I       11100 EUCLID AVE                    NaN   \n",
       "\n",
       "        nppes_provider_city   ...    hcpcs_drug_indicator line_srvc_cnt  \\\n",
       "5787308            ST LOUIS   ...                       N          14.0   \n",
       "2901692        WINTER HAVEN   ...                       N          66.0   \n",
       "4154148             BAYTOWN   ...                       N         168.0   \n",
       "4107722               SAYRE   ...                       N         280.0   \n",
       "4997670           CLEVELAND   ...                       N         153.0   \n",
       "\n",
       "        bene_unique_cnt bene_day_srvc_cnt average_Medicare_allowed_amt  \\\n",
       "5787308            13.0              14.0                    15.320000   \n",
       "2901692            66.0              66.0                   107.560000   \n",
       "4154148            61.0             168.0                    77.390000   \n",
       "4107722           228.0             280.0                    88.338929   \n",
       "4997670           141.0             150.0                    39.467516   \n",
       "\n",
       "        average_submitted_chrg_amt average_Medicare_payment_amt  \\\n",
       "5787308                       40.0                    10.294286   \n",
       "2901692                      209.0                    77.875455   \n",
       "4154148                      150.0                    56.450952   \n",
       "4107722                      209.0                    56.111107   \n",
       "4997670                      168.0                    28.986471   \n",
       "\n",
       "        average_Medicare_standard_amt         Full Name  cluster  \n",
       "5787308                     11.535714  GREGORY GABLIANI        1  \n",
       "2901692                     78.088939       DAMON WELCH        2  \n",
       "4154148                     56.543393       ABEER FOTEH        0  \n",
       "4107722                     72.051500    JONATHAN GREEN        0  \n",
       "4997670                     30.366144  JEFFREY SUNSHINE        0  \n",
       "\n",
       "[5 rows x 28 columns]"
      ]
     },
     "execution_count": 38,
     "metadata": {},
     "output_type": "execute_result"
    }
   ],
   "source": [
    "fm9.head()"
   ]
  },
  {
   "cell_type": "markdown",
   "metadata": {},
   "source": [
    "Gender distribution in each cluster."
   ]
  },
  {
   "cell_type": "code",
   "execution_count": 39,
   "metadata": {},
   "outputs": [
    {
     "data": {
      "text/html": [
       "<div>\n",
       "<style>\n",
       "    .dataframe thead tr:only-child th {\n",
       "        text-align: right;\n",
       "    }\n",
       "\n",
       "    .dataframe thead th {\n",
       "        text-align: left;\n",
       "    }\n",
       "\n",
       "    .dataframe tbody tr th {\n",
       "        vertical-align: top;\n",
       "    }\n",
       "</style>\n",
       "<table border=\"1\" class=\"dataframe\">\n",
       "  <thead>\n",
       "    <tr style=\"text-align: right;\">\n",
       "      <th>cluster</th>\n",
       "      <th>0</th>\n",
       "      <th>1</th>\n",
       "      <th>2</th>\n",
       "      <th>All</th>\n",
       "    </tr>\n",
       "    <tr>\n",
       "      <th>nppes_provider_gender</th>\n",
       "      <th></th>\n",
       "      <th></th>\n",
       "      <th></th>\n",
       "      <th></th>\n",
       "    </tr>\n",
       "  </thead>\n",
       "  <tbody>\n",
       "    <tr>\n",
       "      <th>F</th>\n",
       "      <td>12262</td>\n",
       "      <td>9253</td>\n",
       "      <td>5080</td>\n",
       "      <td>26595</td>\n",
       "    </tr>\n",
       "    <tr>\n",
       "      <th>M</th>\n",
       "      <td>32410</td>\n",
       "      <td>29070</td>\n",
       "      <td>11925</td>\n",
       "      <td>73405</td>\n",
       "    </tr>\n",
       "    <tr>\n",
       "      <th>All</th>\n",
       "      <td>44672</td>\n",
       "      <td>38323</td>\n",
       "      <td>17005</td>\n",
       "      <td>100000</td>\n",
       "    </tr>\n",
       "  </tbody>\n",
       "</table>\n",
       "</div>"
      ],
      "text/plain": [
       "cluster                    0      1      2     All\n",
       "nppes_provider_gender                             \n",
       "F                      12262   9253   5080   26595\n",
       "M                      32410  29070  11925   73405\n",
       "All                    44672  38323  17005  100000"
      ]
     },
     "execution_count": 39,
     "metadata": {},
     "output_type": "execute_result"
    }
   ],
   "source": [
    "pd.crosstab(fm9.nppes_provider_gender, fm9.cluster, margins=True)"
   ]
  },
  {
   "cell_type": "code",
   "execution_count": 40,
   "metadata": {
    "collapsed": true
   },
   "outputs": [],
   "source": [
    "fp = km2.cluster_centers_"
   ]
  },
  {
   "cell_type": "markdown",
   "metadata": {},
   "source": [
    "## 3-D plot of centroids"
   ]
  },
  {
   "cell_type": "code",
   "execution_count": 41,
   "metadata": {},
   "outputs": [
    {
     "data": {
      "text/plain": [
       "<matplotlib.text.Text at 0x1a0f504860>"
      ]
     },
     "execution_count": 41,
     "metadata": {},
     "output_type": "execute_result"
    },
    {
     "data": {
      "image/png": "[encoded data removed]",
      "text/plain": [
       "<matplotlib.figure.Figure at 0x1a0d06dfd0>"
      ]
     },
     "metadata": {},
     "output_type": "display_data"
    }
   ],
   "source": [
    "fig = plt.figure()\n",
    "ax = fig.add_subplot(111,projection='3d')\n",
    "ax.scatter(fp[0,0], fp[0,1], fp[0,2], s= 100, c=\"red\")\n",
    "ax.scatter(fp[1,0], fp[1,1], fp[1,2], s= 100, c=\"blue\")\n",
    "ax.scatter(fp[2,0], fp[2,1], fp[2,2], s = 100, c=\"green\")\n",
    "ax.set_title(\"3D plot of the centroids of the 3 clusters\")"
   ]
  },
  {
   "cell_type": "code",
   "execution_count": 46,
   "metadata": {
    "collapsed": true
   },
   "outputs": [],
   "source": [
    "ddf = fm6\n",
    "ddf['cluster'] = y"
   ]
  },
  {
   "cell_type": "code",
   "execution_count": 50,
   "metadata": {},
   "outputs": [],
   "source": [
    "ddf1 = ddf[ddf.cluster == 0]\n",
    "ddf2 = ddf[ddf.cluster == 1]\n",
    "ddf3 = ddf[ddf.cluster == 2]"
   ]
  },
  {
   "cell_type": "markdown",
   "metadata": {},
   "source": [
    "### Visualizing all three clusters"
   ]
  },
  {
   "cell_type": "code",
   "execution_count": 56,
   "metadata": {},
   "outputs": [
    {
     "data": {
      "text/plain": [
       "<mpl_toolkits.mplot3d.art3d.Path3DCollection at 0x1a219d24e0>"
      ]
     },
     "execution_count": 56,
     "metadata": {},
     "output_type": "execute_result"
    },
    {
     "data": {
      "image/png": "[encoded data removed]",
      "text/plain": [
       "<matplotlib.figure.Figure at 0x1a188986d8>"
      ]
     },
     "metadata": {},
     "output_type": "display_data"
    }
   ],
   "source": [
    "fig = plt.figure()\n",
    "ax = fig.add_subplot(111,projection='3d')\n",
    "ax.scatter(ddf1.comp1, ddf1.comp2, ddf1.comp3, c = \"red\")\n",
    "ax.scatter(ddf2.comp1, ddf2.comp2, ddf2.comp3, c = \"blue\")\n",
    "ax.scatter(ddf3.comp1, ddf3.comp2, ddf3.comp3, c = \"green\")"
   ]
  },
  {
   "cell_type": "markdown",
   "metadata": {},
   "source": [
    "Let us analyse all three clusters through simple descriptions. "
   ]
  },
  {
   "cell_type": "code",
   "execution_count": 59,
   "metadata": {},
   "outputs": [
    {
     "data": {
      "text/html": [
       "<div>\n",
       "<style>\n",
       "    .dataframe thead tr:only-child th {\n",
       "        text-align: right;\n",
       "    }\n",
       "\n",
       "    .dataframe thead th {\n",
       "        text-align: left;\n",
       "    }\n",
       "\n",
       "    .dataframe tbody tr th {\n",
       "        vertical-align: top;\n",
       "    }\n",
       "</style>\n",
       "<table border=\"1\" class=\"dataframe\">\n",
       "  <thead>\n",
       "    <tr style=\"text-align: right;\">\n",
       "      <th></th>\n",
       "      <th>line_srvc_cnt</th>\n",
       "      <th>bene_day_srvc_cnt</th>\n",
       "      <th>average_submitted_chrg_amt</th>\n",
       "      <th>average_Medicare_standard_amt</th>\n",
       "    </tr>\n",
       "  </thead>\n",
       "  <tbody>\n",
       "    <tr>\n",
       "      <th>count</th>\n",
       "      <td>44672.000000</td>\n",
       "      <td>44672.000000</td>\n",
       "      <td>44672.000000</td>\n",
       "      <td>44672.000000</td>\n",
       "    </tr>\n",
       "    <tr>\n",
       "      <th>mean</th>\n",
       "      <td>389.089237</td>\n",
       "      <td>221.535884</td>\n",
       "      <td>86.753039</td>\n",
       "      <td>31.594700</td>\n",
       "    </tr>\n",
       "    <tr>\n",
       "      <th>std</th>\n",
       "      <td>2870.304394</td>\n",
       "      <td>342.736898</td>\n",
       "      <td>90.115338</td>\n",
       "      <td>31.700739</td>\n",
       "    </tr>\n",
       "    <tr>\n",
       "      <th>min</th>\n",
       "      <td>11.000000</td>\n",
       "      <td>11.000000</td>\n",
       "      <td>0.010000</td>\n",
       "      <td>0.000000</td>\n",
       "    </tr>\n",
       "    <tr>\n",
       "      <th>25%</th>\n",
       "      <td>56.000000</td>\n",
       "      <td>49.000000</td>\n",
       "      <td>28.790880</td>\n",
       "      <td>8.044457</td>\n",
       "    </tr>\n",
       "    <tr>\n",
       "      <th>50%</th>\n",
       "      <td>125.000000</td>\n",
       "      <td>110.000000</td>\n",
       "      <td>57.326146</td>\n",
       "      <td>20.774747</td>\n",
       "    </tr>\n",
       "    <tr>\n",
       "      <th>75%</th>\n",
       "      <td>288.000000</td>\n",
       "      <td>248.000000</td>\n",
       "      <td>120.807518</td>\n",
       "      <td>50.440963</td>\n",
       "    </tr>\n",
       "    <tr>\n",
       "      <th>max</th>\n",
       "      <td>300000.000000</td>\n",
       "      <td>9540.000000</td>\n",
       "      <td>2582.000000</td>\n",
       "      <td>768.130380</td>\n",
       "    </tr>\n",
       "  </tbody>\n",
       "</table>\n",
       "</div>"
      ],
      "text/plain": [
       "       line_srvc_cnt  bene_day_srvc_cnt  average_submitted_chrg_amt  \\\n",
       "count   44672.000000       44672.000000                44672.000000   \n",
       "mean      389.089237         221.535884                   86.753039   \n",
       "std      2870.304394         342.736898                   90.115338   \n",
       "min        11.000000          11.000000                    0.010000   \n",
       "25%        56.000000          49.000000                   28.790880   \n",
       "50%       125.000000         110.000000                   57.326146   \n",
       "75%       288.000000         248.000000                  120.807518   \n",
       "max    300000.000000        9540.000000                 2582.000000   \n",
       "\n",
       "       average_Medicare_standard_amt  \n",
       "count                   44672.000000  \n",
       "mean                       31.594700  \n",
       "std                        31.700739  \n",
       "min                         0.000000  \n",
       "25%                         8.044457  \n",
       "50%                        20.774747  \n",
       "75%                        50.440963  \n",
       "max                       768.130380  "
      ]
     },
     "execution_count": 59,
     "metadata": {},
     "output_type": "execute_result"
    }
   ],
   "source": [
    "fm9[fm9.cluster==0][['line_srvc_cnt', 'bene_day_srvc_cnt','average_submitted_chrg_amt','average_Medicare_standard_amt']].describe()"
   ]
  },
  {
   "cell_type": "code",
   "execution_count": 60,
   "metadata": {},
   "outputs": [
    {
     "data": {
      "text/html": [
       "<div>\n",
       "<style>\n",
       "    .dataframe thead tr:only-child th {\n",
       "        text-align: right;\n",
       "    }\n",
       "\n",
       "    .dataframe thead th {\n",
       "        text-align: left;\n",
       "    }\n",
       "\n",
       "    .dataframe tbody tr th {\n",
       "        vertical-align: top;\n",
       "    }\n",
       "</style>\n",
       "<table border=\"1\" class=\"dataframe\">\n",
       "  <thead>\n",
       "    <tr style=\"text-align: right;\">\n",
       "      <th></th>\n",
       "      <th>line_srvc_cnt</th>\n",
       "      <th>bene_day_srvc_cnt</th>\n",
       "      <th>average_submitted_chrg_amt</th>\n",
       "      <th>average_Medicare_standard_amt</th>\n",
       "    </tr>\n",
       "  </thead>\n",
       "  <tbody>\n",
       "    <tr>\n",
       "      <th>count</th>\n",
       "      <td>38323.000000</td>\n",
       "      <td>38323.000000</td>\n",
       "      <td>38323.000000</td>\n",
       "      <td>38323.000000</td>\n",
       "    </tr>\n",
       "    <tr>\n",
       "      <th>mean</th>\n",
       "      <td>38.541920</td>\n",
       "      <td>37.068575</td>\n",
       "      <td>601.453271</td>\n",
       "      <td>109.972847</td>\n",
       "    </tr>\n",
       "    <tr>\n",
       "      <th>std</th>\n",
       "      <td>47.690176</td>\n",
       "      <td>44.994637</td>\n",
       "      <td>1149.772700</td>\n",
       "      <td>211.579874</td>\n",
       "    </tr>\n",
       "    <tr>\n",
       "      <th>min</th>\n",
       "      <td>11.000000</td>\n",
       "      <td>11.000000</td>\n",
       "      <td>21.000000</td>\n",
       "      <td>0.013043</td>\n",
       "    </tr>\n",
       "    <tr>\n",
       "      <th>25%</th>\n",
       "      <td>15.000000</td>\n",
       "      <td>15.000000</td>\n",
       "      <td>162.000000</td>\n",
       "      <td>34.385224</td>\n",
       "    </tr>\n",
       "    <tr>\n",
       "      <th>50%</th>\n",
       "      <td>24.000000</td>\n",
       "      <td>23.000000</td>\n",
       "      <td>300.000000</td>\n",
       "      <td>66.981290</td>\n",
       "    </tr>\n",
       "    <tr>\n",
       "      <th>75%</th>\n",
       "      <td>42.000000</td>\n",
       "      <td>41.000000</td>\n",
       "      <td>606.000000</td>\n",
       "      <td>119.818109</td>\n",
       "    </tr>\n",
       "    <tr>\n",
       "      <th>max</th>\n",
       "      <td>1663.000000</td>\n",
       "      <td>1663.000000</td>\n",
       "      <td>50000.000000</td>\n",
       "      <td>11801.571838</td>\n",
       "    </tr>\n",
       "  </tbody>\n",
       "</table>\n",
       "</div>"
      ],
      "text/plain": [
       "       line_srvc_cnt  bene_day_srvc_cnt  average_submitted_chrg_amt  \\\n",
       "count   38323.000000       38323.000000                38323.000000   \n",
       "mean       38.541920          37.068575                  601.453271   \n",
       "std        47.690176          44.994637                 1149.772700   \n",
       "min        11.000000          11.000000                   21.000000   \n",
       "25%        15.000000          15.000000                  162.000000   \n",
       "50%        24.000000          23.000000                  300.000000   \n",
       "75%        42.000000          41.000000                  606.000000   \n",
       "max      1663.000000        1663.000000                50000.000000   \n",
       "\n",
       "       average_Medicare_standard_amt  \n",
       "count                   38323.000000  \n",
       "mean                      109.972847  \n",
       "std                       211.579874  \n",
       "min                         0.013043  \n",
       "25%                        34.385224  \n",
       "50%                        66.981290  \n",
       "75%                       119.818109  \n",
       "max                     11801.571838  "
      ]
     },
     "execution_count": 60,
     "metadata": {},
     "output_type": "execute_result"
    }
   ],
   "source": [
    "fm9[fm9.cluster==1][['line_srvc_cnt', 'bene_day_srvc_cnt','average_submitted_chrg_amt','average_Medicare_standard_amt']].describe()"
   ]
  },
  {
   "cell_type": "code",
   "execution_count": 61,
   "metadata": {},
   "outputs": [
    {
     "data": {
      "text/html": [
       "<div>\n",
       "<style>\n",
       "    .dataframe thead tr:only-child th {\n",
       "        text-align: right;\n",
       "    }\n",
       "\n",
       "    .dataframe thead th {\n",
       "        text-align: left;\n",
       "    }\n",
       "\n",
       "    .dataframe tbody tr th {\n",
       "        vertical-align: top;\n",
       "    }\n",
       "</style>\n",
       "<table border=\"1\" class=\"dataframe\">\n",
       "  <thead>\n",
       "    <tr style=\"text-align: right;\">\n",
       "      <th></th>\n",
       "      <th>line_srvc_cnt</th>\n",
       "      <th>bene_day_srvc_cnt</th>\n",
       "      <th>average_submitted_chrg_amt</th>\n",
       "      <th>average_Medicare_standard_amt</th>\n",
       "    </tr>\n",
       "  </thead>\n",
       "  <tbody>\n",
       "    <tr>\n",
       "      <th>count</th>\n",
       "      <td>17005.000000</td>\n",
       "      <td>17005.000000</td>\n",
       "      <td>17005.000000</td>\n",
       "      <td>17005.000000</td>\n",
       "    </tr>\n",
       "    <tr>\n",
       "      <th>mean</th>\n",
       "      <td>36.133549</td>\n",
       "      <td>35.222229</td>\n",
       "      <td>187.789165</td>\n",
       "      <td>100.970882</td>\n",
       "    </tr>\n",
       "    <tr>\n",
       "      <th>std</th>\n",
       "      <td>31.936444</td>\n",
       "      <td>27.940753</td>\n",
       "      <td>415.383448</td>\n",
       "      <td>259.489105</td>\n",
       "    </tr>\n",
       "    <tr>\n",
       "      <th>min</th>\n",
       "      <td>11.000000</td>\n",
       "      <td>11.000000</td>\n",
       "      <td>7.000000</td>\n",
       "      <td>8.990000</td>\n",
       "    </tr>\n",
       "    <tr>\n",
       "      <th>25%</th>\n",
       "      <td>17.000000</td>\n",
       "      <td>17.000000</td>\n",
       "      <td>93.190000</td>\n",
       "      <td>51.547059</td>\n",
       "    </tr>\n",
       "    <tr>\n",
       "      <th>50%</th>\n",
       "      <td>26.000000</td>\n",
       "      <td>26.000000</td>\n",
       "      <td>149.166667</td>\n",
       "      <td>79.175667</td>\n",
       "    </tr>\n",
       "    <tr>\n",
       "      <th>75%</th>\n",
       "      <td>44.000000</td>\n",
       "      <td>44.000000</td>\n",
       "      <td>218.656716</td>\n",
       "      <td>112.526818</td>\n",
       "    </tr>\n",
       "    <tr>\n",
       "      <th>max</th>\n",
       "      <td>730.000000</td>\n",
       "      <td>521.000000</td>\n",
       "      <td>40000.000000</td>\n",
       "      <td>26854.000000</td>\n",
       "    </tr>\n",
       "  </tbody>\n",
       "</table>\n",
       "</div>"
      ],
      "text/plain": [
       "       line_srvc_cnt  bene_day_srvc_cnt  average_submitted_chrg_amt  \\\n",
       "count   17005.000000       17005.000000                17005.000000   \n",
       "mean       36.133549          35.222229                  187.789165   \n",
       "std        31.936444          27.940753                  415.383448   \n",
       "min        11.000000          11.000000                    7.000000   \n",
       "25%        17.000000          17.000000                   93.190000   \n",
       "50%        26.000000          26.000000                  149.166667   \n",
       "75%        44.000000          44.000000                  218.656716   \n",
       "max       730.000000         521.000000                40000.000000   \n",
       "\n",
       "       average_Medicare_standard_amt  \n",
       "count                   17005.000000  \n",
       "mean                      100.970882  \n",
       "std                       259.489105  \n",
       "min                         8.990000  \n",
       "25%                        51.547059  \n",
       "50%                        79.175667  \n",
       "75%                       112.526818  \n",
       "max                     26854.000000  "
      ]
     },
     "execution_count": 61,
     "metadata": {},
     "output_type": "execute_result"
    }
   ],
   "source": [
    "fm9[fm9.cluster==2][['line_srvc_cnt', 'bene_day_srvc_cnt','average_submitted_chrg_amt','average_Medicare_standard_amt']].describe()"
   ]
  },
  {
   "cell_type": "markdown",
   "metadata": {},
   "source": [
    "From the description of the 3 clusters above, we can attribute a particular characteristic to each cluster.\n",
    "\n",
    "Cluster 0 -  High volume Low cost Services\n",
    "\n",
    "Cluster 1 -  Low volume High cost Services\n",
    "\n",
    "Cluster 2 -  Low volume Medium cost Services"
   ]
  },
  {
   "cell_type": "markdown",
   "metadata": {},
   "source": [
    "## Services vs Cost vs Clusters"
   ]
  },
  {
   "cell_type": "code",
   "execution_count": 79,
   "metadata": {
    "scrolled": true
   },
   "outputs": [
    {
     "data": {
      "text/plain": [
       "<matplotlib.text.Text at 0x1a2406c550>"
      ]
     },
     "execution_count": 79,
     "metadata": {},
     "output_type": "execute_result"
    },
    {
     "data": {
      "image/png": "[encoded data removed]",
      "text/plain": [
       "<matplotlib.figure.Figure at 0x1a272c2f60>"
      ]
     },
     "metadata": {},
     "output_type": "display_data"
    }
   ],
   "source": [
    "fig, ax = plt.subplots(figsize=(15,4))\n",
    "ax.scatter(fm9['bene_day_srvc_cnt'], fm9['average_Medicare_standard_amt'], c= fm9['cluster'])\n",
    "ax.set_xlabel(\"Number of Services\")\n",
    "ax.set_ylabel(\"Amount Paid by Medicare\")\n",
    "ax.set_title(\"Services vs Cost vs Clusters\")"
   ]
  },
  {
   "cell_type": "markdown",
   "metadata": {},
   "source": [
    "In the Number of Services vs Amount Paid scatter plot above, we can see the three clusters shaded in different colors corresponding to the three clusters resulting from K-means modeling. There is one clear outlier with almost negligible number of services but having the highest paid amount at above 25000. Let us examine that service in more detail."
   ]
  },
  {
   "cell_type": "code",
   "execution_count": 75,
   "metadata": {},
   "outputs": [
    {
     "data": {
      "text/plain": [
       "3472009    Q2043\n",
       "Name: hcpcs_code, dtype: object"
      ]
     },
     "execution_count": 75,
     "metadata": {},
     "output_type": "execute_result"
    }
   ],
   "source": [
    "fm9[fm9['average_Medicare_standard_amt']>25000]['hcpcs_code']"
   ]
  },
  {
   "cell_type": "markdown",
   "metadata": {},
   "source": [
    "It is the same drug that we had examined earlier as being used for the treatment of Prostate cancer. Still it is concerning that this particular physician is getting reimbursed the highest for this treatment. Let us have a look at how other doctors who prescribe this drug are charging. "
   ]
  },
  {
   "cell_type": "code",
   "execution_count": 76,
   "metadata": {},
   "outputs": [
    {
     "data": {
      "text/html": [
       "<div>\n",
       "<style>\n",
       "    .dataframe thead tr:only-child th {\n",
       "        text-align: right;\n",
       "    }\n",
       "\n",
       "    .dataframe thead th {\n",
       "        text-align: left;\n",
       "    }\n",
       "\n",
       "    .dataframe tbody tr th {\n",
       "        vertical-align: top;\n",
       "    }\n",
       "</style>\n",
       "<table border=\"1\" class=\"dataframe\">\n",
       "  <thead>\n",
       "    <tr style=\"text-align: right;\">\n",
       "      <th></th>\n",
       "      <th>npi</th>\n",
       "      <th>nppes_provider_last_org_name</th>\n",
       "      <th>nppes_provider_first_name</th>\n",
       "      <th>nppes_provider_mi</th>\n",
       "      <th>nppes_credentials</th>\n",
       "      <th>nppes_provider_gender</th>\n",
       "      <th>nppes_entity_code</th>\n",
       "      <th>nppes_provider_street1</th>\n",
       "      <th>nppes_provider_street2</th>\n",
       "      <th>nppes_provider_city</th>\n",
       "      <th>...</th>\n",
       "      <th>hcpcs_description</th>\n",
       "      <th>hcpcs_drug_indicator</th>\n",
       "      <th>line_srvc_cnt</th>\n",
       "      <th>bene_unique_cnt</th>\n",
       "      <th>bene_day_srvc_cnt</th>\n",
       "      <th>average_Medicare_allowed_amt</th>\n",
       "      <th>average_submitted_chrg_amt</th>\n",
       "      <th>average_Medicare_payment_amt</th>\n",
       "      <th>average_Medicare_standard_amt</th>\n",
       "      <th>Full Name</th>\n",
       "    </tr>\n",
       "  </thead>\n",
       "  <tbody>\n",
       "    <tr>\n",
       "      <th>951171</th>\n",
       "      <td>1104801851</td>\n",
       "      <td>CONCEPCION</td>\n",
       "      <td>RAOUL</td>\n",
       "      <td>S</td>\n",
       "      <td>MD</td>\n",
       "      <td>M</td>\n",
       "      <td>I</td>\n",
       "      <td>2801 CHARLOTTE AVE</td>\n",
       "      <td>NaN</td>\n",
       "      <td>NASHVILLE</td>\n",
       "      <td>...</td>\n",
       "      <td>Sipuleucel-t, minimum of 50 million autologous...</td>\n",
       "      <td>Y</td>\n",
       "      <td>26.0</td>\n",
       "      <td>12.0</td>\n",
       "      <td>26.0</td>\n",
       "      <td>34640.981923</td>\n",
       "      <td>40000.000000</td>\n",
       "      <td>25042.083846</td>\n",
       "      <td>25042.083846</td>\n",
       "      <td>RAOUL CONCEPCION</td>\n",
       "    </tr>\n",
       "    <tr>\n",
       "      <th>1160403</th>\n",
       "      <td>1124085634</td>\n",
       "      <td>EBER</td>\n",
       "      <td>PAUL</td>\n",
       "      <td>R</td>\n",
       "      <td>M.D.</td>\n",
       "      <td>M</td>\n",
       "      <td>I</td>\n",
       "      <td>1325 WOLF PARK DR</td>\n",
       "      <td>SUITE 102</td>\n",
       "      <td>GERMANTOWN</td>\n",
       "      <td>...</td>\n",
       "      <td>Sipuleucel-t, minimum of 50 million autologous...</td>\n",
       "      <td>Y</td>\n",
       "      <td>28.0</td>\n",
       "      <td>11.0</td>\n",
       "      <td>28.0</td>\n",
       "      <td>34766.928929</td>\n",
       "      <td>59500.000000</td>\n",
       "      <td>27257.270000</td>\n",
       "      <td>27257.270000</td>\n",
       "      <td>PAUL EBER</td>\n",
       "    </tr>\n",
       "    <tr>\n",
       "      <th>2171857</th>\n",
       "      <td>1235152109</td>\n",
       "      <td>WANG</td>\n",
       "      <td>CHING-KUN</td>\n",
       "      <td>NaN</td>\n",
       "      <td>M.D.</td>\n",
       "      <td>M</td>\n",
       "      <td>I</td>\n",
       "      <td>811 W I-20</td>\n",
       "      <td>STE 132</td>\n",
       "      <td>ARLINGTON</td>\n",
       "      <td>...</td>\n",
       "      <td>Sipuleucel-t, minimum of 50 million autologous...</td>\n",
       "      <td>Y</td>\n",
       "      <td>31.0</td>\n",
       "      <td>13.0</td>\n",
       "      <td>31.0</td>\n",
       "      <td>34694.515806</td>\n",
       "      <td>47554.000000</td>\n",
       "      <td>27200.498387</td>\n",
       "      <td>27200.498387</td>\n",
       "      <td>CHING-KUN WANG</td>\n",
       "    </tr>\n",
       "    <tr>\n",
       "      <th>3069581</th>\n",
       "      <td>1326236597</td>\n",
       "      <td>JONES</td>\n",
       "      <td>PAMELA</td>\n",
       "      <td>M</td>\n",
       "      <td>R.N., N.P.</td>\n",
       "      <td>F</td>\n",
       "      <td>I</td>\n",
       "      <td>130 TOWN CENTER DR</td>\n",
       "      <td>SUITE 101</td>\n",
       "      <td>TROY</td>\n",
       "      <td>...</td>\n",
       "      <td>Sipuleucel-t, minimum of 50 million autologous...</td>\n",
       "      <td>Y</td>\n",
       "      <td>37.0</td>\n",
       "      <td>16.0</td>\n",
       "      <td>37.0</td>\n",
       "      <td>34774.037297</td>\n",
       "      <td>36000.000000</td>\n",
       "      <td>26538.585676</td>\n",
       "      <td>26538.585676</td>\n",
       "      <td>PAMELA JONES</td>\n",
       "    </tr>\n",
       "    <tr>\n",
       "      <th>3472009</th>\n",
       "      <td>1376530121</td>\n",
       "      <td>PIECZONKA</td>\n",
       "      <td>CHRISTOPHER</td>\n",
       "      <td>M</td>\n",
       "      <td>M.D.</td>\n",
       "      <td>M</td>\n",
       "      <td>I</td>\n",
       "      <td>1226 E WATER ST</td>\n",
       "      <td>NaN</td>\n",
       "      <td>SYRACUSE</td>\n",
       "      <td>...</td>\n",
       "      <td>Sipuleucel-t, minimum of 50 million autologous...</td>\n",
       "      <td>Y</td>\n",
       "      <td>15.0</td>\n",
       "      <td>11.0</td>\n",
       "      <td>15.0</td>\n",
       "      <td>34267.480667</td>\n",
       "      <td>40000.000000</td>\n",
       "      <td>26854.000000</td>\n",
       "      <td>26854.000000</td>\n",
       "      <td>CHRISTOPHER PIECZONKA</td>\n",
       "    </tr>\n",
       "    <tr>\n",
       "      <th>4746436</th>\n",
       "      <td>1508961814</td>\n",
       "      <td>OLSSON</td>\n",
       "      <td>CARL</td>\n",
       "      <td>A</td>\n",
       "      <td>M.D.</td>\n",
       "      <td>M</td>\n",
       "      <td>I</td>\n",
       "      <td>3111 NEW HYDE PARK RD</td>\n",
       "      <td>FIRST FLOOR</td>\n",
       "      <td>NEW HYDE PARK</td>\n",
       "      <td>...</td>\n",
       "      <td>Sipuleucel-t, minimum of 50 million autologous...</td>\n",
       "      <td>Y</td>\n",
       "      <td>41.0</td>\n",
       "      <td>17.0</td>\n",
       "      <td>41.0</td>\n",
       "      <td>34271.327805</td>\n",
       "      <td>93000.000000</td>\n",
       "      <td>26868.720488</td>\n",
       "      <td>26868.720488</td>\n",
       "      <td>CARL OLSSON</td>\n",
       "    </tr>\n",
       "    <tr>\n",
       "      <th>5168968</th>\n",
       "      <td>1558361154</td>\n",
       "      <td>VOGELZANG</td>\n",
       "      <td>NICHOLAS</td>\n",
       "      <td>J</td>\n",
       "      <td>MD</td>\n",
       "      <td>M</td>\n",
       "      <td>I</td>\n",
       "      <td>3730 S EASTERN AVE</td>\n",
       "      <td>NaN</td>\n",
       "      <td>LAS VEGAS</td>\n",
       "      <td>...</td>\n",
       "      <td>Sipuleucel-t, minimum of 50 million autologous...</td>\n",
       "      <td>Y</td>\n",
       "      <td>39.0</td>\n",
       "      <td>16.0</td>\n",
       "      <td>39.0</td>\n",
       "      <td>34422.569487</td>\n",
       "      <td>95408.333333</td>\n",
       "      <td>26384.816923</td>\n",
       "      <td>26384.816923</td>\n",
       "      <td>NICHOLAS VOGELZANG</td>\n",
       "    </tr>\n",
       "    <tr>\n",
       "      <th>5367338</th>\n",
       "      <td>1578584959</td>\n",
       "      <td>LOWENTRITT</td>\n",
       "      <td>BENJAMIN</td>\n",
       "      <td>H</td>\n",
       "      <td>M.D.</td>\n",
       "      <td>M</td>\n",
       "      <td>I</td>\n",
       "      <td>3333 N CALVERT ST</td>\n",
       "      <td>STE 600</td>\n",
       "      <td>BALTIMORE</td>\n",
       "      <td>...</td>\n",
       "      <td>Sipuleucel-t, minimum of 50 million autologous...</td>\n",
       "      <td>Y</td>\n",
       "      <td>47.0</td>\n",
       "      <td>36.0</td>\n",
       "      <td>47.0</td>\n",
       "      <td>34312.290000</td>\n",
       "      <td>66000.000000</td>\n",
       "      <td>26316.268298</td>\n",
       "      <td>26316.268298</td>\n",
       "      <td>BENJAMIN LOWENTRITT</td>\n",
       "    </tr>\n",
       "    <tr>\n",
       "      <th>5671275</th>\n",
       "      <td>1609893221</td>\n",
       "      <td>MARTIN</td>\n",
       "      <td>BENJAMIN</td>\n",
       "      <td>J</td>\n",
       "      <td>MD</td>\n",
       "      <td>M</td>\n",
       "      <td>I</td>\n",
       "      <td>1220 E ELM ST</td>\n",
       "      <td>SUITE 101</td>\n",
       "      <td>LIMA</td>\n",
       "      <td>...</td>\n",
       "      <td>Sipuleucel-t, minimum of 50 million autologous...</td>\n",
       "      <td>Y</td>\n",
       "      <td>29.0</td>\n",
       "      <td>14.0</td>\n",
       "      <td>29.0</td>\n",
       "      <td>34484.914828</td>\n",
       "      <td>65000.000000</td>\n",
       "      <td>27031.044828</td>\n",
       "      <td>27031.044828</td>\n",
       "      <td>BENJAMIN MARTIN</td>\n",
       "    </tr>\n",
       "    <tr>\n",
       "      <th>6919155</th>\n",
       "      <td>1740243906</td>\n",
       "      <td>GOLDSTEIN</td>\n",
       "      <td>DAVID</td>\n",
       "      <td>S</td>\n",
       "      <td>M.D.</td>\n",
       "      <td>M</td>\n",
       "      <td>I</td>\n",
       "      <td>6535 N CHARLES ST</td>\n",
       "      <td>SUITE 625</td>\n",
       "      <td>BALTIMORE</td>\n",
       "      <td>...</td>\n",
       "      <td>Sipuleucel-t, minimum of 50 million autologous...</td>\n",
       "      <td>Y</td>\n",
       "      <td>70.0</td>\n",
       "      <td>41.0</td>\n",
       "      <td>70.0</td>\n",
       "      <td>34662.293000</td>\n",
       "      <td>66000.000000</td>\n",
       "      <td>26390.249286</td>\n",
       "      <td>26390.249286</td>\n",
       "      <td>DAVID GOLDSTEIN</td>\n",
       "    </tr>\n",
       "    <tr>\n",
       "      <th>6988443</th>\n",
       "      <td>1740596105</td>\n",
       "      <td>FORSYTHE</td>\n",
       "      <td>KEVIN</td>\n",
       "      <td>NaN</td>\n",
       "      <td>M.D.</td>\n",
       "      <td>M</td>\n",
       "      <td>I</td>\n",
       "      <td>1457 G ST</td>\n",
       "      <td>NaN</td>\n",
       "      <td>SPRINGFIELD</td>\n",
       "      <td>...</td>\n",
       "      <td>Sipuleucel-t, minimum of 50 million autologous...</td>\n",
       "      <td>Y</td>\n",
       "      <td>30.0</td>\n",
       "      <td>14.0</td>\n",
       "      <td>30.0</td>\n",
       "      <td>34732.065333</td>\n",
       "      <td>44333.333333</td>\n",
       "      <td>27226.096333</td>\n",
       "      <td>27226.096333</td>\n",
       "      <td>KEVIN FORSYTHE</td>\n",
       "    </tr>\n",
       "    <tr>\n",
       "      <th>7186710</th>\n",
       "      <td>1770525073</td>\n",
       "      <td>KIRSH</td>\n",
       "      <td>GARY</td>\n",
       "      <td>M</td>\n",
       "      <td>MD</td>\n",
       "      <td>M</td>\n",
       "      <td>I</td>\n",
       "      <td>10220 ALLIANCE RD</td>\n",
       "      <td>NaN</td>\n",
       "      <td>BLUE ASH</td>\n",
       "      <td>...</td>\n",
       "      <td>Sipuleucel-t, minimum of 50 million autologous...</td>\n",
       "      <td>Y</td>\n",
       "      <td>37.0</td>\n",
       "      <td>18.0</td>\n",
       "      <td>37.0</td>\n",
       "      <td>34432.413784</td>\n",
       "      <td>37975.000000</td>\n",
       "      <td>26994.108649</td>\n",
       "      <td>26994.108649</td>\n",
       "      <td>GARY KIRSH</td>\n",
       "    </tr>\n",
       "    <tr>\n",
       "      <th>7276065</th>\n",
       "      <td>1780620047</td>\n",
       "      <td>KUHN</td>\n",
       "      <td>ERIC</td>\n",
       "      <td>J</td>\n",
       "      <td>MD</td>\n",
       "      <td>M</td>\n",
       "      <td>I</td>\n",
       "      <td>3301 MERCY HEALTH BLVD</td>\n",
       "      <td>SUITE 525</td>\n",
       "      <td>CINCINNATI</td>\n",
       "      <td>...</td>\n",
       "      <td>Sipuleucel-t, minimum of 50 million autologous...</td>\n",
       "      <td>Y</td>\n",
       "      <td>12.0</td>\n",
       "      <td>11.0</td>\n",
       "      <td>12.0</td>\n",
       "      <td>33986.640000</td>\n",
       "      <td>37975.000000</td>\n",
       "      <td>26645.067500</td>\n",
       "      <td>26645.067500</td>\n",
       "      <td>ERIC KUHN</td>\n",
       "    </tr>\n",
       "    <tr>\n",
       "      <th>7592970</th>\n",
       "      <td>1811925258</td>\n",
       "      <td>LAM</td>\n",
       "      <td>RICHARD</td>\n",
       "      <td>Y</td>\n",
       "      <td>M.D.</td>\n",
       "      <td>M</td>\n",
       "      <td>I</td>\n",
       "      <td>4676 ADMIRALTY WAY</td>\n",
       "      <td>SUITE 101</td>\n",
       "      <td>MARINA DEL REY</td>\n",
       "      <td>...</td>\n",
       "      <td>Sipuleucel-t, minimum of 50 million autologous...</td>\n",
       "      <td>Y</td>\n",
       "      <td>21.0</td>\n",
       "      <td>12.0</td>\n",
       "      <td>21.0</td>\n",
       "      <td>34678.662857</td>\n",
       "      <td>41904.761905</td>\n",
       "      <td>26921.612381</td>\n",
       "      <td>26921.612381</td>\n",
       "      <td>RICHARD LAM</td>\n",
       "    </tr>\n",
       "    <tr>\n",
       "      <th>7843110</th>\n",
       "      <td>1841239142</td>\n",
       "      <td>GIANAKOPOULOS</td>\n",
       "      <td>WILLIAM</td>\n",
       "      <td>P</td>\n",
       "      <td>M.D.</td>\n",
       "      <td>M</td>\n",
       "      <td>I</td>\n",
       "      <td>340 E TOWN ST</td>\n",
       "      <td>STE 7-200</td>\n",
       "      <td>COLUMBUS</td>\n",
       "      <td>...</td>\n",
       "      <td>Sipuleucel-t, minimum of 50 million autologous...</td>\n",
       "      <td>Y</td>\n",
       "      <td>14.0</td>\n",
       "      <td>11.0</td>\n",
       "      <td>14.0</td>\n",
       "      <td>34431.045714</td>\n",
       "      <td>65000.000000</td>\n",
       "      <td>26985.707857</td>\n",
       "      <td>26985.707857</td>\n",
       "      <td>WILLIAM GIANAKOPOULOS</td>\n",
       "    </tr>\n",
       "    <tr>\n",
       "      <th>8693236</th>\n",
       "      <td>1932161155</td>\n",
       "      <td>REDDY</td>\n",
       "      <td>PAVAN</td>\n",
       "      <td>S</td>\n",
       "      <td>M.D.</td>\n",
       "      <td>M</td>\n",
       "      <td>I</td>\n",
       "      <td>818 N EMPORIA ST</td>\n",
       "      <td>SUITE 403</td>\n",
       "      <td>WICHITA</td>\n",
       "      <td>...</td>\n",
       "      <td>Sipuleucel-t, minimum of 50 million autologous...</td>\n",
       "      <td>Y</td>\n",
       "      <td>22.0</td>\n",
       "      <td>13.0</td>\n",
       "      <td>22.0</td>\n",
       "      <td>34646.998636</td>\n",
       "      <td>48825.000000</td>\n",
       "      <td>27163.245455</td>\n",
       "      <td>27163.245455</td>\n",
       "      <td>PAVAN REDDY</td>\n",
       "    </tr>\n",
       "    <tr>\n",
       "      <th>9007810</th>\n",
       "      <td>1962539759</td>\n",
       "      <td>MEHTA</td>\n",
       "      <td>PARTHIV</td>\n",
       "      <td>S</td>\n",
       "      <td>M.D.</td>\n",
       "      <td>M</td>\n",
       "      <td>I</td>\n",
       "      <td>2600 PATRIOT BLVD</td>\n",
       "      <td>STE J</td>\n",
       "      <td>GLENVIEW</td>\n",
       "      <td>...</td>\n",
       "      <td>Sipuleucel-t, minimum of 50 million autologous...</td>\n",
       "      <td>Y</td>\n",
       "      <td>33.0</td>\n",
       "      <td>11.0</td>\n",
       "      <td>33.0</td>\n",
       "      <td>34513.143636</td>\n",
       "      <td>98000.000000</td>\n",
       "      <td>27058.303333</td>\n",
       "      <td>27058.303333</td>\n",
       "      <td>PARTHIV MEHTA</td>\n",
       "    </tr>\n",
       "  </tbody>\n",
       "</table>\n",
       "<p>17 rows × 27 columns</p>\n",
       "</div>"
      ],
      "text/plain": [
       "                npi nppes_provider_last_org_name nppes_provider_first_name  \\\n",
       "951171   1104801851                   CONCEPCION                     RAOUL   \n",
       "1160403  1124085634                         EBER                      PAUL   \n",
       "2171857  1235152109                         WANG                 CHING-KUN   \n",
       "3069581  1326236597                        JONES                    PAMELA   \n",
       "3472009  1376530121                    PIECZONKA               CHRISTOPHER   \n",
       "4746436  1508961814                       OLSSON                      CARL   \n",
       "5168968  1558361154                    VOGELZANG                  NICHOLAS   \n",
       "5367338  1578584959                   LOWENTRITT                  BENJAMIN   \n",
       "5671275  1609893221                       MARTIN                  BENJAMIN   \n",
       "6919155  1740243906                    GOLDSTEIN                     DAVID   \n",
       "6988443  1740596105                     FORSYTHE                     KEVIN   \n",
       "7186710  1770525073                        KIRSH                      GARY   \n",
       "7276065  1780620047                         KUHN                      ERIC   \n",
       "7592970  1811925258                          LAM                   RICHARD   \n",
       "7843110  1841239142                GIANAKOPOULOS                   WILLIAM   \n",
       "8693236  1932161155                        REDDY                     PAVAN   \n",
       "9007810  1962539759                        MEHTA                   PARTHIV   \n",
       "\n",
       "        nppes_provider_mi nppes_credentials nppes_provider_gender  \\\n",
       "951171                  S                MD                     M   \n",
       "1160403                 R              M.D.                     M   \n",
       "2171857               NaN              M.D.                     M   \n",
       "3069581                 M        R.N., N.P.                     F   \n",
       "3472009                 M              M.D.                     M   \n",
       "4746436                 A              M.D.                     M   \n",
       "5168968                 J                MD                     M   \n",
       "5367338                 H              M.D.                     M   \n",
       "5671275                 J                MD                     M   \n",
       "6919155                 S              M.D.                     M   \n",
       "6988443               NaN              M.D.                     M   \n",
       "7186710                 M                MD                     M   \n",
       "7276065                 J                MD                     M   \n",
       "7592970                 Y              M.D.                     M   \n",
       "7843110                 P              M.D.                     M   \n",
       "8693236                 S              M.D.                     M   \n",
       "9007810                 S              M.D.                     M   \n",
       "\n",
       "        nppes_entity_code  nppes_provider_street1 nppes_provider_street2  \\\n",
       "951171                  I      2801 CHARLOTTE AVE                    NaN   \n",
       "1160403                 I       1325 WOLF PARK DR              SUITE 102   \n",
       "2171857                 I              811 W I-20                STE 132   \n",
       "3069581                 I      130 TOWN CENTER DR              SUITE 101   \n",
       "3472009                 I         1226 E WATER ST                    NaN   \n",
       "4746436                 I   3111 NEW HYDE PARK RD            FIRST FLOOR   \n",
       "5168968                 I      3730 S EASTERN AVE                    NaN   \n",
       "5367338                 I       3333 N CALVERT ST                STE 600   \n",
       "5671275                 I           1220 E ELM ST              SUITE 101   \n",
       "6919155                 I       6535 N CHARLES ST              SUITE 625   \n",
       "6988443                 I               1457 G ST                    NaN   \n",
       "7186710                 I       10220 ALLIANCE RD                    NaN   \n",
       "7276065                 I  3301 MERCY HEALTH BLVD              SUITE 525   \n",
       "7592970                 I      4676 ADMIRALTY WAY              SUITE 101   \n",
       "7843110                 I           340 E TOWN ST              STE 7-200   \n",
       "8693236                 I        818 N EMPORIA ST              SUITE 403   \n",
       "9007810                 I       2600 PATRIOT BLVD                  STE J   \n",
       "\n",
       "        nppes_provider_city          ...            \\\n",
       "951171            NASHVILLE          ...             \n",
       "1160403          GERMANTOWN          ...             \n",
       "2171857           ARLINGTON          ...             \n",
       "3069581                TROY          ...             \n",
       "3472009            SYRACUSE          ...             \n",
       "4746436       NEW HYDE PARK          ...             \n",
       "5168968           LAS VEGAS          ...             \n",
       "5367338           BALTIMORE          ...             \n",
       "5671275                LIMA          ...             \n",
       "6919155           BALTIMORE          ...             \n",
       "6988443         SPRINGFIELD          ...             \n",
       "7186710            BLUE ASH          ...             \n",
       "7276065          CINCINNATI          ...             \n",
       "7592970      MARINA DEL REY          ...             \n",
       "7843110            COLUMBUS          ...             \n",
       "8693236             WICHITA          ...             \n",
       "9007810            GLENVIEW          ...             \n",
       "\n",
       "                                         hcpcs_description  \\\n",
       "951171   Sipuleucel-t, minimum of 50 million autologous...   \n",
       "1160403  Sipuleucel-t, minimum of 50 million autologous...   \n",
       "2171857  Sipuleucel-t, minimum of 50 million autologous...   \n",
       "3069581  Sipuleucel-t, minimum of 50 million autologous...   \n",
       "3472009  Sipuleucel-t, minimum of 50 million autologous...   \n",
       "4746436  Sipuleucel-t, minimum of 50 million autologous...   \n",
       "5168968  Sipuleucel-t, minimum of 50 million autologous...   \n",
       "5367338  Sipuleucel-t, minimum of 50 million autologous...   \n",
       "5671275  Sipuleucel-t, minimum of 50 million autologous...   \n",
       "6919155  Sipuleucel-t, minimum of 50 million autologous...   \n",
       "6988443  Sipuleucel-t, minimum of 50 million autologous...   \n",
       "7186710  Sipuleucel-t, minimum of 50 million autologous...   \n",
       "7276065  Sipuleucel-t, minimum of 50 million autologous...   \n",
       "7592970  Sipuleucel-t, minimum of 50 million autologous...   \n",
       "7843110  Sipuleucel-t, minimum of 50 million autologous...   \n",
       "8693236  Sipuleucel-t, minimum of 50 million autologous...   \n",
       "9007810  Sipuleucel-t, minimum of 50 million autologous...   \n",
       "\n",
       "        hcpcs_drug_indicator line_srvc_cnt bene_unique_cnt bene_day_srvc_cnt  \\\n",
       "951171                     Y          26.0            12.0              26.0   \n",
       "1160403                    Y          28.0            11.0              28.0   \n",
       "2171857                    Y          31.0            13.0              31.0   \n",
       "3069581                    Y          37.0            16.0              37.0   \n",
       "3472009                    Y          15.0            11.0              15.0   \n",
       "4746436                    Y          41.0            17.0              41.0   \n",
       "5168968                    Y          39.0            16.0              39.0   \n",
       "5367338                    Y          47.0            36.0              47.0   \n",
       "5671275                    Y          29.0            14.0              29.0   \n",
       "6919155                    Y          70.0            41.0              70.0   \n",
       "6988443                    Y          30.0            14.0              30.0   \n",
       "7186710                    Y          37.0            18.0              37.0   \n",
       "7276065                    Y          12.0            11.0              12.0   \n",
       "7592970                    Y          21.0            12.0              21.0   \n",
       "7843110                    Y          14.0            11.0              14.0   \n",
       "8693236                    Y          22.0            13.0              22.0   \n",
       "9007810                    Y          33.0            11.0              33.0   \n",
       "\n",
       "        average_Medicare_allowed_amt average_submitted_chrg_amt  \\\n",
       "951171                  34640.981923               40000.000000   \n",
       "1160403                 34766.928929               59500.000000   \n",
       "2171857                 34694.515806               47554.000000   \n",
       "3069581                 34774.037297               36000.000000   \n",
       "3472009                 34267.480667               40000.000000   \n",
       "4746436                 34271.327805               93000.000000   \n",
       "5168968                 34422.569487               95408.333333   \n",
       "5367338                 34312.290000               66000.000000   \n",
       "5671275                 34484.914828               65000.000000   \n",
       "6919155                 34662.293000               66000.000000   \n",
       "6988443                 34732.065333               44333.333333   \n",
       "7186710                 34432.413784               37975.000000   \n",
       "7276065                 33986.640000               37975.000000   \n",
       "7592970                 34678.662857               41904.761905   \n",
       "7843110                 34431.045714               65000.000000   \n",
       "8693236                 34646.998636               48825.000000   \n",
       "9007810                 34513.143636               98000.000000   \n",
       "\n",
       "        average_Medicare_payment_amt average_Medicare_standard_amt  \\\n",
       "951171                  25042.083846                  25042.083846   \n",
       "1160403                 27257.270000                  27257.270000   \n",
       "2171857                 27200.498387                  27200.498387   \n",
       "3069581                 26538.585676                  26538.585676   \n",
       "3472009                 26854.000000                  26854.000000   \n",
       "4746436                 26868.720488                  26868.720488   \n",
       "5168968                 26384.816923                  26384.816923   \n",
       "5367338                 26316.268298                  26316.268298   \n",
       "5671275                 27031.044828                  27031.044828   \n",
       "6919155                 26390.249286                  26390.249286   \n",
       "6988443                 27226.096333                  27226.096333   \n",
       "7186710                 26994.108649                  26994.108649   \n",
       "7276065                 26645.067500                  26645.067500   \n",
       "7592970                 26921.612381                  26921.612381   \n",
       "7843110                 26985.707857                  26985.707857   \n",
       "8693236                 27163.245455                  27163.245455   \n",
       "9007810                 27058.303333                  27058.303333   \n",
       "\n",
       "                     Full Name  \n",
       "951171        RAOUL CONCEPCION  \n",
       "1160403              PAUL EBER  \n",
       "2171857         CHING-KUN WANG  \n",
       "3069581           PAMELA JONES  \n",
       "3472009  CHRISTOPHER PIECZONKA  \n",
       "4746436            CARL OLSSON  \n",
       "5168968     NICHOLAS VOGELZANG  \n",
       "5367338    BENJAMIN LOWENTRITT  \n",
       "5671275        BENJAMIN MARTIN  \n",
       "6919155        DAVID GOLDSTEIN  \n",
       "6988443         KEVIN FORSYTHE  \n",
       "7186710             GARY KIRSH  \n",
       "7276065              ERIC KUHN  \n",
       "7592970            RICHARD LAM  \n",
       "7843110  WILLIAM GIANAKOPOULOS  \n",
       "8693236            PAVAN REDDY  \n",
       "9007810          PARTHIV MEHTA  \n",
       "\n",
       "[17 rows x 27 columns]"
      ]
     },
     "execution_count": 76,
     "metadata": {},
     "output_type": "execute_result"
    }
   ],
   "source": [
    "individuals1[individuals1['hcpcs_code'] == 'Q2043']"
   ]
  },
  {
   "cell_type": "markdown",
   "metadata": {},
   "source": [
    "From the list above we can see that there isn't any suspicious billing for this treatment as all the physicians treating prostate cancer have had more or less similar number of services and associated costs. \n",
    "\n",
    "Now let us also examine the outlier on the x-axis, the one with the highest number of services but lowest cost. "
   ]
  },
  {
   "cell_type": "code",
   "execution_count": 81,
   "metadata": {},
   "outputs": [
    {
     "data": {
      "text/plain": [
       "195284    80053\n",
       "Name: hcpcs_code, dtype: object"
      ]
     },
     "execution_count": 81,
     "metadata": {},
     "output_type": "execute_result"
    }
   ],
   "source": [
    "fm9[fm9['bene_day_srvc_cnt'] > 8000]['hcpcs_code']"
   ]
  },
  {
   "cell_type": "markdown",
   "metadata": {},
   "source": [
    "From the HCPCS code lookup, 80053 is \"Comprehensive metabolic panel. ... The comprehensive metabolic panel, or chemical screen, (CMP; CPT code 80053) is a panel of 14 blood tests which serves as an initial broad medical screening tool\"."
   ]
  },
  {
   "cell_type": "code",
   "execution_count": 84,
   "metadata": {},
   "outputs": [
    {
     "data": {
      "text/html": [
       "<div>\n",
       "<style>\n",
       "    .dataframe thead tr:only-child th {\n",
       "        text-align: right;\n",
       "    }\n",
       "\n",
       "    .dataframe thead th {\n",
       "        text-align: left;\n",
       "    }\n",
       "\n",
       "    .dataframe tbody tr th {\n",
       "        vertical-align: top;\n",
       "    }\n",
       "</style>\n",
       "<table border=\"1\" class=\"dataframe\">\n",
       "  <thead>\n",
       "    <tr style=\"text-align: right;\">\n",
       "      <th></th>\n",
       "      <th>bene_day_srvc_cnt</th>\n",
       "      <th>average_Medicare_standard_amt</th>\n",
       "    </tr>\n",
       "  </thead>\n",
       "  <tbody>\n",
       "    <tr>\n",
       "      <th>count</th>\n",
       "      <td>25278.000000</td>\n",
       "      <td>25278.000000</td>\n",
       "    </tr>\n",
       "    <tr>\n",
       "      <th>mean</th>\n",
       "      <td>302.720904</td>\n",
       "      <td>11.878940</td>\n",
       "    </tr>\n",
       "    <tr>\n",
       "      <th>std</th>\n",
       "      <td>778.458665</td>\n",
       "      <td>1.763281</td>\n",
       "    </tr>\n",
       "    <tr>\n",
       "      <th>min</th>\n",
       "      <td>11.000000</td>\n",
       "      <td>0.000000</td>\n",
       "    </tr>\n",
       "    <tr>\n",
       "      <th>25%</th>\n",
       "      <td>40.000000</td>\n",
       "      <td>10.894721</td>\n",
       "    </tr>\n",
       "    <tr>\n",
       "      <th>50%</th>\n",
       "      <td>129.000000</td>\n",
       "      <td>12.092407</td>\n",
       "    </tr>\n",
       "    <tr>\n",
       "      <th>75%</th>\n",
       "      <td>365.750000</td>\n",
       "      <td>13.188170</td>\n",
       "    </tr>\n",
       "    <tr>\n",
       "      <th>max</th>\n",
       "      <td>66101.000000</td>\n",
       "      <td>18.805000</td>\n",
       "    </tr>\n",
       "  </tbody>\n",
       "</table>\n",
       "</div>"
      ],
      "text/plain": [
       "       bene_day_srvc_cnt  average_Medicare_standard_amt\n",
       "count       25278.000000                   25278.000000\n",
       "mean          302.720904                      11.878940\n",
       "std           778.458665                       1.763281\n",
       "min            11.000000                       0.000000\n",
       "25%            40.000000                      10.894721\n",
       "50%           129.000000                      12.092407\n",
       "75%           365.750000                      13.188170\n",
       "max         66101.000000                      18.805000"
      ]
     },
     "execution_count": 84,
     "metadata": {},
     "output_type": "execute_result"
    }
   ],
   "source": [
    "individuals1[individuals1['hcpcs_code'] == '80053'][['bene_day_srvc_cnt', 'average_Medicare_standard_amt']].describe()"
   ]
  },
  {
   "cell_type": "markdown",
   "metadata": {},
   "source": [
    "We can observe from the above list that 50% of the service counts for this HCPCS code lie between 40 and 365. But there are a considerable number of doctors who are prescribing this blood test more often, upto around 66000! This might be a cause for concern, as they may be needlessly taking more tests for more payment from Medicare. This might be another good methodology to find clues on fradulent billings. \n",
    "\n",
    "We can also look at the HCPCS composition and Provider Specialty composition in each of the clusters for further clues. "
   ]
  },
  {
   "cell_type": "markdown",
   "metadata": {},
   "source": [
    "# Conclusion"
   ]
  },
  {
   "cell_type": "markdown",
   "metadata": {},
   "source": [
    "We have thus analyzed our dataset for four different ways of fraud and abuse detection analysis. \n",
    "\n",
    "a) Method 1 : Basic explorations and visualizations.\n",
    "\n",
    "b) Method 2 : Similarity grouping based on HCPCS codes. \n",
    "\n",
    "c) Method 3 : Complexity of Clinical visits. \n",
    "\n",
    "d) Method 4 : Clustering and the resulting outliers, as well as the composition of each clusters. \n",
    "\n",
    "With enough domain knowledge and with the application of machine learning algorithms, we can tackle the persistent problem of healthcare fraud and abuse, and reduce loss.  "
   ]
  }
 ],
 "metadata": {
  "kernelspec": {
   "display_name": "Python 3",
   "language": "python",
   "name": "python3"
  },
  "language_info": {
   "codemirror_mode": {
    "name": "ipython",
    "version": 3
   },
   "file_extension": ".py",
   "mimetype": "text/x-python",
   "name": "python",
   "nbconvert_exporter": "python",
   "pygments_lexer": "ipython3",
   "version": "3.6.2"
  },
  "toc": {
   "nav_menu": {},
   "number_sections": true,
   "sideBar": true,
   "skip_h1_title": false,
   "toc_cell": true,
   "toc_position": {
    "height": "537px",
    "left": "0px",
    "right": "1229.57px",
    "top": "107px",
    "width": "326px"
   },
   "toc_section_display": "block",
   "toc_window_display": true
  }
 },
 "nbformat": 4,
 "nbformat_minor": 2
}
